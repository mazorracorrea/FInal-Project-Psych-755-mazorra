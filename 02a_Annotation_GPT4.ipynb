{
 "cells": [
  {
   "cell_type": "markdown",
   "id": "ed92d8b7-24e9-4784-a874-1606d721876e",
   "metadata": {},
   "source": [
    "**PART 2: GPT as a coder for the training dataset**"
   ]
  },
  {
   "cell_type": "markdown",
   "id": "7f56c2d2-cc1a-4462-a6e4-8c7649727d89",
   "metadata": {},
   "source": [
    "Note: This codebook is for coding the sample database we created. The coding process can be manual, or in this case, we are going to use ChatGPT and its contextual capabilities as a human coder of the sanitized text of a sample of the tweets. The objective of this notebook is to create a function and execute that function to ask GPT through the API to act as a human coder and produce a codification of the tweets. The function is to pass the dataset of the sample to ChatGPT and OpenAI, to include GPT and its contextual response as a first-hand coder. We will pass the 1000 database to the GPT code and then create a new dataset with the codification. This code will serve as the training data for the machine learning classifier. We use the JSON file to mask the API key for OpenAI. Any attempt to replicate this code will need to include their own OpenAI API key.\n",
    "#Update: my quota for Open.Ai was reached at 93% of processing of the sample. We safely have 926 tweets classified with OpenAI. The cost for this in the api was USD $8.64.\n",
    "\n",
    "**Structure:**\n",
    "\n",
    "Library: Import libraries.\n",
    "\n",
    "Loads the OpenAI API key from a secrets.json file and initializes the OpenAI client.\n",
    "\n",
    "Prompt: A  polarization_prompt, is crafted. This prompt instructs GPT-4 to act as a political communication expert and provides a detailed codebook, specifying the JSON output format with fields that have our dependent variables with columns like polar_score, pole_label, valid, and comments.\n",
    "\n",
    "label_polarization_with_gpt Function: this function reads the 1000 tweet sample CSV we build before in the santext column. For each tweet, it constructs a user prompt and sends it to the GPT-4 model via the API. It includes error handling to manage API issues (like rate limits) and appends \"INV\" (invalid) if an error occurs.\n",
    "\n",
    "Execution and Output: the  function is called to begin the annotation process. The resulting lists of scores, labels, and comments are added as new columns to the sample DF.\n",
    "\n",
    "The final annotated DataFrame is saved to a new CSV file: debate_tweets_sample_1000_for_annotation_labeled.csv."
   ]
  },
  {
   "cell_type": "code",
   "execution_count": null,
   "id": "1012c5c1-1de1-4c15-8e62-3eb896a43bda",
   "metadata": {},
   "outputs": [],
   "source": [
    "# Libraries required\n",
    "import pandas as pd\n",
    "import json\n",
    "import time\n",
    "import os\n",
    "from tqdm import tqdm\n",
    "from openai import OpenAI"
   ]
  },
  {
   "cell_type": "code",
   "execution_count": 4,
   "id": "c0babc12-21bc-4abe-ad41-b4f925b0469d",
   "metadata": {},
   "outputs": [],
   "source": [
    "# Load API key from secrets.json (this is my API so the idea is that anyone who follows the code can do it with their own API)\n",
    "with open(\"secrets.json\") as f:\n",
    "    secrets = json.load(f)\n",
    "\n",
    "# Initialize OpenAI client\n",
    "client = OpenAI(api_key=secrets[\"openai_api_key\"])\n",
    "\n",
    "# Polarization prompt based on U.S. polarization adapted codebook\n",
    "polarization_prompt = \"\"\"\n",
    "You are a political communication expert labeling U.S. tweets based on political polarization. For each tweet, return the following in JSON format:\n",
    "\n",
    "- polar_score: a number from -7 (extreme left) to +7 (extreme right), or 'INV' if irrelevant/off-topic\n",
    "- pole_label: one of 'left', 'right', 'neutral', or 'inv'\n",
    "- valid: 1 if relevant to U.S. political debate, 0 if irrelevant\n",
    "- comments: a short optional comment or \"\" if unnecessary\n",
    "\n",
    "Use tone, intent, political figures, partisanship, and U.S. ideological cues (e.g., MAGA, neoliberal, woke). Interpret sarcasm or humor contextually.\n",
    "\n",
    "Output only a JSON like this:\n",
    "{ \"polar_score\": -4, \"pole_label\": \"left\", \"valid\": 1, \"comments\": \"\" }\n",
    "\n",
    "Now classify this tweet:\n",
    "\"\"\"\n",
    "\n",
    "# input file path\n",
    "df_path = 'data/sample/debate_tweets_sample_1000_for_annotation.csv'\n",
    "\n",
    "def label_polarization_with_gpt(df_path, text_column='santext', model='gpt-4', delay=1):\n",
    "    df = pd.read_csv(df_path)\n",
    "\n",
    "    polar_scores = []\n",
    "    pole_labels = []\n",
    "    valids = []\n",
    "    comments_list = []\n",
    "\n",
    "    for text in tqdm(df[text_column], desc=\"Classifying tweets\"):\n",
    "        try:\n",
    "            prompt = polarization_prompt + f'Tweet: \"{text.strip()}\" →'\n",
    "\n",
    "            response = client.chat.completions.create(\n",
    "                model=model,\n",
    "                messages=[\n",
    "                    {\"role\": \"system\", \"content\": \"You are a helpful assistant for political tweet labeling.\"},\n",
    "                    {\"role\": \"user\", \"content\": prompt}\n",
    "                ],\n",
    "                temperature=0,\n",
    "                max_tokens=100\n",
    "            )\n",
    "\n",
    "            # Extract model's reply\n",
    "            answer = response.choices[0].message.content.strip()\n",
    "            result = json.loads(answer)\n",
    "\n",
    "            # Store results\n",
    "            polar_scores.append(result.get(\"polar_score\", \"INV\"))\n",
    "            pole_labels.append(result.get(\"pole_label\", \"inv\"))\n",
    "            valids.append(result.get(\"valid\", 0))\n",
    "            comments_list.append(result.get(\"comments\", \"\"))\n",
    "\n",
    "        except Exception as e:\n",
    "            print(f\"Error processing tweet: {e}\")\n",
    "            polar_scores.append(\"INV\")\n",
    "            pole_labels.append(\"inv\")\n",
    "            valids.append(0)\n",
    "            comments_list.append(\"Error or parsing failure\")\n",
    "\n",
    "        time.sleep(delay)\n",
    "\n",
    "    # Add GPT labels to dataframe\n",
    "    df['polar_score'] = polar_scores\n",
    "    df['pole_label'] = pole_labels\n",
    "    df['valid'] = valids\n",
    "    df['comments'] = comments_list\n",
    "\n",
    "    # Save results\n",
    "    output_path = df_path.replace(\".csv\", \"_labeled.csv\")\n",
    "    df.to_csv(output_path, index=False)\n",
    "    print(f\"Labeled file saved to: {output_path}\")\n",
    "    return df"
   ]
  },
  {
   "cell_type": "code",
   "execution_count": 5,
   "id": "851dabc2-aced-432e-a64f-5219354d841a",
   "metadata": {},
   "outputs": [
    {
     "name": "stderr",
     "output_type": "stream",
     "text": [
      "Classifying tweets:  93%|██████████████████▌ | 929/1000 [43:39<03:24,  2.89s/it]"
     ]
    },
    {
     "name": "stdout",
     "output_type": "stream",
     "text": [
      "Error processing tweet: Error code: 429 - {'error': {'message': 'You exceeded your current quota, please check your plan and billing details. For more information on this error, read the docs: https://platform.openai.com/docs/guides/error-codes/api-errors.', 'type': 'insufficient_quota', 'param': None, 'code': 'insufficient_quota'}}\n"
     ]
    },
    {
     "name": "stderr",
     "output_type": "stream",
     "text": [
      "Classifying tweets:  93%|██████████████████▌ | 930/1000 [43:42<03:17,  2.82s/it]"
     ]
    },
    {
     "name": "stdout",
     "output_type": "stream",
     "text": [
      "Error processing tweet: Error code: 429 - {'error': {'message': 'You exceeded your current quota, please check your plan and billing details. For more information on this error, read the docs: https://platform.openai.com/docs/guides/error-codes/api-errors.', 'type': 'insufficient_quota', 'param': None, 'code': 'insufficient_quota'}}\n"
     ]
    },
    {
     "name": "stderr",
     "output_type": "stream",
     "text": [
      "Classifying tweets:  93%|██████████████████▌ | 931/1000 [43:45<03:13,  2.80s/it]"
     ]
    },
    {
     "name": "stdout",
     "output_type": "stream",
     "text": [
      "Error processing tweet: Error code: 429 - {'error': {'message': 'You exceeded your current quota, please check your plan and billing details. For more information on this error, read the docs: https://platform.openai.com/docs/guides/error-codes/api-errors.', 'type': 'insufficient_quota', 'param': None, 'code': 'insufficient_quota'}}\n"
     ]
    },
    {
     "name": "stderr",
     "output_type": "stream",
     "text": [
      "Classifying tweets:  93%|██████████████████▋ | 932/1000 [43:47<03:09,  2.79s/it]"
     ]
    },
    {
     "name": "stdout",
     "output_type": "stream",
     "text": [
      "Error processing tweet: Error code: 429 - {'error': {'message': 'You exceeded your current quota, please check your plan and billing details. For more information on this error, read the docs: https://platform.openai.com/docs/guides/error-codes/api-errors.', 'type': 'insufficient_quota', 'param': None, 'code': 'insufficient_quota'}}\n"
     ]
    },
    {
     "name": "stderr",
     "output_type": "stream",
     "text": [
      "Classifying tweets:  93%|██████████████████▋ | 933/1000 [43:50<03:03,  2.73s/it]"
     ]
    },
    {
     "name": "stdout",
     "output_type": "stream",
     "text": [
      "Error processing tweet: Error code: 429 - {'error': {'message': 'You exceeded your current quota, please check your plan and billing details. For more information on this error, read the docs: https://platform.openai.com/docs/guides/error-codes/api-errors.', 'type': 'insufficient_quota', 'param': None, 'code': 'insufficient_quota'}}\n"
     ]
    },
    {
     "name": "stderr",
     "output_type": "stream",
     "text": [
      "Classifying tweets:  93%|██████████████████▋ | 934/1000 [43:52<02:56,  2.68s/it]"
     ]
    },
    {
     "name": "stdout",
     "output_type": "stream",
     "text": [
      "Error processing tweet: Error code: 429 - {'error': {'message': 'You exceeded your current quota, please check your plan and billing details. For more information on this error, read the docs: https://platform.openai.com/docs/guides/error-codes/api-errors.', 'type': 'insufficient_quota', 'param': None, 'code': 'insufficient_quota'}}\n"
     ]
    },
    {
     "name": "stderr",
     "output_type": "stream",
     "text": [
      "Classifying tweets:  94%|██████████████████▋ | 935/1000 [43:55<02:56,  2.71s/it]"
     ]
    },
    {
     "name": "stdout",
     "output_type": "stream",
     "text": [
      "Error processing tweet: Error code: 429 - {'error': {'message': 'You exceeded your current quota, please check your plan and billing details. For more information on this error, read the docs: https://platform.openai.com/docs/guides/error-codes/api-errors.', 'type': 'insufficient_quota', 'param': None, 'code': 'insufficient_quota'}}\n"
     ]
    },
    {
     "name": "stderr",
     "output_type": "stream",
     "text": [
      "Classifying tweets:  94%|██████████████████▋ | 936/1000 [43:58<02:53,  2.71s/it]"
     ]
    },
    {
     "name": "stdout",
     "output_type": "stream",
     "text": [
      "Error processing tweet: Error code: 429 - {'error': {'message': 'You exceeded your current quota, please check your plan and billing details. For more information on this error, read the docs: https://platform.openai.com/docs/guides/error-codes/api-errors.', 'type': 'insufficient_quota', 'param': None, 'code': 'insufficient_quota'}}\n"
     ]
    },
    {
     "name": "stderr",
     "output_type": "stream",
     "text": [
      "Classifying tweets:  94%|██████████████████▋ | 937/1000 [44:01<02:51,  2.72s/it]"
     ]
    },
    {
     "name": "stdout",
     "output_type": "stream",
     "text": [
      "Error processing tweet: Error code: 429 - {'error': {'message': 'You exceeded your current quota, please check your plan and billing details. For more information on this error, read the docs: https://platform.openai.com/docs/guides/error-codes/api-errors.', 'type': 'insufficient_quota', 'param': None, 'code': 'insufficient_quota'}}\n"
     ]
    },
    {
     "name": "stderr",
     "output_type": "stream",
     "text": [
      "Classifying tweets:  94%|██████████████████▊ | 938/1000 [44:03<02:46,  2.68s/it]"
     ]
    },
    {
     "name": "stdout",
     "output_type": "stream",
     "text": [
      "Error processing tweet: Error code: 429 - {'error': {'message': 'You exceeded your current quota, please check your plan and billing details. For more information on this error, read the docs: https://platform.openai.com/docs/guides/error-codes/api-errors.', 'type': 'insufficient_quota', 'param': None, 'code': 'insufficient_quota'}}\n"
     ]
    },
    {
     "name": "stderr",
     "output_type": "stream",
     "text": [
      "Classifying tweets:  94%|██████████████████▊ | 939/1000 [44:06<02:42,  2.66s/it]"
     ]
    },
    {
     "name": "stdout",
     "output_type": "stream",
     "text": [
      "Error processing tweet: Error code: 429 - {'error': {'message': 'You exceeded your current quota, please check your plan and billing details. For more information on this error, read the docs: https://platform.openai.com/docs/guides/error-codes/api-errors.', 'type': 'insufficient_quota', 'param': None, 'code': 'insufficient_quota'}}\n"
     ]
    },
    {
     "name": "stderr",
     "output_type": "stream",
     "text": [
      "Classifying tweets:  94%|██████████████████▊ | 940/1000 [44:09<02:41,  2.68s/it]"
     ]
    },
    {
     "name": "stdout",
     "output_type": "stream",
     "text": [
      "Error processing tweet: Error code: 429 - {'error': {'message': 'You exceeded your current quota, please check your plan and billing details. For more information on this error, read the docs: https://platform.openai.com/docs/guides/error-codes/api-errors.', 'type': 'insufficient_quota', 'param': None, 'code': 'insufficient_quota'}}\n"
     ]
    },
    {
     "name": "stderr",
     "output_type": "stream",
     "text": [
      "Classifying tweets:  94%|██████████████████▊ | 941/1000 [44:11<02:39,  2.71s/it]"
     ]
    },
    {
     "name": "stdout",
     "output_type": "stream",
     "text": [
      "Error processing tweet: Error code: 429 - {'error': {'message': 'You exceeded your current quota, please check your plan and billing details. For more information on this error, read the docs: https://platform.openai.com/docs/guides/error-codes/api-errors.', 'type': 'insufficient_quota', 'param': None, 'code': 'insufficient_quota'}}\n"
     ]
    },
    {
     "name": "stderr",
     "output_type": "stream",
     "text": [
      "Classifying tweets:  94%|██████████████████▊ | 942/1000 [44:14<02:37,  2.71s/it]"
     ]
    },
    {
     "name": "stdout",
     "output_type": "stream",
     "text": [
      "Error processing tweet: Error code: 429 - {'error': {'message': 'You exceeded your current quota, please check your plan and billing details. For more information on this error, read the docs: https://platform.openai.com/docs/guides/error-codes/api-errors.', 'type': 'insufficient_quota', 'param': None, 'code': 'insufficient_quota'}}\n"
     ]
    },
    {
     "name": "stderr",
     "output_type": "stream",
     "text": [
      "Classifying tweets:  94%|██████████████████▊ | 943/1000 [44:17<02:33,  2.70s/it]"
     ]
    },
    {
     "name": "stdout",
     "output_type": "stream",
     "text": [
      "Error processing tweet: Error code: 429 - {'error': {'message': 'You exceeded your current quota, please check your plan and billing details. For more information on this error, read the docs: https://platform.openai.com/docs/guides/error-codes/api-errors.', 'type': 'insufficient_quota', 'param': None, 'code': 'insufficient_quota'}}\n"
     ]
    },
    {
     "name": "stderr",
     "output_type": "stream",
     "text": [
      "Classifying tweets:  94%|██████████████████▉ | 944/1000 [44:19<02:29,  2.66s/it]"
     ]
    },
    {
     "name": "stdout",
     "output_type": "stream",
     "text": [
      "Error processing tweet: Error code: 429 - {'error': {'message': 'You exceeded your current quota, please check your plan and billing details. For more information on this error, read the docs: https://platform.openai.com/docs/guides/error-codes/api-errors.', 'type': 'insufficient_quota', 'param': None, 'code': 'insufficient_quota'}}\n"
     ]
    },
    {
     "name": "stderr",
     "output_type": "stream",
     "text": [
      "Classifying tweets:  94%|██████████████████▉ | 945/1000 [44:22<02:27,  2.68s/it]"
     ]
    },
    {
     "name": "stdout",
     "output_type": "stream",
     "text": [
      "Error processing tweet: Error code: 429 - {'error': {'message': 'You exceeded your current quota, please check your plan and billing details. For more information on this error, read the docs: https://platform.openai.com/docs/guides/error-codes/api-errors.', 'type': 'insufficient_quota', 'param': None, 'code': 'insufficient_quota'}}\n"
     ]
    },
    {
     "name": "stderr",
     "output_type": "stream",
     "text": [
      "Classifying tweets:  95%|██████████████████▉ | 946/1000 [44:25<02:24,  2.68s/it]"
     ]
    },
    {
     "name": "stdout",
     "output_type": "stream",
     "text": [
      "Error processing tweet: Error code: 429 - {'error': {'message': 'You exceeded your current quota, please check your plan and billing details. For more information on this error, read the docs: https://platform.openai.com/docs/guides/error-codes/api-errors.', 'type': 'insufficient_quota', 'param': None, 'code': 'insufficient_quota'}}\n"
     ]
    },
    {
     "name": "stderr",
     "output_type": "stream",
     "text": [
      "Classifying tweets:  95%|██████████████████▉ | 947/1000 [44:27<02:19,  2.64s/it]"
     ]
    },
    {
     "name": "stdout",
     "output_type": "stream",
     "text": [
      "Error processing tweet: Error code: 429 - {'error': {'message': 'You exceeded your current quota, please check your plan and billing details. For more information on this error, read the docs: https://platform.openai.com/docs/guides/error-codes/api-errors.', 'type': 'insufficient_quota', 'param': None, 'code': 'insufficient_quota'}}\n"
     ]
    },
    {
     "name": "stderr",
     "output_type": "stream",
     "text": [
      "Classifying tweets:  95%|██████████████████▉ | 948/1000 [44:30<02:17,  2.65s/it]"
     ]
    },
    {
     "name": "stdout",
     "output_type": "stream",
     "text": [
      "Error processing tweet: Error code: 429 - {'error': {'message': 'You exceeded your current quota, please check your plan and billing details. For more information on this error, read the docs: https://platform.openai.com/docs/guides/error-codes/api-errors.', 'type': 'insufficient_quota', 'param': None, 'code': 'insufficient_quota'}}\n"
     ]
    },
    {
     "name": "stderr",
     "output_type": "stream",
     "text": [
      "Classifying tweets:  95%|██████████████████▉ | 949/1000 [44:33<02:12,  2.60s/it]"
     ]
    },
    {
     "name": "stdout",
     "output_type": "stream",
     "text": [
      "Error processing tweet: Error code: 429 - {'error': {'message': 'You exceeded your current quota, please check your plan and billing details. For more information on this error, read the docs: https://platform.openai.com/docs/guides/error-codes/api-errors.', 'type': 'insufficient_quota', 'param': None, 'code': 'insufficient_quota'}}\n"
     ]
    },
    {
     "name": "stderr",
     "output_type": "stream",
     "text": [
      "Classifying tweets:  95%|███████████████████ | 950/1000 [44:35<02:13,  2.66s/it]"
     ]
    },
    {
     "name": "stdout",
     "output_type": "stream",
     "text": [
      "Error processing tweet: Error code: 429 - {'error': {'message': 'You exceeded your current quota, please check your plan and billing details. For more information on this error, read the docs: https://platform.openai.com/docs/guides/error-codes/api-errors.', 'type': 'insufficient_quota', 'param': None, 'code': 'insufficient_quota'}}\n"
     ]
    },
    {
     "name": "stderr",
     "output_type": "stream",
     "text": [
      "Classifying tweets:  95%|███████████████████ | 951/1000 [44:38<02:09,  2.65s/it]"
     ]
    },
    {
     "name": "stdout",
     "output_type": "stream",
     "text": [
      "Error processing tweet: Error code: 429 - {'error': {'message': 'You exceeded your current quota, please check your plan and billing details. For more information on this error, read the docs: https://platform.openai.com/docs/guides/error-codes/api-errors.', 'type': 'insufficient_quota', 'param': None, 'code': 'insufficient_quota'}}\n"
     ]
    },
    {
     "name": "stderr",
     "output_type": "stream",
     "text": [
      "Classifying tweets:  95%|███████████████████ | 952/1000 [44:41<02:14,  2.81s/it]"
     ]
    },
    {
     "name": "stdout",
     "output_type": "stream",
     "text": [
      "Error processing tweet: Error code: 429 - {'error': {'message': 'You exceeded your current quota, please check your plan and billing details. For more information on this error, read the docs: https://platform.openai.com/docs/guides/error-codes/api-errors.', 'type': 'insufficient_quota', 'param': None, 'code': 'insufficient_quota'}}\n"
     ]
    },
    {
     "name": "stderr",
     "output_type": "stream",
     "text": [
      "Classifying tweets:  95%|███████████████████ | 953/1000 [44:44<02:07,  2.71s/it]"
     ]
    },
    {
     "name": "stdout",
     "output_type": "stream",
     "text": [
      "Error processing tweet: Error code: 429 - {'error': {'message': 'You exceeded your current quota, please check your plan and billing details. For more information on this error, read the docs: https://platform.openai.com/docs/guides/error-codes/api-errors.', 'type': 'insufficient_quota', 'param': None, 'code': 'insufficient_quota'}}\n"
     ]
    },
    {
     "name": "stderr",
     "output_type": "stream",
     "text": [
      "Classifying tweets:  95%|███████████████████ | 954/1000 [44:46<02:02,  2.67s/it]"
     ]
    },
    {
     "name": "stdout",
     "output_type": "stream",
     "text": [
      "Error processing tweet: Error code: 429 - {'error': {'message': 'You exceeded your current quota, please check your plan and billing details. For more information on this error, read the docs: https://platform.openai.com/docs/guides/error-codes/api-errors.', 'type': 'insufficient_quota', 'param': None, 'code': 'insufficient_quota'}}\n"
     ]
    },
    {
     "name": "stderr",
     "output_type": "stream",
     "text": [
      "Classifying tweets:  96%|███████████████████ | 955/1000 [44:49<01:58,  2.64s/it]"
     ]
    },
    {
     "name": "stdout",
     "output_type": "stream",
     "text": [
      "Error processing tweet: Error code: 429 - {'error': {'message': 'You exceeded your current quota, please check your plan and billing details. For more information on this error, read the docs: https://platform.openai.com/docs/guides/error-codes/api-errors.', 'type': 'insufficient_quota', 'param': None, 'code': 'insufficient_quota'}}\n"
     ]
    },
    {
     "name": "stderr",
     "output_type": "stream",
     "text": [
      "Classifying tweets:  96%|███████████████████ | 956/1000 [44:51<01:55,  2.62s/it]"
     ]
    },
    {
     "name": "stdout",
     "output_type": "stream",
     "text": [
      "Error processing tweet: Error code: 429 - {'error': {'message': 'You exceeded your current quota, please check your plan and billing details. For more information on this error, read the docs: https://platform.openai.com/docs/guides/error-codes/api-errors.', 'type': 'insufficient_quota', 'param': None, 'code': 'insufficient_quota'}}\n"
     ]
    },
    {
     "name": "stderr",
     "output_type": "stream",
     "text": [
      "Classifying tweets:  96%|███████████████████▏| 957/1000 [44:54<01:54,  2.65s/it]"
     ]
    },
    {
     "name": "stdout",
     "output_type": "stream",
     "text": [
      "Error processing tweet: Error code: 429 - {'error': {'message': 'You exceeded your current quota, please check your plan and billing details. For more information on this error, read the docs: https://platform.openai.com/docs/guides/error-codes/api-errors.', 'type': 'insufficient_quota', 'param': None, 'code': 'insufficient_quota'}}\n"
     ]
    },
    {
     "name": "stderr",
     "output_type": "stream",
     "text": [
      "Classifying tweets:  96%|███████████████████▏| 958/1000 [44:57<01:50,  2.63s/it]"
     ]
    },
    {
     "name": "stdout",
     "output_type": "stream",
     "text": [
      "Error processing tweet: Error code: 429 - {'error': {'message': 'You exceeded your current quota, please check your plan and billing details. For more information on this error, read the docs: https://platform.openai.com/docs/guides/error-codes/api-errors.', 'type': 'insufficient_quota', 'param': None, 'code': 'insufficient_quota'}}\n"
     ]
    },
    {
     "name": "stderr",
     "output_type": "stream",
     "text": [
      "Classifying tweets:  96%|███████████████████▏| 959/1000 [45:00<01:51,  2.72s/it]"
     ]
    },
    {
     "name": "stdout",
     "output_type": "stream",
     "text": [
      "Error processing tweet: Error code: 429 - {'error': {'message': 'You exceeded your current quota, please check your plan and billing details. For more information on this error, read the docs: https://platform.openai.com/docs/guides/error-codes/api-errors.', 'type': 'insufficient_quota', 'param': None, 'code': 'insufficient_quota'}}\n"
     ]
    },
    {
     "name": "stderr",
     "output_type": "stream",
     "text": [
      "Classifying tweets:  96%|███████████████████▏| 960/1000 [45:02<01:48,  2.71s/it]"
     ]
    },
    {
     "name": "stdout",
     "output_type": "stream",
     "text": [
      "Error processing tweet: Error code: 429 - {'error': {'message': 'You exceeded your current quota, please check your plan and billing details. For more information on this error, read the docs: https://platform.openai.com/docs/guides/error-codes/api-errors.', 'type': 'insufficient_quota', 'param': None, 'code': 'insufficient_quota'}}\n"
     ]
    },
    {
     "name": "stderr",
     "output_type": "stream",
     "text": [
      "Classifying tweets:  96%|███████████████████▏| 961/1000 [45:05<01:45,  2.70s/it]"
     ]
    },
    {
     "name": "stdout",
     "output_type": "stream",
     "text": [
      "Error processing tweet: Error code: 429 - {'error': {'message': 'You exceeded your current quota, please check your plan and billing details. For more information on this error, read the docs: https://platform.openai.com/docs/guides/error-codes/api-errors.', 'type': 'insufficient_quota', 'param': None, 'code': 'insufficient_quota'}}\n"
     ]
    },
    {
     "name": "stderr",
     "output_type": "stream",
     "text": [
      "Classifying tweets:  96%|███████████████████▏| 962/1000 [45:08<01:43,  2.73s/it]"
     ]
    },
    {
     "name": "stdout",
     "output_type": "stream",
     "text": [
      "Error processing tweet: Error code: 429 - {'error': {'message': 'You exceeded your current quota, please check your plan and billing details. For more information on this error, read the docs: https://platform.openai.com/docs/guides/error-codes/api-errors.', 'type': 'insufficient_quota', 'param': None, 'code': 'insufficient_quota'}}\n"
     ]
    },
    {
     "name": "stderr",
     "output_type": "stream",
     "text": [
      "Classifying tweets:  96%|███████████████████▎| 963/1000 [45:11<01:41,  2.75s/it]"
     ]
    },
    {
     "name": "stdout",
     "output_type": "stream",
     "text": [
      "Error processing tweet: Error code: 429 - {'error': {'message': 'You exceeded your current quota, please check your plan and billing details. For more information on this error, read the docs: https://platform.openai.com/docs/guides/error-codes/api-errors.', 'type': 'insufficient_quota', 'param': None, 'code': 'insufficient_quota'}}\n"
     ]
    },
    {
     "name": "stderr",
     "output_type": "stream",
     "text": [
      "Classifying tweets:  96%|███████████████████▎| 964/1000 [45:13<01:36,  2.69s/it]"
     ]
    },
    {
     "name": "stdout",
     "output_type": "stream",
     "text": [
      "Error processing tweet: Error code: 429 - {'error': {'message': 'You exceeded your current quota, please check your plan and billing details. For more information on this error, read the docs: https://platform.openai.com/docs/guides/error-codes/api-errors.', 'type': 'insufficient_quota', 'param': None, 'code': 'insufficient_quota'}}\n"
     ]
    },
    {
     "name": "stderr",
     "output_type": "stream",
     "text": [
      "Classifying tweets:  96%|███████████████████▎| 965/1000 [45:16<01:32,  2.65s/it]"
     ]
    },
    {
     "name": "stdout",
     "output_type": "stream",
     "text": [
      "Error processing tweet: Error code: 429 - {'error': {'message': 'You exceeded your current quota, please check your plan and billing details. For more information on this error, read the docs: https://platform.openai.com/docs/guides/error-codes/api-errors.', 'type': 'insufficient_quota', 'param': None, 'code': 'insufficient_quota'}}\n"
     ]
    },
    {
     "name": "stderr",
     "output_type": "stream",
     "text": [
      "Classifying tweets:  97%|███████████████████▎| 966/1000 [45:19<01:35,  2.81s/it]"
     ]
    },
    {
     "name": "stdout",
     "output_type": "stream",
     "text": [
      "Error processing tweet: Error code: 429 - {'error': {'message': 'You exceeded your current quota, please check your plan and billing details. For more information on this error, read the docs: https://platform.openai.com/docs/guides/error-codes/api-errors.', 'type': 'insufficient_quota', 'param': None, 'code': 'insufficient_quota'}}\n"
     ]
    },
    {
     "name": "stderr",
     "output_type": "stream",
     "text": [
      "Classifying tweets:  97%|███████████████████▎| 967/1000 [45:22<01:32,  2.81s/it]"
     ]
    },
    {
     "name": "stdout",
     "output_type": "stream",
     "text": [
      "Error processing tweet: Error code: 429 - {'error': {'message': 'You exceeded your current quota, please check your plan and billing details. For more information on this error, read the docs: https://platform.openai.com/docs/guides/error-codes/api-errors.', 'type': 'insufficient_quota', 'param': None, 'code': 'insufficient_quota'}}\n"
     ]
    },
    {
     "name": "stderr",
     "output_type": "stream",
     "text": [
      "Classifying tweets:  97%|███████████████████▎| 968/1000 [45:24<01:27,  2.73s/it]"
     ]
    },
    {
     "name": "stdout",
     "output_type": "stream",
     "text": [
      "Error processing tweet: Error code: 429 - {'error': {'message': 'You exceeded your current quota, please check your plan and billing details. For more information on this error, read the docs: https://platform.openai.com/docs/guides/error-codes/api-errors.', 'type': 'insufficient_quota', 'param': None, 'code': 'insufficient_quota'}}\n"
     ]
    },
    {
     "name": "stderr",
     "output_type": "stream",
     "text": [
      "Classifying tweets:  97%|███████████████████▍| 969/1000 [45:27<01:23,  2.69s/it]"
     ]
    },
    {
     "name": "stdout",
     "output_type": "stream",
     "text": [
      "Error processing tweet: Error code: 429 - {'error': {'message': 'You exceeded your current quota, please check your plan and billing details. For more information on this error, read the docs: https://platform.openai.com/docs/guides/error-codes/api-errors.', 'type': 'insufficient_quota', 'param': None, 'code': 'insufficient_quota'}}\n"
     ]
    },
    {
     "name": "stderr",
     "output_type": "stream",
     "text": [
      "Classifying tweets:  97%|███████████████████▍| 970/1000 [45:29<01:20,  2.67s/it]"
     ]
    },
    {
     "name": "stdout",
     "output_type": "stream",
     "text": [
      "Error processing tweet: Error code: 429 - {'error': {'message': 'You exceeded your current quota, please check your plan and billing details. For more information on this error, read the docs: https://platform.openai.com/docs/guides/error-codes/api-errors.', 'type': 'insufficient_quota', 'param': None, 'code': 'insufficient_quota'}}\n"
     ]
    },
    {
     "name": "stderr",
     "output_type": "stream",
     "text": [
      "Classifying tweets:  97%|███████████████████▍| 971/1000 [45:32<01:17,  2.67s/it]"
     ]
    },
    {
     "name": "stdout",
     "output_type": "stream",
     "text": [
      "Error processing tweet: Error code: 429 - {'error': {'message': 'You exceeded your current quota, please check your plan and billing details. For more information on this error, read the docs: https://platform.openai.com/docs/guides/error-codes/api-errors.', 'type': 'insufficient_quota', 'param': None, 'code': 'insufficient_quota'}}\n"
     ]
    },
    {
     "name": "stderr",
     "output_type": "stream",
     "text": [
      "Classifying tweets:  97%|███████████████████▍| 972/1000 [45:35<01:14,  2.68s/it]"
     ]
    },
    {
     "name": "stdout",
     "output_type": "stream",
     "text": [
      "Error processing tweet: Error code: 429 - {'error': {'message': 'You exceeded your current quota, please check your plan and billing details. For more information on this error, read the docs: https://platform.openai.com/docs/guides/error-codes/api-errors.', 'type': 'insufficient_quota', 'param': None, 'code': 'insufficient_quota'}}\n"
     ]
    },
    {
     "name": "stderr",
     "output_type": "stream",
     "text": [
      "Classifying tweets:  97%|███████████████████▍| 973/1000 [45:38<01:13,  2.71s/it]"
     ]
    },
    {
     "name": "stdout",
     "output_type": "stream",
     "text": [
      "Error processing tweet: Error code: 429 - {'error': {'message': 'You exceeded your current quota, please check your plan and billing details. For more information on this error, read the docs: https://platform.openai.com/docs/guides/error-codes/api-errors.', 'type': 'insufficient_quota', 'param': None, 'code': 'insufficient_quota'}}\n"
     ]
    },
    {
     "name": "stderr",
     "output_type": "stream",
     "text": [
      "Classifying tweets:  97%|███████████████████▍| 974/1000 [45:41<01:15,  2.89s/it]"
     ]
    },
    {
     "name": "stdout",
     "output_type": "stream",
     "text": [
      "Error processing tweet: Error code: 429 - {'error': {'message': 'You exceeded your current quota, please check your plan and billing details. For more information on this error, read the docs: https://platform.openai.com/docs/guides/error-codes/api-errors.', 'type': 'insufficient_quota', 'param': None, 'code': 'insufficient_quota'}}\n"
     ]
    },
    {
     "name": "stderr",
     "output_type": "stream",
     "text": [
      "Classifying tweets:  98%|███████████████████▌| 975/1000 [45:43<01:10,  2.82s/it]"
     ]
    },
    {
     "name": "stdout",
     "output_type": "stream",
     "text": [
      "Error processing tweet: Error code: 429 - {'error': {'message': 'You exceeded your current quota, please check your plan and billing details. For more information on this error, read the docs: https://platform.openai.com/docs/guides/error-codes/api-errors.', 'type': 'insufficient_quota', 'param': None, 'code': 'insufficient_quota'}}\n"
     ]
    },
    {
     "name": "stderr",
     "output_type": "stream",
     "text": [
      "Classifying tweets:  98%|███████████████████▌| 976/1000 [45:46<01:05,  2.73s/it]"
     ]
    },
    {
     "name": "stdout",
     "output_type": "stream",
     "text": [
      "Error processing tweet: Error code: 429 - {'error': {'message': 'You exceeded your current quota, please check your plan and billing details. For more information on this error, read the docs: https://platform.openai.com/docs/guides/error-codes/api-errors.', 'type': 'insufficient_quota', 'param': None, 'code': 'insufficient_quota'}}\n"
     ]
    },
    {
     "name": "stderr",
     "output_type": "stream",
     "text": [
      "Classifying tweets:  98%|███████████████████▌| 977/1000 [45:49<01:02,  2.73s/it]"
     ]
    },
    {
     "name": "stdout",
     "output_type": "stream",
     "text": [
      "Error processing tweet: Error code: 429 - {'error': {'message': 'You exceeded your current quota, please check your plan and billing details. For more information on this error, read the docs: https://platform.openai.com/docs/guides/error-codes/api-errors.', 'type': 'insufficient_quota', 'param': None, 'code': 'insufficient_quota'}}\n"
     ]
    },
    {
     "name": "stderr",
     "output_type": "stream",
     "text": [
      "Classifying tweets:  98%|███████████████████▌| 978/1000 [45:52<01:02,  2.84s/it]"
     ]
    },
    {
     "name": "stdout",
     "output_type": "stream",
     "text": [
      "Error processing tweet: Error code: 429 - {'error': {'message': 'You exceeded your current quota, please check your plan and billing details. For more information on this error, read the docs: https://platform.openai.com/docs/guides/error-codes/api-errors.', 'type': 'insufficient_quota', 'param': None, 'code': 'insufficient_quota'}}\n"
     ]
    },
    {
     "name": "stderr",
     "output_type": "stream",
     "text": [
      "Classifying tweets:  98%|███████████████████▌| 979/1000 [45:55<01:03,  3.04s/it]"
     ]
    },
    {
     "name": "stdout",
     "output_type": "stream",
     "text": [
      "Error processing tweet: Error code: 429 - {'error': {'message': 'You exceeded your current quota, please check your plan and billing details. For more information on this error, read the docs: https://platform.openai.com/docs/guides/error-codes/api-errors.', 'type': 'insufficient_quota', 'param': None, 'code': 'insufficient_quota'}}\n"
     ]
    },
    {
     "name": "stderr",
     "output_type": "stream",
     "text": [
      "Classifying tweets:  98%|███████████████████▌| 980/1000 [45:58<00:57,  2.88s/it]"
     ]
    },
    {
     "name": "stdout",
     "output_type": "stream",
     "text": [
      "Error processing tweet: Error code: 429 - {'error': {'message': 'You exceeded your current quota, please check your plan and billing details. For more information on this error, read the docs: https://platform.openai.com/docs/guides/error-codes/api-errors.', 'type': 'insufficient_quota', 'param': None, 'code': 'insufficient_quota'}}\n"
     ]
    },
    {
     "name": "stderr",
     "output_type": "stream",
     "text": [
      "Classifying tweets:  98%|███████████████████▌| 981/1000 [46:00<00:53,  2.81s/it]"
     ]
    },
    {
     "name": "stdout",
     "output_type": "stream",
     "text": [
      "Error processing tweet: Error code: 429 - {'error': {'message': 'You exceeded your current quota, please check your plan and billing details. For more information on this error, read the docs: https://platform.openai.com/docs/guides/error-codes/api-errors.', 'type': 'insufficient_quota', 'param': None, 'code': 'insufficient_quota'}}\n"
     ]
    },
    {
     "name": "stderr",
     "output_type": "stream",
     "text": [
      "Classifying tweets:  98%|███████████████████▋| 982/1000 [46:04<00:53,  2.95s/it]"
     ]
    },
    {
     "name": "stdout",
     "output_type": "stream",
     "text": [
      "Error processing tweet: Error code: 429 - {'error': {'message': 'You exceeded your current quota, please check your plan and billing details. For more information on this error, read the docs: https://platform.openai.com/docs/guides/error-codes/api-errors.', 'type': 'insufficient_quota', 'param': None, 'code': 'insufficient_quota'}}\n"
     ]
    },
    {
     "name": "stderr",
     "output_type": "stream",
     "text": [
      "Classifying tweets:  98%|███████████████████▋| 983/1000 [46:06<00:48,  2.84s/it]"
     ]
    },
    {
     "name": "stdout",
     "output_type": "stream",
     "text": [
      "Error processing tweet: Error code: 429 - {'error': {'message': 'You exceeded your current quota, please check your plan and billing details. For more information on this error, read the docs: https://platform.openai.com/docs/guides/error-codes/api-errors.', 'type': 'insufficient_quota', 'param': None, 'code': 'insufficient_quota'}}\n"
     ]
    },
    {
     "name": "stderr",
     "output_type": "stream",
     "text": [
      "Classifying tweets:  98%|███████████████████▋| 984/1000 [46:09<00:45,  2.82s/it]"
     ]
    },
    {
     "name": "stdout",
     "output_type": "stream",
     "text": [
      "Error processing tweet: Error code: 429 - {'error': {'message': 'You exceeded your current quota, please check your plan and billing details. For more information on this error, read the docs: https://platform.openai.com/docs/guides/error-codes/api-errors.', 'type': 'insufficient_quota', 'param': None, 'code': 'insufficient_quota'}}\n"
     ]
    },
    {
     "name": "stderr",
     "output_type": "stream",
     "text": [
      "Classifying tweets:  98%|███████████████████▋| 985/1000 [46:12<00:41,  2.78s/it]"
     ]
    },
    {
     "name": "stdout",
     "output_type": "stream",
     "text": [
      "Error processing tweet: Error code: 429 - {'error': {'message': 'You exceeded your current quota, please check your plan and billing details. For more information on this error, read the docs: https://platform.openai.com/docs/guides/error-codes/api-errors.', 'type': 'insufficient_quota', 'param': None, 'code': 'insufficient_quota'}}\n"
     ]
    },
    {
     "name": "stderr",
     "output_type": "stream",
     "text": [
      "Classifying tweets:  99%|███████████████████▋| 986/1000 [46:14<00:38,  2.73s/it]"
     ]
    },
    {
     "name": "stdout",
     "output_type": "stream",
     "text": [
      "Error processing tweet: Error code: 429 - {'error': {'message': 'You exceeded your current quota, please check your plan and billing details. For more information on this error, read the docs: https://platform.openai.com/docs/guides/error-codes/api-errors.', 'type': 'insufficient_quota', 'param': None, 'code': 'insufficient_quota'}}\n"
     ]
    },
    {
     "name": "stderr",
     "output_type": "stream",
     "text": [
      "Classifying tweets:  99%|███████████████████▋| 987/1000 [46:17<00:35,  2.75s/it]"
     ]
    },
    {
     "name": "stdout",
     "output_type": "stream",
     "text": [
      "Error processing tweet: Error code: 429 - {'error': {'message': 'You exceeded your current quota, please check your plan and billing details. For more information on this error, read the docs: https://platform.openai.com/docs/guides/error-codes/api-errors.', 'type': 'insufficient_quota', 'param': None, 'code': 'insufficient_quota'}}\n"
     ]
    },
    {
     "name": "stderr",
     "output_type": "stream",
     "text": [
      "Classifying tweets:  99%|███████████████████▊| 988/1000 [46:20<00:32,  2.73s/it]"
     ]
    },
    {
     "name": "stdout",
     "output_type": "stream",
     "text": [
      "Error processing tweet: Error code: 429 - {'error': {'message': 'You exceeded your current quota, please check your plan and billing details. For more information on this error, read the docs: https://platform.openai.com/docs/guides/error-codes/api-errors.', 'type': 'insufficient_quota', 'param': None, 'code': 'insufficient_quota'}}\n"
     ]
    },
    {
     "name": "stderr",
     "output_type": "stream",
     "text": [
      "Classifying tweets:  99%|███████████████████▊| 989/1000 [46:23<00:30,  2.74s/it]"
     ]
    },
    {
     "name": "stdout",
     "output_type": "stream",
     "text": [
      "Error processing tweet: Error code: 429 - {'error': {'message': 'You exceeded your current quota, please check your plan and billing details. For more information on this error, read the docs: https://platform.openai.com/docs/guides/error-codes/api-errors.', 'type': 'insufficient_quota', 'param': None, 'code': 'insufficient_quota'}}\n"
     ]
    },
    {
     "name": "stderr",
     "output_type": "stream",
     "text": [
      "Classifying tweets:  99%|███████████████████▊| 990/1000 [46:26<00:28,  2.86s/it]"
     ]
    },
    {
     "name": "stdout",
     "output_type": "stream",
     "text": [
      "Error processing tweet: Error code: 429 - {'error': {'message': 'You exceeded your current quota, please check your plan and billing details. For more information on this error, read the docs: https://platform.openai.com/docs/guides/error-codes/api-errors.', 'type': 'insufficient_quota', 'param': None, 'code': 'insufficient_quota'}}\n"
     ]
    },
    {
     "name": "stderr",
     "output_type": "stream",
     "text": [
      "Classifying tweets:  99%|███████████████████▊| 991/1000 [46:29<00:25,  2.84s/it]"
     ]
    },
    {
     "name": "stdout",
     "output_type": "stream",
     "text": [
      "Error processing tweet: Error code: 429 - {'error': {'message': 'You exceeded your current quota, please check your plan and billing details. For more information on this error, read the docs: https://platform.openai.com/docs/guides/error-codes/api-errors.', 'type': 'insufficient_quota', 'param': None, 'code': 'insufficient_quota'}}\n"
     ]
    },
    {
     "name": "stderr",
     "output_type": "stream",
     "text": [
      "Classifying tweets:  99%|███████████████████▊| 992/1000 [46:31<00:22,  2.79s/it]"
     ]
    },
    {
     "name": "stdout",
     "output_type": "stream",
     "text": [
      "Error processing tweet: Error code: 429 - {'error': {'message': 'You exceeded your current quota, please check your plan and billing details. For more information on this error, read the docs: https://platform.openai.com/docs/guides/error-codes/api-errors.', 'type': 'insufficient_quota', 'param': None, 'code': 'insufficient_quota'}}\n"
     ]
    },
    {
     "name": "stderr",
     "output_type": "stream",
     "text": [
      "Classifying tweets:  99%|███████████████████▊| 993/1000 [46:34<00:19,  2.78s/it]"
     ]
    },
    {
     "name": "stdout",
     "output_type": "stream",
     "text": [
      "Error processing tweet: Error code: 429 - {'error': {'message': 'You exceeded your current quota, please check your plan and billing details. For more information on this error, read the docs: https://platform.openai.com/docs/guides/error-codes/api-errors.', 'type': 'insufficient_quota', 'param': None, 'code': 'insufficient_quota'}}\n"
     ]
    },
    {
     "name": "stderr",
     "output_type": "stream",
     "text": [
      "Classifying tweets:  99%|███████████████████▉| 994/1000 [46:37<00:16,  2.72s/it]"
     ]
    },
    {
     "name": "stdout",
     "output_type": "stream",
     "text": [
      "Error processing tweet: Error code: 429 - {'error': {'message': 'You exceeded your current quota, please check your plan and billing details. For more information on this error, read the docs: https://platform.openai.com/docs/guides/error-codes/api-errors.', 'type': 'insufficient_quota', 'param': None, 'code': 'insufficient_quota'}}\n"
     ]
    },
    {
     "name": "stderr",
     "output_type": "stream",
     "text": [
      "Classifying tweets: 100%|███████████████████▉| 995/1000 [46:39<00:13,  2.70s/it]"
     ]
    },
    {
     "name": "stdout",
     "output_type": "stream",
     "text": [
      "Error processing tweet: Error code: 429 - {'error': {'message': 'You exceeded your current quota, please check your plan and billing details. For more information on this error, read the docs: https://platform.openai.com/docs/guides/error-codes/api-errors.', 'type': 'insufficient_quota', 'param': None, 'code': 'insufficient_quota'}}\n"
     ]
    },
    {
     "name": "stderr",
     "output_type": "stream",
     "text": [
      "Classifying tweets: 100%|███████████████████▉| 996/1000 [46:42<00:10,  2.72s/it]"
     ]
    },
    {
     "name": "stdout",
     "output_type": "stream",
     "text": [
      "Error processing tweet: Error code: 429 - {'error': {'message': 'You exceeded your current quota, please check your plan and billing details. For more information on this error, read the docs: https://platform.openai.com/docs/guides/error-codes/api-errors.', 'type': 'insufficient_quota', 'param': None, 'code': 'insufficient_quota'}}\n"
     ]
    },
    {
     "name": "stderr",
     "output_type": "stream",
     "text": [
      "Classifying tweets: 100%|███████████████████▉| 997/1000 [46:45<00:08,  2.72s/it]"
     ]
    },
    {
     "name": "stdout",
     "output_type": "stream",
     "text": [
      "Error processing tweet: Error code: 429 - {'error': {'message': 'You exceeded your current quota, please check your plan and billing details. For more information on this error, read the docs: https://platform.openai.com/docs/guides/error-codes/api-errors.', 'type': 'insufficient_quota', 'param': None, 'code': 'insufficient_quota'}}\n"
     ]
    },
    {
     "name": "stderr",
     "output_type": "stream",
     "text": [
      "Classifying tweets: 100%|███████████████████▉| 998/1000 [46:47<00:05,  2.67s/it]"
     ]
    },
    {
     "name": "stdout",
     "output_type": "stream",
     "text": [
      "Error processing tweet: Error code: 429 - {'error': {'message': 'You exceeded your current quota, please check your plan and billing details. For more information on this error, read the docs: https://platform.openai.com/docs/guides/error-codes/api-errors.', 'type': 'insufficient_quota', 'param': None, 'code': 'insufficient_quota'}}\n"
     ]
    },
    {
     "name": "stderr",
     "output_type": "stream",
     "text": [
      "Classifying tweets: 100%|███████████████████▉| 999/1000 [46:50<00:02,  2.65s/it]"
     ]
    },
    {
     "name": "stdout",
     "output_type": "stream",
     "text": [
      "Error processing tweet: Error code: 429 - {'error': {'message': 'You exceeded your current quota, please check your plan and billing details. For more information on this error, read the docs: https://platform.openai.com/docs/guides/error-codes/api-errors.', 'type': 'insufficient_quota', 'param': None, 'code': 'insufficient_quota'}}\n"
     ]
    },
    {
     "name": "stderr",
     "output_type": "stream",
     "text": [
      "Classifying tweets: 100%|███████████████████| 1000/1000 [46:53<00:00,  2.81s/it]"
     ]
    },
    {
     "name": "stdout",
     "output_type": "stream",
     "text": [
      "✅ Done! Labeled file saved to: data/sample/debate_tweets_sample_1000_for_annotation_labeled.csv\n"
     ]
    },
    {
     "name": "stderr",
     "output_type": "stream",
     "text": [
      "\n"
     ]
    },
    {
     "data": {
      "text/html": [
       "<div>\n",
       "<style scoped>\n",
       "    .dataframe tbody tr th:only-of-type {\n",
       "        vertical-align: middle;\n",
       "    }\n",
       "\n",
       "    .dataframe tbody tr th {\n",
       "        vertical-align: top;\n",
       "    }\n",
       "\n",
       "    .dataframe thead th {\n",
       "        text-align: right;\n",
       "    }\n",
       "</style>\n",
       "<table border=\"1\" class=\"dataframe\">\n",
       "  <thead>\n",
       "    <tr style=\"text-align: right;\">\n",
       "      <th></th>\n",
       "      <th>Id</th>\n",
       "      <th>Date</th>\n",
       "      <th>Time</th>\n",
       "      <th>Media Type</th>\n",
       "      <th>Site Domain</th>\n",
       "      <th>Mention URL</th>\n",
       "      <th>Publisher Name</th>\n",
       "      <th>Publisher Username</th>\n",
       "      <th>title</th>\n",
       "      <th>Mention Content</th>\n",
       "      <th>...</th>\n",
       "      <th>Twitter Retweets</th>\n",
       "      <th>Twitter Favorites</th>\n",
       "      <th>Twitter replies</th>\n",
       "      <th>Media URL</th>\n",
       "      <th>Debate</th>\n",
       "      <th>santext</th>\n",
       "      <th>polar_score</th>\n",
       "      <th>pole_label</th>\n",
       "      <th>valid</th>\n",
       "      <th>comments</th>\n",
       "    </tr>\n",
       "  </thead>\n",
       "  <tbody>\n",
       "    <tr>\n",
       "      <th>0</th>\n",
       "      <td>287683906109</td>\n",
       "      <td>2024-09-10</td>\n",
       "      <td>20:56:00 -0500 CDT</td>\n",
       "      <td>Twitter</td>\n",
       "      <td>http://www.twitter.com</td>\n",
       "      <td>http://twitter.com/fuckftrump9000/status/18336...</td>\n",
       "      <td>fucktrump2024</td>\n",
       "      <td>fuckftrump9000</td>\n",
       "      <td>RT @RyanShead: Donald Trump is dumb as FUUUUUU...</td>\n",
       "      <td>RT @RyanShead: Donald Trump is dumb as FUUUUUU...</td>\n",
       "      <td>...</td>\n",
       "      <td>NaN</td>\n",
       "      <td>NaN</td>\n",
       "      <td>NaN</td>\n",
       "      <td>NaN</td>\n",
       "      <td>2</td>\n",
       "      <td>rt ryanshead donald trump is dumb as fuuuuuuuuck</td>\n",
       "      <td>-5</td>\n",
       "      <td>left</td>\n",
       "      <td>1</td>\n",
       "      <td>Uses derogatory language towards a right-wing ...</td>\n",
       "    </tr>\n",
       "    <tr>\n",
       "      <th>1</th>\n",
       "      <td>287682844708</td>\n",
       "      <td>2024-09-10</td>\n",
       "      <td>20:45:00 -0500 CDT</td>\n",
       "      <td>Twitter</td>\n",
       "      <td>http://www.twitter.com</td>\n",
       "      <td>http://twitter.com/david_darmofal/status/18336...</td>\n",
       "      <td>David Darmofal</td>\n",
       "      <td>david_darmofal</td>\n",
       "      <td>RT @politico: Woof. Why is Trump claiming immi...</td>\n",
       "      <td>RT @politico: Woof. Why is Trump claiming immi...</td>\n",
       "      <td>...</td>\n",
       "      <td>NaN</td>\n",
       "      <td>NaN</td>\n",
       "      <td>NaN</td>\n",
       "      <td>NaN</td>\n",
       "      <td>2</td>\n",
       "      <td>rt politico woof why is trump claiming immigra...</td>\n",
       "      <td>-2</td>\n",
       "      <td>left</td>\n",
       "      <td>1</td>\n",
       "      <td>The tweet criticizes Trump, a figure associate...</td>\n",
       "    </tr>\n",
       "    <tr>\n",
       "      <th>2</th>\n",
       "      <td>281373629110</td>\n",
       "      <td>2024-06-27</td>\n",
       "      <td>20:48:00 -0500 CDT</td>\n",
       "      <td>Twitter</td>\n",
       "      <td>http://www.twitter.com</td>\n",
       "      <td>http://twitter.com/CurtisHouck/status/18065048...</td>\n",
       "      <td>Curtis Houck</td>\n",
       "      <td>CurtisHouck</td>\n",
       "      <td>Nevermind! RT @robbysoave: Trump: \"My retribut...</td>\n",
       "      <td>Nevermind! RT @robbysoave: Trump: \"My retribut...</td>\n",
       "      <td>...</td>\n",
       "      <td>NaN</td>\n",
       "      <td>NaN</td>\n",
       "      <td>NaN</td>\n",
       "      <td>NaN</td>\n",
       "      <td>1</td>\n",
       "      <td>nevermind rt robbysoave trump my retribution i...</td>\n",
       "      <td>3</td>\n",
       "      <td>right</td>\n",
       "      <td>1</td>\n",
       "      <td>The tweet is supportive of Trump, a figure ass...</td>\n",
       "    </tr>\n",
       "    <tr>\n",
       "      <th>3</th>\n",
       "      <td>287685923517</td>\n",
       "      <td>2024-09-10</td>\n",
       "      <td>21:14:00 -0500 CDT</td>\n",
       "      <td>Twitter</td>\n",
       "      <td>http://www.twitter.com</td>\n",
       "      <td>http://twitter.com/notnuts50/status/1833690587...</td>\n",
       "      <td>Joan Thompson</td>\n",
       "      <td>notnuts50</td>\n",
       "      <td>RT @LeadingReport: BREAKING: Former President ...</td>\n",
       "      <td>RT @LeadingReport: BREAKING: Former President ...</td>\n",
       "      <td>...</td>\n",
       "      <td>NaN</td>\n",
       "      <td>NaN</td>\n",
       "      <td>NaN</td>\n",
       "      <td>NaN</td>\n",
       "      <td>2</td>\n",
       "      <td>rt leadingreport breaking former president tru...</td>\n",
       "      <td>5</td>\n",
       "      <td>right</td>\n",
       "      <td>1</td>\n",
       "      <td>The tweet is about former President Trump, a R...</td>\n",
       "    </tr>\n",
       "    <tr>\n",
       "      <th>4</th>\n",
       "      <td>287694936672</td>\n",
       "      <td>2024-09-10</td>\n",
       "      <td>22:48:00 -0500 CDT</td>\n",
       "      <td>Twitter</td>\n",
       "      <td>http://www.twitter.com</td>\n",
       "      <td>http://twitter.com/JulesCalamity/status/183371...</td>\n",
       "      <td>Jules</td>\n",
       "      <td>JulesCalamity</td>\n",
       "      <td>RT @ProjectLincoln: ABC: JD Vance says you wou...</td>\n",
       "      <td>RT @ProjectLincoln: ABC: JD Vance says you wou...</td>\n",
       "      <td>...</td>\n",
       "      <td>NaN</td>\n",
       "      <td>NaN</td>\n",
       "      <td>NaN</td>\n",
       "      <td>NaN</td>\n",
       "      <td>2</td>\n",
       "      <td>rt projectlincoln abc jd vance says you would ...</td>\n",
       "      <td>-3</td>\n",
       "      <td>left</td>\n",
       "      <td>1</td>\n",
       "      <td>The tweet refers to Project Lincoln, an anti-T...</td>\n",
       "    </tr>\n",
       "    <tr>\n",
       "      <th>...</th>\n",
       "      <td>...</td>\n",
       "      <td>...</td>\n",
       "      <td>...</td>\n",
       "      <td>...</td>\n",
       "      <td>...</td>\n",
       "      <td>...</td>\n",
       "      <td>...</td>\n",
       "      <td>...</td>\n",
       "      <td>...</td>\n",
       "      <td>...</td>\n",
       "      <td>...</td>\n",
       "      <td>...</td>\n",
       "      <td>...</td>\n",
       "      <td>...</td>\n",
       "      <td>...</td>\n",
       "      <td>...</td>\n",
       "      <td>...</td>\n",
       "      <td>...</td>\n",
       "      <td>...</td>\n",
       "      <td>...</td>\n",
       "      <td>...</td>\n",
       "    </tr>\n",
       "    <tr>\n",
       "      <th>995</th>\n",
       "      <td>287689423608</td>\n",
       "      <td>2024-09-10</td>\n",
       "      <td>21:48:00 -0500 CDT</td>\n",
       "      <td>Twitter</td>\n",
       "      <td>http://www.twitter.com</td>\n",
       "      <td>http://twitter.com/ReneeV17542118/status/18336...</td>\n",
       "      <td>Renee V.</td>\n",
       "      <td>ReneeV17542118</td>\n",
       "      <td>RT @JoeyMannarinoUS: Kamala Harris didn’t have...</td>\n",
       "      <td>RT @JoeyMannarinoUS: Kamala Harris didn’t have...</td>\n",
       "      <td>...</td>\n",
       "      <td>NaN</td>\n",
       "      <td>NaN</td>\n",
       "      <td>NaN</td>\n",
       "      <td>NaN</td>\n",
       "      <td>2</td>\n",
       "      <td>rt joeymannarinous kamala harris didnt have a ...</td>\n",
       "      <td>INV</td>\n",
       "      <td>inv</td>\n",
       "      <td>0</td>\n",
       "      <td>Error or parsing failure</td>\n",
       "    </tr>\n",
       "    <tr>\n",
       "      <th>996</th>\n",
       "      <td>287687695013</td>\n",
       "      <td>2024-09-10</td>\n",
       "      <td>21:32:00 -0500 CDT</td>\n",
       "      <td>Twitter</td>\n",
       "      <td>http://www.twitter.com</td>\n",
       "      <td>http://twitter.com/peteyboo1966/status/1833695...</td>\n",
       "      <td>Shirley J Roark</td>\n",
       "      <td>peteyboo1966</td>\n",
       "      <td>RT @michaeljknowles: If they would just “fact-...</td>\n",
       "      <td>RT @michaeljknowles: If they would just “fact-...</td>\n",
       "      <td>...</td>\n",
       "      <td>NaN</td>\n",
       "      <td>NaN</td>\n",
       "      <td>NaN</td>\n",
       "      <td>NaN</td>\n",
       "      <td>2</td>\n",
       "      <td>rt michaeljknowles if they would just factchec...</td>\n",
       "      <td>INV</td>\n",
       "      <td>inv</td>\n",
       "      <td>0</td>\n",
       "      <td>Error or parsing failure</td>\n",
       "    </tr>\n",
       "    <tr>\n",
       "      <th>997</th>\n",
       "      <td>281369262213</td>\n",
       "      <td>2024-06-27</td>\n",
       "      <td>19:30:00 -0500 CDT</td>\n",
       "      <td>Twitter</td>\n",
       "      <td>http://www.twitter.com</td>\n",
       "      <td>http://twitter.com/JacquelineRuby1/status/1806...</td>\n",
       "      <td>Jacqueline Ruby</td>\n",
       "      <td>JacquelineRuby1</td>\n",
       "      <td>RT @FaithRubPol: Travis Kelce SLAMS Trump for ...</td>\n",
       "      <td>RT @FaithRubPol: Travis Kelce SLAMS Trump for ...</td>\n",
       "      <td>...</td>\n",
       "      <td>NaN</td>\n",
       "      <td>NaN</td>\n",
       "      <td>NaN</td>\n",
       "      <td>NaN</td>\n",
       "      <td>1</td>\n",
       "      <td>rt faithrubpol travis kelce slams trump for wh...</td>\n",
       "      <td>INV</td>\n",
       "      <td>inv</td>\n",
       "      <td>0</td>\n",
       "      <td>Error or parsing failure</td>\n",
       "    </tr>\n",
       "    <tr>\n",
       "      <th>998</th>\n",
       "      <td>287690289336</td>\n",
       "      <td>2024-09-10</td>\n",
       "      <td>21:56:00 -0500 CDT</td>\n",
       "      <td>Twitter</td>\n",
       "      <td>http://www.twitter.com</td>\n",
       "      <td>http://twitter.com/NubletNub/status/1833701132...</td>\n",
       "      <td>Nub</td>\n",
       "      <td>NubletNub</td>\n",
       "      <td>RT @MartyTheElder: Ok, let me get this straigh...</td>\n",
       "      <td>RT @MartyTheElder: Ok, let me get this straigh...</td>\n",
       "      <td>...</td>\n",
       "      <td>NaN</td>\n",
       "      <td>NaN</td>\n",
       "      <td>NaN</td>\n",
       "      <td>NaN</td>\n",
       "      <td>2</td>\n",
       "      <td>rt martytheelder ok let me get this straight k...</td>\n",
       "      <td>INV</td>\n",
       "      <td>inv</td>\n",
       "      <td>0</td>\n",
       "      <td>Error or parsing failure</td>\n",
       "    </tr>\n",
       "    <tr>\n",
       "      <th>999</th>\n",
       "      <td>287694136899</td>\n",
       "      <td>2024-09-10</td>\n",
       "      <td>22:38:00 -0500 CDT</td>\n",
       "      <td>Twitter</td>\n",
       "      <td>http://www.twitter.com</td>\n",
       "      <td>http://twitter.com/Anthrepublican/status/18337...</td>\n",
       "      <td>The White Insurrectionist</td>\n",
       "      <td>Anthrepublican</td>\n",
       "      <td>Because he wants the Constitution fully restor...</td>\n",
       "      <td>Because he wants the Constitution fully restor...</td>\n",
       "      <td>...</td>\n",
       "      <td>NaN</td>\n",
       "      <td>NaN</td>\n",
       "      <td>NaN</td>\n",
       "      <td>NaN</td>\n",
       "      <td>2</td>\n",
       "      <td>because he wants the constitution fully restor...</td>\n",
       "      <td>INV</td>\n",
       "      <td>inv</td>\n",
       "      <td>0</td>\n",
       "      <td>Error or parsing failure</td>\n",
       "    </tr>\n",
       "  </tbody>\n",
       "</table>\n",
       "<p>1000 rows × 29 columns</p>\n",
       "</div>"
      ],
      "text/plain": [
       "               Id        Date                Time Media Type  \\\n",
       "0    287683906109  2024-09-10  20:56:00 -0500 CDT    Twitter   \n",
       "1    287682844708  2024-09-10  20:45:00 -0500 CDT    Twitter   \n",
       "2    281373629110  2024-06-27  20:48:00 -0500 CDT    Twitter   \n",
       "3    287685923517  2024-09-10  21:14:00 -0500 CDT    Twitter   \n",
       "4    287694936672  2024-09-10  22:48:00 -0500 CDT    Twitter   \n",
       "..            ...         ...                 ...        ...   \n",
       "995  287689423608  2024-09-10  21:48:00 -0500 CDT    Twitter   \n",
       "996  287687695013  2024-09-10  21:32:00 -0500 CDT    Twitter   \n",
       "997  281369262213  2024-06-27  19:30:00 -0500 CDT    Twitter   \n",
       "998  287690289336  2024-09-10  21:56:00 -0500 CDT    Twitter   \n",
       "999  287694136899  2024-09-10  22:38:00 -0500 CDT    Twitter   \n",
       "\n",
       "                Site Domain  \\\n",
       "0    http://www.twitter.com   \n",
       "1    http://www.twitter.com   \n",
       "2    http://www.twitter.com   \n",
       "3    http://www.twitter.com   \n",
       "4    http://www.twitter.com   \n",
       "..                      ...   \n",
       "995  http://www.twitter.com   \n",
       "996  http://www.twitter.com   \n",
       "997  http://www.twitter.com   \n",
       "998  http://www.twitter.com   \n",
       "999  http://www.twitter.com   \n",
       "\n",
       "                                           Mention URL  \\\n",
       "0    http://twitter.com/fuckftrump9000/status/18336...   \n",
       "1    http://twitter.com/david_darmofal/status/18336...   \n",
       "2    http://twitter.com/CurtisHouck/status/18065048...   \n",
       "3    http://twitter.com/notnuts50/status/1833690587...   \n",
       "4    http://twitter.com/JulesCalamity/status/183371...   \n",
       "..                                                 ...   \n",
       "995  http://twitter.com/ReneeV17542118/status/18336...   \n",
       "996  http://twitter.com/peteyboo1966/status/1833695...   \n",
       "997  http://twitter.com/JacquelineRuby1/status/1806...   \n",
       "998  http://twitter.com/NubletNub/status/1833701132...   \n",
       "999  http://twitter.com/Anthrepublican/status/18337...   \n",
       "\n",
       "                Publisher Name Publisher Username  \\\n",
       "0                fucktrump2024     fuckftrump9000   \n",
       "1               David Darmofal     david_darmofal   \n",
       "2                 Curtis Houck        CurtisHouck   \n",
       "3                Joan Thompson          notnuts50   \n",
       "4                        Jules      JulesCalamity   \n",
       "..                         ...                ...   \n",
       "995                   Renee V.     ReneeV17542118   \n",
       "996            Shirley J Roark       peteyboo1966   \n",
       "997            Jacqueline Ruby    JacquelineRuby1   \n",
       "998                        Nub          NubletNub   \n",
       "999  The White Insurrectionist     Anthrepublican   \n",
       "\n",
       "                                                 title  \\\n",
       "0    RT @RyanShead: Donald Trump is dumb as FUUUUUU...   \n",
       "1    RT @politico: Woof. Why is Trump claiming immi...   \n",
       "2    Nevermind! RT @robbysoave: Trump: \"My retribut...   \n",
       "3    RT @LeadingReport: BREAKING: Former President ...   \n",
       "4    RT @ProjectLincoln: ABC: JD Vance says you wou...   \n",
       "..                                                 ...   \n",
       "995  RT @JoeyMannarinoUS: Kamala Harris didn’t have...   \n",
       "996  RT @michaeljknowles: If they would just “fact-...   \n",
       "997  RT @FaithRubPol: Travis Kelce SLAMS Trump for ...   \n",
       "998  RT @MartyTheElder: Ok, let me get this straigh...   \n",
       "999  Because he wants the Constitution fully restor...   \n",
       "\n",
       "                                       Mention Content  ... Twitter Retweets  \\\n",
       "0    RT @RyanShead: Donald Trump is dumb as FUUUUUU...  ...              NaN   \n",
       "1    RT @politico: Woof. Why is Trump claiming immi...  ...              NaN   \n",
       "2    Nevermind! RT @robbysoave: Trump: \"My retribut...  ...              NaN   \n",
       "3    RT @LeadingReport: BREAKING: Former President ...  ...              NaN   \n",
       "4    RT @ProjectLincoln: ABC: JD Vance says you wou...  ...              NaN   \n",
       "..                                                 ...  ...              ...   \n",
       "995  RT @JoeyMannarinoUS: Kamala Harris didn’t have...  ...              NaN   \n",
       "996  RT @michaeljknowles: If they would just “fact-...  ...              NaN   \n",
       "997  RT @FaithRubPol: Travis Kelce SLAMS Trump for ...  ...              NaN   \n",
       "998  RT @MartyTheElder: Ok, let me get this straigh...  ...              NaN   \n",
       "999  Because he wants the Constitution fully restor...  ...              NaN   \n",
       "\n",
       "     Twitter Favorites  Twitter replies  Media URL Debate  \\\n",
       "0                  NaN              NaN        NaN      2   \n",
       "1                  NaN              NaN        NaN      2   \n",
       "2                  NaN              NaN        NaN      1   \n",
       "3                  NaN              NaN        NaN      2   \n",
       "4                  NaN              NaN        NaN      2   \n",
       "..                 ...              ...        ...    ...   \n",
       "995                NaN              NaN        NaN      2   \n",
       "996                NaN              NaN        NaN      2   \n",
       "997                NaN              NaN        NaN      1   \n",
       "998                NaN              NaN        NaN      2   \n",
       "999                NaN              NaN        NaN      2   \n",
       "\n",
       "                                               santext  polar_score  \\\n",
       "0     rt ryanshead donald trump is dumb as fuuuuuuuuck           -5   \n",
       "1    rt politico woof why is trump claiming immigra...           -2   \n",
       "2    nevermind rt robbysoave trump my retribution i...            3   \n",
       "3    rt leadingreport breaking former president tru...            5   \n",
       "4    rt projectlincoln abc jd vance says you would ...           -3   \n",
       "..                                                 ...          ...   \n",
       "995  rt joeymannarinous kamala harris didnt have a ...          INV   \n",
       "996  rt michaeljknowles if they would just factchec...          INV   \n",
       "997  rt faithrubpol travis kelce slams trump for wh...          INV   \n",
       "998  rt martytheelder ok let me get this straight k...          INV   \n",
       "999  because he wants the constitution fully restor...          INV   \n",
       "\n",
       "     pole_label  valid                                           comments  \n",
       "0          left      1  Uses derogatory language towards a right-wing ...  \n",
       "1          left      1  The tweet criticizes Trump, a figure associate...  \n",
       "2         right      1  The tweet is supportive of Trump, a figure ass...  \n",
       "3         right      1  The tweet is about former President Trump, a R...  \n",
       "4          left      1  The tweet refers to Project Lincoln, an anti-T...  \n",
       "..          ...    ...                                                ...  \n",
       "995         inv      0                           Error or parsing failure  \n",
       "996         inv      0                           Error or parsing failure  \n",
       "997         inv      0                           Error or parsing failure  \n",
       "998         inv      0                           Error or parsing failure  \n",
       "999         inv      0                           Error or parsing failure  \n",
       "\n",
       "[1000 rows x 29 columns]"
      ]
     },
     "execution_count": 5,
     "metadata": {},
     "output_type": "execute_result"
    }
   ],
   "source": [
    "label_polarization_with_gpt(df_path)"
   ]
  },
  {
   "cell_type": "code",
   "execution_count": null,
   "id": "5e3ae398-29e0-4d4c-8c25-808cc53983d9",
   "metadata": {},
   "outputs": [],
   "source": [
    "#Lets test the created data and x train and y text set.\n",
    "#the file created is data/sample/debate_tweets_sample_1000_for_annotation_labeled.csv"
   ]
  },
  {
   "cell_type": "code",
   "execution_count": 3,
   "id": "3b342a99-03c9-4e37-8881-fa097a96193a",
   "metadata": {},
   "outputs": [],
   "source": [
    "import pandas as pd\n",
    "from sklearn.model_selection import train_test_split\n",
    "\n",
    "# Load the labeled tweet data\n",
    "df = pd.read_csv(\"data/sample/debate_tweets_sample_1000_for_annotation_labeled.csv\")\n",
    "\n",
    "# We face a problem at the moment of using GPT to code\n",
    "# the value of tokens allowed to use through the API didn't reach the 1000 mark of tweets to code\n",
    "# so we need to Filter to valid labels only, then selectthe  first 920 rows (the actual value of coded tweets by GPT was 934)\n",
    "df = df[df['valid'] == 1].copy().head(920)\n",
    "\n",
    "# Convert categorical labels to numeric\n",
    "label_map = {'left': 0, 'neutral': 1, 'right': 2}\n",
    "df['label'] = df['pole_label'].map(label_map)\n",
    "\n",
    "# Train-test split (80/20)\n",
    "X_train, X_test, y_train, y_test = train_test_split(\n",
    "    df['santext'], df['label'], test_size=0.2, random_state=42, stratify=df['label'])"
   ]
  },
  {
   "cell_type": "code",
   "execution_count": null,
   "id": "7f840256-0de4-4ea9-a701-f38e7c686d81",
   "metadata": {},
   "outputs": [],
   "source": []
  }
 ],
 "metadata": {
  "kernelspec": {
   "display_name": "Python [conda env:base] *",
   "language": "python",
   "name": "conda-base-py"
  },
  "language_info": {
   "codemirror_mode": {
    "name": "ipython",
    "version": 3
   },
   "file_extension": ".py",
   "mimetype": "text/x-python",
   "name": "python",
   "nbconvert_exporter": "python",
   "pygments_lexer": "ipython3",
   "version": "3.13.5"
  }
 },
 "nbformat": 4,
 "nbformat_minor": 5
}
