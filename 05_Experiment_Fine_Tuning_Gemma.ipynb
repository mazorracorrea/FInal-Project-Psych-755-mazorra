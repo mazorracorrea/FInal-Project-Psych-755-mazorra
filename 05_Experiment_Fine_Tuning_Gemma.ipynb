{
 "cells": [
  {
   "cell_type": "markdown",
   "id": "f8977657-cbb1-49da-9aaf-313e48654728",
   "metadata": {},
   "source": [
    "**PART 5: Fine Tuning Model Gemma 3b**\n",
    "\n",
    "This notebook tries to conduct an experiment into the process of fine-tuning a pre-trained language model. We take a base Gemma3 model (with 12b parameters) and further train it on our specific dataset of political tweets. The objective is to see if we can improve the model's performance and efficiency on our classification task by adapting it to the nuances of our data. However, we haven't achieved convincing results; the code remains to be advanced and modified in the future. The goal was to implement a low training process instead of a real fine-tuning process, which would require much more computational capacity. The low-rank tuning of models with libraries like LORA will introduce a new training process to the original model.\n",
    "\n",
    "**Structure:**\n",
    "\n",
    "Imports libraries: including datasets, ollama, and pandas.\n",
    "\n",
    "Data: Loads both the GPT-4 and Gemma-labeled datasets.\n",
    "\n",
    "A sample of 100 tweets is selected for this experiment. The data is formatted into a list of dictionaries, each containing a prompt (the tweet text) and a response (the corresponding JSON-formatted label).\n",
    "\n",
    "Few-Shot Prompt: A  list of few_shot_examples is created with examples of tweet classifications that cover a range of polarization levels and styles. A build_few_shot_prompt function is defined to  construct the prompt. This function combines a detailed set of instructions, the curated few-shot examples, and the new tweet to be classified.\n",
    "\n",
    "Classification with Few-Shot:\n",
    "\n",
    "The classify_with_ollama_gemma function sends the constructed few-shot prompt to the local Gemma model. The notebook iterates through the 100-tweet sample, using this advanced prompting technique to generate classifications.\n",
    "\n",
    "The results are saved to a new CSV file for comparison and analysis."
   ]
  },
  {
   "cell_type": "code",
   "execution_count": 1,
   "id": "d6c41ffc-a78e-4398-b02b-155b0cb585db",
   "metadata": {},
   "outputs": [
    {
     "name": "stdout",
     "output_type": "stream",
     "text": [
      "Requirement already satisfied: transformers in /opt/anaconda3/lib/python3.13/site-packages (4.52.4)\n",
      "Collecting datasets\n",
      "  Downloading datasets-4.0.0-py3-none-any.whl.metadata (19 kB)\n",
      "Collecting peft\n",
      "  Downloading peft-0.17.0-py3-none-any.whl.metadata (14 kB)\n",
      "Requirement already satisfied: accelerate in /opt/anaconda3/lib/python3.13/site-packages (1.9.0)\n",
      "Collecting bitsandbytes\n",
      "  Downloading bitsandbytes-0.42.0-py3-none-any.whl.metadata (9.9 kB)\n",
      "Requirement already satisfied: filelock in /opt/anaconda3/lib/python3.13/site-packages (from transformers) (3.17.0)\n",
      "Requirement already satisfied: huggingface-hub<1.0,>=0.30.0 in /opt/anaconda3/lib/python3.13/site-packages (from transformers) (0.33.1)\n",
      "Requirement already satisfied: numpy>=1.17 in /opt/anaconda3/lib/python3.13/site-packages (from transformers) (2.1.3)\n",
      "Requirement already satisfied: packaging>=20.0 in /opt/anaconda3/lib/python3.13/site-packages (from transformers) (24.2)\n",
      "Requirement already satisfied: pyyaml>=5.1 in /opt/anaconda3/lib/python3.13/site-packages (from transformers) (6.0.2)\n",
      "Requirement already satisfied: regex!=2019.12.17 in /opt/anaconda3/lib/python3.13/site-packages (from transformers) (2024.11.6)\n",
      "Requirement already satisfied: requests in /opt/anaconda3/lib/python3.13/site-packages (from transformers) (2.32.3)\n",
      "Requirement already satisfied: tokenizers<0.22,>=0.21 in /opt/anaconda3/lib/python3.13/site-packages (from transformers) (0.21.2)\n",
      "Requirement already satisfied: safetensors>=0.4.3 in /opt/anaconda3/lib/python3.13/site-packages (from transformers) (0.5.3)\n",
      "Requirement already satisfied: tqdm>=4.27 in /opt/anaconda3/lib/python3.13/site-packages (from transformers) (4.67.1)\n",
      "Requirement already satisfied: fsspec>=2023.5.0 in /opt/anaconda3/lib/python3.13/site-packages (from huggingface-hub<1.0,>=0.30.0->transformers) (2025.3.2)\n",
      "Requirement already satisfied: typing-extensions>=3.7.4.3 in /opt/anaconda3/lib/python3.13/site-packages (from huggingface-hub<1.0,>=0.30.0->transformers) (4.12.2)\n",
      "Requirement already satisfied: hf-xet<2.0.0,>=1.1.2 in /opt/anaconda3/lib/python3.13/site-packages (from huggingface-hub<1.0,>=0.30.0->transformers) (1.1.5)\n",
      "Requirement already satisfied: pyarrow>=15.0.0 in /opt/anaconda3/lib/python3.13/site-packages (from datasets) (19.0.0)\n",
      "Requirement already satisfied: dill<0.3.9,>=0.3.0 in /opt/anaconda3/lib/python3.13/site-packages (from datasets) (0.3.8)\n",
      "Requirement already satisfied: pandas in /opt/anaconda3/lib/python3.13/site-packages (from datasets) (2.2.3)\n",
      "Collecting xxhash (from datasets)\n",
      "  Downloading xxhash-3.5.0-cp313-cp313-macosx_11_0_arm64.whl.metadata (12 kB)\n",
      "Collecting multiprocess<0.70.17 (from datasets)\n",
      "  Downloading multiprocess-0.70.16-py312-none-any.whl.metadata (7.2 kB)\n",
      "Collecting fsspec>=2023.5.0 (from huggingface-hub<1.0,>=0.30.0->transformers)\n",
      "  Downloading fsspec-2025.3.0-py3-none-any.whl.metadata (11 kB)\n",
      "Requirement already satisfied: aiohttp!=4.0.0a0,!=4.0.0a1 in /opt/anaconda3/lib/python3.13/site-packages (from fsspec[http]<=2025.3.0,>=2023.1.0->datasets) (3.11.10)\n",
      "Requirement already satisfied: psutil in /opt/anaconda3/lib/python3.13/site-packages (from peft) (5.9.0)\n",
      "Requirement already satisfied: torch>=1.13.0 in /opt/anaconda3/lib/python3.13/site-packages (from peft) (2.7.1)\n",
      "Requirement already satisfied: scipy in /opt/anaconda3/lib/python3.13/site-packages (from bitsandbytes) (1.15.3)\n",
      "Requirement already satisfied: aiohappyeyeballs>=2.3.0 in /opt/anaconda3/lib/python3.13/site-packages (from aiohttp!=4.0.0a0,!=4.0.0a1->fsspec[http]<=2025.3.0,>=2023.1.0->datasets) (2.4.4)\n",
      "Requirement already satisfied: aiosignal>=1.1.2 in /opt/anaconda3/lib/python3.13/site-packages (from aiohttp!=4.0.0a0,!=4.0.0a1->fsspec[http]<=2025.3.0,>=2023.1.0->datasets) (1.2.0)\n",
      "Requirement already satisfied: attrs>=17.3.0 in /opt/anaconda3/lib/python3.13/site-packages (from aiohttp!=4.0.0a0,!=4.0.0a1->fsspec[http]<=2025.3.0,>=2023.1.0->datasets) (24.3.0)\n",
      "Requirement already satisfied: frozenlist>=1.1.1 in /opt/anaconda3/lib/python3.13/site-packages (from aiohttp!=4.0.0a0,!=4.0.0a1->fsspec[http]<=2025.3.0,>=2023.1.0->datasets) (1.5.0)\n",
      "Requirement already satisfied: multidict<7.0,>=4.5 in /opt/anaconda3/lib/python3.13/site-packages (from aiohttp!=4.0.0a0,!=4.0.0a1->fsspec[http]<=2025.3.0,>=2023.1.0->datasets) (6.1.0)\n",
      "Requirement already satisfied: propcache>=0.2.0 in /opt/anaconda3/lib/python3.13/site-packages (from aiohttp!=4.0.0a0,!=4.0.0a1->fsspec[http]<=2025.3.0,>=2023.1.0->datasets) (0.3.1)\n",
      "Requirement already satisfied: yarl<2.0,>=1.17.0 in /opt/anaconda3/lib/python3.13/site-packages (from aiohttp!=4.0.0a0,!=4.0.0a1->fsspec[http]<=2025.3.0,>=2023.1.0->datasets) (1.18.0)\n",
      "Requirement already satisfied: idna>=2.0 in /opt/anaconda3/lib/python3.13/site-packages (from yarl<2.0,>=1.17.0->aiohttp!=4.0.0a0,!=4.0.0a1->fsspec[http]<=2025.3.0,>=2023.1.0->datasets) (3.7)\n",
      "Requirement already satisfied: charset-normalizer<4,>=2 in /opt/anaconda3/lib/python3.13/site-packages (from requests->transformers) (3.3.2)\n",
      "Requirement already satisfied: urllib3<3,>=1.21.1 in /opt/anaconda3/lib/python3.13/site-packages (from requests->transformers) (2.3.0)\n",
      "Requirement already satisfied: certifi>=2017.4.17 in /opt/anaconda3/lib/python3.13/site-packages (from requests->transformers) (2025.7.9)\n",
      "Requirement already satisfied: setuptools in /opt/anaconda3/lib/python3.13/site-packages (from torch>=1.13.0->peft) (72.1.0)\n",
      "Requirement already satisfied: sympy>=1.13.3 in /opt/anaconda3/lib/python3.13/site-packages (from torch>=1.13.0->peft) (1.13.3)\n",
      "Requirement already satisfied: networkx in /opt/anaconda3/lib/python3.13/site-packages (from torch>=1.13.0->peft) (3.4.2)\n",
      "Requirement already satisfied: jinja2 in /opt/anaconda3/lib/python3.13/site-packages (from torch>=1.13.0->peft) (3.1.6)\n",
      "Requirement already satisfied: mpmath<1.4,>=1.1.0 in /opt/anaconda3/lib/python3.13/site-packages (from sympy>=1.13.3->torch>=1.13.0->peft) (1.3.0)\n",
      "Requirement already satisfied: MarkupSafe>=2.0 in /opt/anaconda3/lib/python3.13/site-packages (from jinja2->torch>=1.13.0->peft) (3.0.2)\n",
      "Requirement already satisfied: python-dateutil>=2.8.2 in /opt/anaconda3/lib/python3.13/site-packages (from pandas->datasets) (2.9.0.post0)\n",
      "Requirement already satisfied: pytz>=2020.1 in /opt/anaconda3/lib/python3.13/site-packages (from pandas->datasets) (2024.1)\n",
      "Requirement already satisfied: tzdata>=2022.7 in /opt/anaconda3/lib/python3.13/site-packages (from pandas->datasets) (2025.2)\n",
      "Requirement already satisfied: six>=1.5 in /opt/anaconda3/lib/python3.13/site-packages (from python-dateutil>=2.8.2->pandas->datasets) (1.17.0)\n",
      "Downloading datasets-4.0.0-py3-none-any.whl (494 kB)\n",
      "Downloading fsspec-2025.3.0-py3-none-any.whl (193 kB)\n",
      "Downloading multiprocess-0.70.16-py312-none-any.whl (146 kB)\n",
      "Downloading peft-0.17.0-py3-none-any.whl (503 kB)\n",
      "Downloading bitsandbytes-0.42.0-py3-none-any.whl (105.0 MB)\n",
      "\u001b[2K   \u001b[90m━━━━━━━━━━━━━━━━━━━━━━━━━━━━━━━━━━━━━━━━\u001b[0m \u001b[32m105.0/105.0 MB\u001b[0m \u001b[31m44.6 MB/s\u001b[0m eta \u001b[36m0:00:00\u001b[0m00:01\u001b[0m0:01\u001b[0m\n",
      "Downloading xxhash-3.5.0-cp313-cp313-macosx_11_0_arm64.whl (30 kB)\n",
      "Installing collected packages: xxhash, multiprocess, fsspec, bitsandbytes, datasets, peft\n",
      "\u001b[2K  Attempting uninstall: fsspec\n",
      "\u001b[2K    Found existing installation: fsspec 2025.3.2\n",
      "\u001b[2K    Uninstalling fsspec-2025.3.2:\n",
      "\u001b[2K      Successfully uninstalled fsspec-2025.3.2\n",
      "\u001b[2K   \u001b[90m━━━━━━━━━━━━━━━━━━━━━━━━━━━━━━━━━━━━━━━━\u001b[0m \u001b[32m6/6\u001b[0m [peft][32m5/6\u001b[0m [peft]ets]tes]\n",
      "\u001b[31mERROR: pip's dependency resolver does not currently take into account all the packages that are installed. This behaviour is the source of the following dependency conflicts.\n",
      "s3fs 2025.3.2 requires fsspec==2025.3.2.*, but you have fsspec 2025.3.0 which is incompatible.\u001b[0m\u001b[31m\n",
      "\u001b[0mSuccessfully installed bitsandbytes-0.42.0 datasets-4.0.0 fsspec-2025.3.0 multiprocess-0.70.16 peft-0.17.0 xxhash-3.5.0\n",
      "Note: you may need to restart the kernel to use updated packages.\n"
     ]
    }
   ],
   "source": [
    "pip install transformers datasets peft accelerate bitsandbytes"
   ]
  },
  {
   "cell_type": "code",
   "execution_count": 3,
   "id": "1b434d2f-4a34-4163-8738-8ef7b163d667",
   "metadata": {},
   "outputs": [
    {
     "name": "stdout",
     "output_type": "stream",
     "text": [
      "Requirement already satisfied: huggingface_hub in /opt/anaconda3/lib/python3.13/site-packages (0.33.1)\n",
      "Requirement already satisfied: filelock in /opt/anaconda3/lib/python3.13/site-packages (from huggingface_hub) (3.17.0)\n",
      "Requirement already satisfied: fsspec>=2023.5.0 in /opt/anaconda3/lib/python3.13/site-packages (from huggingface_hub) (2025.3.0)\n",
      "Requirement already satisfied: packaging>=20.9 in /opt/anaconda3/lib/python3.13/site-packages (from huggingface_hub) (24.2)\n",
      "Requirement already satisfied: pyyaml>=5.1 in /opt/anaconda3/lib/python3.13/site-packages (from huggingface_hub) (6.0.2)\n",
      "Requirement already satisfied: requests in /opt/anaconda3/lib/python3.13/site-packages (from huggingface_hub) (2.32.3)\n",
      "Requirement already satisfied: tqdm>=4.42.1 in /opt/anaconda3/lib/python3.13/site-packages (from huggingface_hub) (4.67.1)\n",
      "Requirement already satisfied: typing-extensions>=3.7.4.3 in /opt/anaconda3/lib/python3.13/site-packages (from huggingface_hub) (4.12.2)\n",
      "Requirement already satisfied: hf-xet<2.0.0,>=1.1.2 in /opt/anaconda3/lib/python3.13/site-packages (from huggingface_hub) (1.1.5)\n",
      "Requirement already satisfied: charset-normalizer<4,>=2 in /opt/anaconda3/lib/python3.13/site-packages (from requests->huggingface_hub) (3.3.2)\n",
      "Requirement already satisfied: idna<4,>=2.5 in /opt/anaconda3/lib/python3.13/site-packages (from requests->huggingface_hub) (3.7)\n",
      "Requirement already satisfied: urllib3<3,>=1.21.1 in /opt/anaconda3/lib/python3.13/site-packages (from requests->huggingface_hub) (2.3.0)\n",
      "Requirement already satisfied: certifi>=2017.4.17 in /opt/anaconda3/lib/python3.13/site-packages (from requests->huggingface_hub) (2025.7.9)\n",
      "Collecting sentencepiece\n",
      "  Downloading sentencepiece-0.2.0.tar.gz (2.6 MB)\n",
      "\u001b[2K     \u001b[90m━━━━━━━━━━━━━━━━━━━━━━━━━━━━━━━━━━━━━━━━\u001b[0m \u001b[32m2.6/2.6 MB\u001b[0m \u001b[31m13.6 MB/s\u001b[0m eta \u001b[36m0:00:00\u001b[0ma \u001b[36m0:00:01\u001b[0m\n",
      "  Preparing metadata (setup.py) ... \u001b[?25ldone\n",
      "\u001b[?25hBuilding wheels for collected packages: sentencepiece\n",
      "\u001b[33m  DEPRECATION: Building 'sentencepiece' using the legacy setup.py bdist_wheel mechanism, which will be removed in a future version. pip 25.3 will enforce this behaviour change. A possible replacement is to use the standardized build interface by setting the `--use-pep517` option, (possibly combined with `--no-build-isolation`), or adding a `pyproject.toml` file to the source tree of 'sentencepiece'. Discussion can be found at https://github.com/pypa/pip/issues/6334\u001b[0m\u001b[33m\n",
      "  Building wheel for sentencepiece (setup.py) ... \u001b[?2error\n",
      "  \u001b[1;31merror\u001b[0m: \u001b[1msubprocess-exited-with-error\u001b[0m\n",
      "  \n",
      "  \u001b[31m×\u001b[0m \u001b[32mpython setup.py bdist_wheel\u001b[0m did not run successfully.\n",
      "  \u001b[31m│\u001b[0m exit code: \u001b[1;36m1\u001b[0m\n",
      "  \u001b[31m╰─>\u001b[0m \u001b[31m[98 lines of output]\u001b[0m\n",
      "  \u001b[31m   \u001b[0m /opt/anaconda3/lib/python3.13/site-packages/setuptools/_distutils/dist.py:268: UserWarning: Unknown distribution option: 'test_suite'\n",
      "  \u001b[31m   \u001b[0m   warnings.warn(msg)\n",
      "  \u001b[31m   \u001b[0m running bdist_wheel\n",
      "  \u001b[31m   \u001b[0m running build\n",
      "  \u001b[31m   \u001b[0m running build_py\n",
      "  \u001b[31m   \u001b[0m creating build\n",
      "  \u001b[31m   \u001b[0m creating build/lib.macosx-11.1-arm64-cpython-313\n",
      "  \u001b[31m   \u001b[0m creating build/lib.macosx-11.1-arm64-cpython-313/sentencepiece\n",
      "  \u001b[31m   \u001b[0m copying src/sentencepiece/__init__.py -> build/lib.macosx-11.1-arm64-cpython-313/sentencepiece\n",
      "  \u001b[31m   \u001b[0m copying src/sentencepiece/_version.py -> build/lib.macosx-11.1-arm64-cpython-313/sentencepiece\n",
      "  \u001b[31m   \u001b[0m copying src/sentencepiece/sentencepiece_model_pb2.py -> build/lib.macosx-11.1-arm64-cpython-313/sentencepiece\n",
      "  \u001b[31m   \u001b[0m copying src/sentencepiece/sentencepiece_pb2.py -> build/lib.macosx-11.1-arm64-cpython-313/sentencepiece\n",
      "  \u001b[31m   \u001b[0m running build_ext\n",
      "  \u001b[31m   \u001b[0m /bin/sh: pkg-config: command not found\n",
      "  \u001b[31m   \u001b[0m ./build_bundled.sh: line 21: cmake: command not found\n",
      "  \u001b[31m   \u001b[0m ./build_bundled.sh: line 22: nproc: command not found\n",
      "  \u001b[31m   \u001b[0m ./build_bundled.sh: line 22: cmake: command not found\n",
      "  \u001b[31m   \u001b[0m Traceback (most recent call last):\n",
      "  \u001b[31m   \u001b[0m   File \u001b[35m\"<string>\"\u001b[0m, line \u001b[35m2\u001b[0m, in \u001b[35m<module>\u001b[0m\n",
      "  \u001b[31m   \u001b[0m     \u001b[31mexec\u001b[0m\u001b[1;31m(compile('''\u001b[0m\n",
      "  \u001b[31m   \u001b[0m     \u001b[31m~~~~\u001b[0m\u001b[1;31m^^^^^^^^^^^^\u001b[0m\n",
      "  \u001b[31m   \u001b[0m     \u001b[1;31m# This is <pip-setuptools-caller> -- a caller that pip uses to run setup.py\u001b[0m\n",
      "  \u001b[31m   \u001b[0m     \u001b[1;31m^^^^^^^^^^^^^^^^^^^^^^^^^^^^^^^^^^^^^^^^^^^^^^^^^^^^^^^^^^^^^^^^^^^^^^^^^^^\u001b[0m\n",
      "  \u001b[31m   \u001b[0m     ...<32 lines>...\n",
      "  \u001b[31m   \u001b[0m     \u001b[1;31mexec(compile(setup_py_code, filename, \"exec\"))\u001b[0m\n",
      "  \u001b[31m   \u001b[0m     \u001b[1;31m^^^^^^^^^^^^^^^^^^^^^^^^^^^^^^^^^^^^^^^^^^^^^^\u001b[0m\n",
      "  \u001b[31m   \u001b[0m     \u001b[1;31m''' % ('/private/var/folders/8x/qy8j1cyj36jd9vpnlk90r0hh0000gn/T/pip-install-zdhugdw4/sentencepiece_68d7678050bc4c1789df24b7b221816d/setup.py',), \"<pip-setuptools-caller>\", \"exec\"))\u001b[0m\n",
      "  \u001b[31m   \u001b[0m     \u001b[1;31m^^^^^^^^^^^^^^^^^^^^^^^^^^^^^^^^^^^^^^^^^^^^^^^^^^^^^^^^^^^^^^^^^^^^^^^^^^^^^^^^^^^^^^^^^^^^^^^^^^^^^^^^^^^^^^^^^^^^^^^^^^^^^^^^^^^^^^^^^^^^^^^^^^^^^^^^^^^^^^^^^^^^^^^^^^^^^^^^^^^^^\u001b[0m\n",
      "  \u001b[31m   \u001b[0m   File \u001b[35m\"<pip-setuptools-caller>\"\u001b[0m, line \u001b[35m35\u001b[0m, in \u001b[35m<module>\u001b[0m\n",
      "  \u001b[31m   \u001b[0m   File \u001b[35m\"/private/var/folders/8x/qy8j1cyj36jd9vpnlk90r0hh0000gn/T/pip-install-zdhugdw4/sentencepiece_68d7678050bc4c1789df24b7b221816d/setup.py\"\u001b[0m, line \u001b[35m169\u001b[0m, in \u001b[35m<module>\u001b[0m\n",
      "  \u001b[31m   \u001b[0m     \u001b[31msetup\u001b[0m\u001b[1;31m(\u001b[0m\n",
      "  \u001b[31m   \u001b[0m     \u001b[31m~~~~~\u001b[0m\u001b[1;31m^\u001b[0m\n",
      "  \u001b[31m   \u001b[0m         \u001b[1;31mname='sentencepiece',\u001b[0m\n",
      "  \u001b[31m   \u001b[0m         \u001b[1;31m^^^^^^^^^^^^^^^^^^^^^\u001b[0m\n",
      "  \u001b[31m   \u001b[0m     ...<29 lines>...\n",
      "  \u001b[31m   \u001b[0m         \u001b[1;31mtest_suite='sentencepiece_test.suite',\u001b[0m\n",
      "  \u001b[31m   \u001b[0m         \u001b[1;31m^^^^^^^^^^^^^^^^^^^^^^^^^^^^^^^^^^^^^^\u001b[0m\n",
      "  \u001b[31m   \u001b[0m     \u001b[1;31m)\u001b[0m\n",
      "  \u001b[31m   \u001b[0m     \u001b[1;31m^\u001b[0m\n",
      "  \u001b[31m   \u001b[0m   File \u001b[35m\"/opt/anaconda3/lib/python3.13/site-packages/setuptools/__init__.py\"\u001b[0m, line \u001b[35m108\u001b[0m, in \u001b[35msetup\u001b[0m\n",
      "  \u001b[31m   \u001b[0m     return \u001b[31mdistutils.core.setup\u001b[0m\u001b[1;31m(**attrs)\u001b[0m\n",
      "  \u001b[31m   \u001b[0m            \u001b[31m~~~~~~~~~~~~~~~~~~~~\u001b[0m\u001b[1;31m^^^^^^^^^\u001b[0m\n",
      "  \u001b[31m   \u001b[0m   File \u001b[35m\"/opt/anaconda3/lib/python3.13/site-packages/setuptools/_distutils/core.py\"\u001b[0m, line \u001b[35m184\u001b[0m, in \u001b[35msetup\u001b[0m\n",
      "  \u001b[31m   \u001b[0m     return run_commands(dist)\n",
      "  \u001b[31m   \u001b[0m   File \u001b[35m\"/opt/anaconda3/lib/python3.13/site-packages/setuptools/_distutils/core.py\"\u001b[0m, line \u001b[35m200\u001b[0m, in \u001b[35mrun_commands\u001b[0m\n",
      "  \u001b[31m   \u001b[0m     \u001b[31mdist.run_commands\u001b[0m\u001b[1;31m()\u001b[0m\n",
      "  \u001b[31m   \u001b[0m     \u001b[31m~~~~~~~~~~~~~~~~~\u001b[0m\u001b[1;31m^^\u001b[0m\n",
      "  \u001b[31m   \u001b[0m   File \u001b[35m\"/opt/anaconda3/lib/python3.13/site-packages/setuptools/_distutils/dist.py\"\u001b[0m, line \u001b[35m970\u001b[0m, in \u001b[35mrun_commands\u001b[0m\n",
      "  \u001b[31m   \u001b[0m     \u001b[31mself.run_command\u001b[0m\u001b[1;31m(cmd)\u001b[0m\n",
      "  \u001b[31m   \u001b[0m     \u001b[31m~~~~~~~~~~~~~~~~\u001b[0m\u001b[1;31m^^^^^\u001b[0m\n",
      "  \u001b[31m   \u001b[0m   File \u001b[35m\"/opt/anaconda3/lib/python3.13/site-packages/setuptools/dist.py\"\u001b[0m, line \u001b[35m945\u001b[0m, in \u001b[35mrun_command\u001b[0m\n",
      "  \u001b[31m   \u001b[0m     \u001b[31msuper().run_command\u001b[0m\u001b[1;31m(command)\u001b[0m\n",
      "  \u001b[31m   \u001b[0m     \u001b[31m~~~~~~~~~~~~~~~~~~~\u001b[0m\u001b[1;31m^^^^^^^^^\u001b[0m\n",
      "  \u001b[31m   \u001b[0m   File \u001b[35m\"/opt/anaconda3/lib/python3.13/site-packages/setuptools/_distutils/dist.py\"\u001b[0m, line \u001b[35m989\u001b[0m, in \u001b[35mrun_command\u001b[0m\n",
      "  \u001b[31m   \u001b[0m     \u001b[31mcmd_obj.run\u001b[0m\u001b[1;31m()\u001b[0m\n",
      "  \u001b[31m   \u001b[0m     \u001b[31m~~~~~~~~~~~\u001b[0m\u001b[1;31m^^\u001b[0m\n",
      "  \u001b[31m   \u001b[0m   File \u001b[35m\"/opt/anaconda3/lib/python3.13/site-packages/setuptools/command/bdist_wheel.py\"\u001b[0m, line \u001b[35m373\u001b[0m, in \u001b[35mrun\u001b[0m\n",
      "  \u001b[31m   \u001b[0m     \u001b[31mself.run_command\u001b[0m\u001b[1;31m(\"build\")\u001b[0m\n",
      "  \u001b[31m   \u001b[0m     \u001b[31m~~~~~~~~~~~~~~~~\u001b[0m\u001b[1;31m^^^^^^^^^\u001b[0m\n",
      "  \u001b[31m   \u001b[0m   File \u001b[35m\"/opt/anaconda3/lib/python3.13/site-packages/setuptools/_distutils/cmd.py\"\u001b[0m, line \u001b[35m316\u001b[0m, in \u001b[35mrun_command\u001b[0m\n",
      "  \u001b[31m   \u001b[0m     \u001b[31mself.distribution.run_command\u001b[0m\u001b[1;31m(command)\u001b[0m\n",
      "  \u001b[31m   \u001b[0m     \u001b[31m~~~~~~~~~~~~~~~~~~~~~~~~~~~~~\u001b[0m\u001b[1;31m^^^^^^^^^\u001b[0m\n",
      "  \u001b[31m   \u001b[0m   File \u001b[35m\"/opt/anaconda3/lib/python3.13/site-packages/setuptools/dist.py\"\u001b[0m, line \u001b[35m945\u001b[0m, in \u001b[35mrun_command\u001b[0m\n",
      "  \u001b[31m   \u001b[0m     \u001b[31msuper().run_command\u001b[0m\u001b[1;31m(command)\u001b[0m\n",
      "  \u001b[31m   \u001b[0m     \u001b[31m~~~~~~~~~~~~~~~~~~~\u001b[0m\u001b[1;31m^^^^^^^^^\u001b[0m\n",
      "  \u001b[31m   \u001b[0m   File \u001b[35m\"/opt/anaconda3/lib/python3.13/site-packages/setuptools/_distutils/dist.py\"\u001b[0m, line \u001b[35m989\u001b[0m, in \u001b[35mrun_command\u001b[0m\n",
      "  \u001b[31m   \u001b[0m     \u001b[31mcmd_obj.run\u001b[0m\u001b[1;31m()\u001b[0m\n",
      "  \u001b[31m   \u001b[0m     \u001b[31m~~~~~~~~~~~\u001b[0m\u001b[1;31m^^\u001b[0m\n",
      "  \u001b[31m   \u001b[0m   File \u001b[35m\"/opt/anaconda3/lib/python3.13/site-packages/setuptools/_distutils/command/build.py\"\u001b[0m, line \u001b[35m135\u001b[0m, in \u001b[35mrun\u001b[0m\n",
      "  \u001b[31m   \u001b[0m     \u001b[31mself.run_command\u001b[0m\u001b[1;31m(cmd_name)\u001b[0m\n",
      "  \u001b[31m   \u001b[0m     \u001b[31m~~~~~~~~~~~~~~~~\u001b[0m\u001b[1;31m^^^^^^^^^^\u001b[0m\n",
      "  \u001b[31m   \u001b[0m   File \u001b[35m\"/opt/anaconda3/lib/python3.13/site-packages/setuptools/_distutils/cmd.py\"\u001b[0m, line \u001b[35m316\u001b[0m, in \u001b[35mrun_command\u001b[0m\n",
      "  \u001b[31m   \u001b[0m     \u001b[31mself.distribution.run_command\u001b[0m\u001b[1;31m(command)\u001b[0m\n",
      "  \u001b[31m   \u001b[0m     \u001b[31m~~~~~~~~~~~~~~~~~~~~~~~~~~~~~\u001b[0m\u001b[1;31m^^^^^^^^^\u001b[0m\n",
      "  \u001b[31m   \u001b[0m   File \u001b[35m\"/opt/anaconda3/lib/python3.13/site-packages/setuptools/dist.py\"\u001b[0m, line \u001b[35m945\u001b[0m, in \u001b[35mrun_command\u001b[0m\n",
      "  \u001b[31m   \u001b[0m     \u001b[31msuper().run_command\u001b[0m\u001b[1;31m(command)\u001b[0m\n",
      "  \u001b[31m   \u001b[0m     \u001b[31m~~~~~~~~~~~~~~~~~~~\u001b[0m\u001b[1;31m^^^^^^^^^\u001b[0m\n",
      "  \u001b[31m   \u001b[0m   File \u001b[35m\"/opt/anaconda3/lib/python3.13/site-packages/setuptools/_distutils/dist.py\"\u001b[0m, line \u001b[35m989\u001b[0m, in \u001b[35mrun_command\u001b[0m\n",
      "  \u001b[31m   \u001b[0m     \u001b[31mcmd_obj.run\u001b[0m\u001b[1;31m()\u001b[0m\n",
      "  \u001b[31m   \u001b[0m     \u001b[31m~~~~~~~~~~~\u001b[0m\u001b[1;31m^^\u001b[0m\n",
      "  \u001b[31m   \u001b[0m   File \u001b[35m\"/opt/anaconda3/lib/python3.13/site-packages/setuptools/command/build_ext.py\"\u001b[0m, line \u001b[35m93\u001b[0m, in \u001b[35mrun\u001b[0m\n",
      "  \u001b[31m   \u001b[0m     \u001b[31m_build_ext.run\u001b[0m\u001b[1;31m(self)\u001b[0m\n",
      "  \u001b[31m   \u001b[0m     \u001b[31m~~~~~~~~~~~~~~\u001b[0m\u001b[1;31m^^^^^^\u001b[0m\n",
      "  \u001b[31m   \u001b[0m   File \u001b[35m\"/opt/anaconda3/lib/python3.13/site-packages/setuptools/_distutils/command/build_ext.py\"\u001b[0m, line \u001b[35m359\u001b[0m, in \u001b[35mrun\u001b[0m\n",
      "  \u001b[31m   \u001b[0m     \u001b[31mself.build_extensions\u001b[0m\u001b[1;31m()\u001b[0m\n",
      "  \u001b[31m   \u001b[0m     \u001b[31m~~~~~~~~~~~~~~~~~~~~~\u001b[0m\u001b[1;31m^^\u001b[0m\n",
      "  \u001b[31m   \u001b[0m   File \u001b[35m\"/opt/anaconda3/lib/python3.13/site-packages/setuptools/_distutils/command/build_ext.py\"\u001b[0m, line \u001b[35m479\u001b[0m, in \u001b[35mbuild_extensions\u001b[0m\n",
      "  \u001b[31m   \u001b[0m     \u001b[31mself._build_extensions_serial\u001b[0m\u001b[1;31m()\u001b[0m\n",
      "  \u001b[31m   \u001b[0m     \u001b[31m~~~~~~~~~~~~~~~~~~~~~~~~~~~~~\u001b[0m\u001b[1;31m^^\u001b[0m\n",
      "  \u001b[31m   \u001b[0m   File \u001b[35m\"/opt/anaconda3/lib/python3.13/site-packages/setuptools/_distutils/command/build_ext.py\"\u001b[0m, line \u001b[35m505\u001b[0m, in \u001b[35m_build_extensions_serial\u001b[0m\n",
      "  \u001b[31m   \u001b[0m     \u001b[31mself.build_extension\u001b[0m\u001b[1;31m(ext)\u001b[0m\n",
      "  \u001b[31m   \u001b[0m     \u001b[31m~~~~~~~~~~~~~~~~~~~~\u001b[0m\u001b[1;31m^^^^^\u001b[0m\n",
      "  \u001b[31m   \u001b[0m   File \u001b[35m\"/private/var/folders/8x/qy8j1cyj36jd9vpnlk90r0hh0000gn/T/pip-install-zdhugdw4/sentencepiece_68d7678050bc4c1789df24b7b221816d/setup.py\"\u001b[0m, line \u001b[35m87\u001b[0m, in \u001b[35mbuild_extension\u001b[0m\n",
      "  \u001b[31m   \u001b[0m     \u001b[31msubprocess.check_call\u001b[0m\u001b[1;31m(['./build_bundled.sh', __version__])\u001b[0m\n",
      "  \u001b[31m   \u001b[0m     \u001b[31m~~~~~~~~~~~~~~~~~~~~~\u001b[0m\u001b[1;31m^^^^^^^^^^^^^^^^^^^^^^^^^^^^^^^^^^^^^\u001b[0m\n",
      "  \u001b[31m   \u001b[0m   File \u001b[35m\"/opt/anaconda3/lib/python3.13/subprocess.py\"\u001b[0m, line \u001b[35m419\u001b[0m, in \u001b[35mcheck_call\u001b[0m\n",
      "  \u001b[31m   \u001b[0m     raise CalledProcessError(retcode, cmd)\n",
      "  \u001b[31m   \u001b[0m \u001b[1;35msubprocess.CalledProcessError\u001b[0m: \u001b[35mCommand '['./build_bundled.sh', '0.2.0']' returned non-zero exit status 127.\u001b[0m\n",
      "  \u001b[31m   \u001b[0m \u001b[31m[end of output]\u001b[0m\n",
      "  \n",
      "  \u001b[1;35mnote\u001b[0m: This error originates from a subprocess, and is likely not a problem with pip.\n",
      "\u001b[31m  ERROR: Failed building wheel for sentencepiece\u001b[0m\u001b[31m\n",
      "\u001b[0m\u001b[?25h  Running setup.py clean for sentencepiece\n",
      "Failed to build sentencepiece\n",
      "\u001b[31mERROR: Failed to build installable wheels for some pyproject.toml based projects (sentencepiece)\u001b[0m\u001b[31m\n",
      "\u001b[0m"
     ]
    }
   ],
   "source": [
    "!pip install huggingface_hub\n",
    "!pip install sentencepiece"
   ]
  },
  {
   "cell_type": "code",
   "execution_count": 5,
   "id": "7a7d7286-62d8-4b6a-bc92-55de7f556e2a",
   "metadata": {},
   "outputs": [
    {
     "name": "stdout",
     "output_type": "stream",
     "text": [
      "\u001b[1;33mJupyter detected\u001b[0m\u001b[1;33m...\u001b[0m\n",
      "\u001b[1;32m2\u001b[0m\u001b[1;32m channel Terms of Service accepted\u001b[0m\n",
      "doneieving notices: - \n",
      "Channels:\n",
      " - conda-forge\n",
      " - defaults\n",
      "Platform: osx-arm64\n",
      "doneecting package metadata (repodata.json): - \n",
      "doneing environment: \\ \n",
      "\n",
      "## Package Plan ##\n",
      "\n",
      "  environment location: /opt/anaconda3\n",
      "\n",
      "  added / updated specs:\n",
      "    - sentencepiece\n",
      "\n",
      "\n",
      "The following packages will be downloaded:\n",
      "\n",
      "    package                    |            build\n",
      "    ---------------------------|-----------------\n",
      "    ca-certificates-2025.8.3   |       hbd8a1cb_0         151 KB  conda-forge\n",
      "    certifi-2025.8.3           |     pyhd8ed1ab_0         155 KB  conda-forge\n",
      "    libsentencepiece-0.2.0     |       hc1ab07e_4         880 KB\n",
      "    sentencepiece-0.2.0        |       hca03da5_4          17 KB\n",
      "    sentencepiece-python-0.2.0 |  py313h48ca7d4_4         3.1 MB\n",
      "    sentencepiece-spm-0.2.0    |       h48ca7d4_4          84 KB\n",
      "    ------------------------------------------------------------\n",
      "                                           Total:         4.3 MB\n",
      "\n",
      "The following NEW packages will be INSTALLED:\n",
      "\n",
      "  libsentencepiece   pkgs/main/osx-arm64::libsentencepiece-0.2.0-hc1ab07e_4 \n",
      "  sentencepiece      pkgs/main/osx-arm64::sentencepiece-0.2.0-hca03da5_4 \n",
      "  sentencepiece-pyt~ pkgs/main/osx-arm64::sentencepiece-python-0.2.0-py313h48ca7d4_4 \n",
      "  sentencepiece-spm  pkgs/main/osx-arm64::sentencepiece-spm-0.2.0-h48ca7d4_4 \n",
      "\n",
      "The following packages will be UPDATED:\n",
      "\n",
      "  ca-certificates                       2025.7.9-hbd8a1cb_0 --> 2025.8.3-hbd8a1cb_0 \n",
      "  certifi                             2025.7.9-pyhd8ed1ab_0 --> 2025.8.3-pyhd8ed1ab_0 \n",
      "\n",
      "\n",
      "\n",
      "Downloading and Extracting Packages:\n",
      "sentencepiece-python | 3.1 MB    |                                       |   0% \n",
      "libsentencepiece-0.2 | 880 KB    |                                       |   0% \u001b[A\n",
      "\n",
      "certifi-2025.8.3     | 155 KB    |                                       |   0% \u001b[A\u001b[A\n",
      "\n",
      "\n",
      "ca-certificates-2025 | 151 KB    |                                       |   0% \u001b[A\u001b[A\u001b[A\n",
      "\n",
      "\n",
      "\n",
      "sentencepiece-spm-0. | 84 KB     |                                       |   0% \u001b[A\u001b[A\u001b[A\u001b[A\n",
      "\n",
      "\n",
      "\n",
      "\n",
      "sentencepiece-python | 3.1 MB    | 1                                     |   1% \u001b[A\u001b[A\u001b[A\u001b[A\u001b[A\n",
      "\n",
      "\n",
      "ca-certificates-2025 | 151 KB    | ###9                                  |  11% \u001b[A\u001b[A\u001b[A\n",
      "\n",
      "certifi-2025.8.3     | 155 KB    | ###8                                  |  10% \u001b[A\u001b[A\n",
      "\n",
      "\n",
      "\n",
      "sentencepiece-spm-0. | 84 KB     | #######                               |  19% \u001b[A\u001b[A\u001b[A\u001b[A\n",
      "\n",
      "\n",
      "\n",
      "sentencepiece-spm-0. | 84 KB     | ##################################### | 100% \u001b[A\u001b[A\u001b[A\u001b[A\n",
      "\n",
      "\n",
      "\n",
      "sentencepiece-spm-0. | 84 KB     | ##################################### | 100% \u001b[A\u001b[A\u001b[A\u001b[A\n",
      "\n",
      "\n",
      "ca-certificates-2025 | 151 KB    | ##################################### | 100% \u001b[A\u001b[A\u001b[A\n",
      "\n",
      "certifi-2025.8.3     | 155 KB    | ##################################### | 100% \u001b[A\u001b[A\n",
      "\n",
      "\n",
      "ca-certificates-2025 | 151 KB    | ##################################### | 100% \u001b[A\u001b[A\u001b[A\n",
      "\n",
      "sentencepiece-python | 3.1 MB    | ############                          |  33% \u001b[A\u001b[A\n",
      "libsentencepiece-0.2 | 880 KB    | 6                                     |   2% \u001b[A\n",
      "\n",
      "\n",
      "\n",
      "\n",
      "sentencepiece-0.2.0  | 17 KB     | ###################################3  |  96% \u001b[A\u001b[A\u001b[A\u001b[A\u001b[A\n",
      "\n",
      "\n",
      "\n",
      "\n",
      "sentencepiece-0.2.0  | 17 KB     | ##################################### | 100% \u001b[A\u001b[A\u001b[A\u001b[A\u001b[A\n",
      "\n",
      "\n",
      "\n",
      "\n",
      "sentencepiece-python | 3.1 MB    | ##################################### | 100% \u001b[A\u001b[A\u001b[A\u001b[A\u001b[A\n",
      "libsentencepiece-0.2 | 880 KB    | ############################9         |  78% \u001b[A\n",
      "libsentencepiece-0.2 | 880 KB    | ##################################### | 100% \u001b[A\n",
      "                                                                                \u001b[A\n",
      "                                                                                \u001b[A\n",
      "\n",
      "                                                                                \u001b[A\u001b[A\n",
      "\n",
      "\n",
      "                                                                                \u001b[A\u001b[A\u001b[A\n",
      "\n",
      "\n",
      "\n",
      "                                                                                \u001b[A\u001b[A\u001b[A\u001b[A\n",
      "\n",
      "\n",
      "\n",
      "\n",
      "                                                                                \u001b[A\u001b[A\u001b[A\u001b[A\u001b[A\n",
      "donearing transaction: \\ \n",
      "donefying transaction: / \n",
      "doneuting transaction: \\ \n",
      "\n",
      "Note: you may need to restart the kernel to use updated packages.\n"
     ]
    }
   ],
   "source": [
    "conda install -c conda-forge sentencepiece"
   ]
  },
  {
   "cell_type": "code",
   "execution_count": 32,
   "id": "982cd2ef-e671-4d37-8aef-1c57c7a4dc00",
   "metadata": {},
   "outputs": [],
   "source": [
    "import pandas as pd\n",
    "from datasets import Dataset\n",
    "\n",
    "# Load both files\n",
    "df_gpt = pd.read_csv(\"data/sample/debate_tweets_sample_1000_for_annotation_labeled.csv\")\n",
    "df_ollama = pd.read_csv(\"data/sample/debate_tweets_sample_1000_for_annotation_labeled_ollama.csv\")\n",
    "\n",
    "# Restrict both to first 100 rows (where both models overlap)\n",
    "df_gpt_100 = df_gpt.iloc[:100].copy()\n",
    "df_ollama_100 = df_ollama.iloc[:100].copy()"
   ]
  },
  {
   "cell_type": "code",
   "execution_count": 33,
   "id": "38e693b6-e1b4-4842-a7fb-bd1c7967e02c",
   "metadata": {},
   "outputs": [],
   "source": [
    "data = []\n",
    "\n",
    "for _, row in df_gpt_100.iterrows():\n",
    "    prompt = f'Classify the following tweet: \"{row[\"santext\"]}\"'\n",
    "    response = {\n",
    "        \"polar_score\": row[\"polar_score\"],\n",
    "        \"pole_label\": row[\"pole_label\"],\n",
    "        \"valid\": row[\"valid\"],\n",
    "        \"comments\": row[\"comments\"] if isinstance(row[\"comments\"], str) else \"\"\n",
    "    }\n",
    "\n",
    "    # Add the formatted prompt-response pair to data\n",
    "    data.append({\n",
    "        \"prompt\": prompt,\n",
    "        \"response\": str(response)\n",
    "    })"
   ]
  },
  {
   "cell_type": "code",
   "execution_count": 34,
   "id": "5772be40-8eaa-4f66-be2b-c9b3064525b7",
   "metadata": {},
   "outputs": [
    {
     "name": "stdout",
     "output_type": "stream",
     "text": [
      "{'prompt': 'Classify the following tweet: \"rt ryanshead donald trump is dumb as fuuuuuuuuck\"', 'response': \"{'polar_score': '-5', 'pole_label': 'left', 'valid': 1, 'comments': 'Uses derogatory language towards a right-wing political figure.'}\"}\n"
     ]
    }
   ],
   "source": [
    "from datasets import Dataset\n",
    "\n",
    "dataset = Dataset.from_list(data)\n",
    "\n",
    "# check first row\n",
    "print(dataset[0])"
   ]
  },
  {
   "cell_type": "code",
   "execution_count": 35,
   "id": "562a8771-e69d-4bb0-ad66-cda1463a1f5a",
   "metadata": {},
   "outputs": [
    {
     "name": "stdout",
     "output_type": "stream",
     "text": [
      "{'prompt': 'Classify the following tweet: \"rt ryanshead donald trump is dumb as fuuuuuuuuck\"', 'response': '{\"polar_score\": -5, \"pole_label\": \"left\", \"valid\": 1, \"comments\": \"Uses derogatory language towards a right-wing political figure.\"}'}\n"
     ]
    }
   ],
   "source": [
    "import json\n",
    "\n",
    "clean_data = []\n",
    "\n",
    "for _, row in df_gpt_100.iterrows():\n",
    "    prompt = f'Classify the following tweet: \"{row[\"santext\"]}\"'\n",
    "    \n",
    "    # Create response dictionary\n",
    "    response_dict = {\n",
    "        \"polar_score\": int(row[\"polar_score\"]) if row[\"polar_score\"] != \"INV\" else \"INV\",\n",
    "        \"pole_label\": row[\"pole_label\"],\n",
    "        \"valid\": int(row[\"valid\"]),\n",
    "        \"comments\": row[\"comments\"] if isinstance(row[\"comments\"], str) else \"\"\n",
    "    }\n",
    "\n",
    "    # Convert to JSON string\n",
    "    response_json = json.dumps(response_dict, ensure_ascii=False)\n",
    "\n",
    "    clean_data.append({\n",
    "        \"prompt\": prompt,\n",
    "        \"response\": response_json\n",
    "    })\n",
    "\n",
    "# Convert to Hugging Face Dataset\n",
    "from datasets import Dataset\n",
    "dataset = Dataset.from_list(clean_data)\n",
    "\n",
    "# check first row\n",
    "print(dataset[0])"
   ]
  },
  {
   "cell_type": "code",
   "execution_count": 36,
   "id": "d58584e4-985f-40bb-b052-b4b07b02f12e",
   "metadata": {},
   "outputs": [
    {
     "name": "stdout",
     "output_type": "stream",
     "text": [
      "Requirement already satisfied: transformers in /opt/anaconda3/lib/python3.13/site-packages (4.52.4)\n",
      "Requirement already satisfied: peft in /opt/anaconda3/lib/python3.13/site-packages (0.17.0)\n",
      "Requirement already satisfied: accelerate in /opt/anaconda3/lib/python3.13/site-packages (1.9.0)\n",
      "Requirement already satisfied: bitsandbytes in /opt/anaconda3/lib/python3.13/site-packages (0.42.0)\n",
      "Requirement already satisfied: filelock in /opt/anaconda3/lib/python3.13/site-packages (from transformers) (3.17.0)\n",
      "Requirement already satisfied: huggingface-hub<1.0,>=0.30.0 in /opt/anaconda3/lib/python3.13/site-packages (from transformers) (0.33.1)\n",
      "Requirement already satisfied: numpy>=1.17 in /opt/anaconda3/lib/python3.13/site-packages (from transformers) (2.1.3)\n",
      "Requirement already satisfied: packaging>=20.0 in /opt/anaconda3/lib/python3.13/site-packages (from transformers) (24.2)\n",
      "Requirement already satisfied: pyyaml>=5.1 in /opt/anaconda3/lib/python3.13/site-packages (from transformers) (6.0.2)\n",
      "Requirement already satisfied: regex!=2019.12.17 in /opt/anaconda3/lib/python3.13/site-packages (from transformers) (2024.11.6)\n",
      "Requirement already satisfied: requests in /opt/anaconda3/lib/python3.13/site-packages (from transformers) (2.32.3)\n",
      "Requirement already satisfied: tokenizers<0.22,>=0.21 in /opt/anaconda3/lib/python3.13/site-packages (from transformers) (0.21.2)\n",
      "Requirement already satisfied: safetensors>=0.4.3 in /opt/anaconda3/lib/python3.13/site-packages (from transformers) (0.5.3)\n",
      "Requirement already satisfied: tqdm>=4.27 in /opt/anaconda3/lib/python3.13/site-packages (from transformers) (4.67.1)\n",
      "Requirement already satisfied: fsspec>=2023.5.0 in /opt/anaconda3/lib/python3.13/site-packages (from huggingface-hub<1.0,>=0.30.0->transformers) (2025.3.0)\n",
      "Requirement already satisfied: typing-extensions>=3.7.4.3 in /opt/anaconda3/lib/python3.13/site-packages (from huggingface-hub<1.0,>=0.30.0->transformers) (4.12.2)\n",
      "Requirement already satisfied: hf-xet<2.0.0,>=1.1.2 in /opt/anaconda3/lib/python3.13/site-packages (from huggingface-hub<1.0,>=0.30.0->transformers) (1.1.5)\n",
      "Requirement already satisfied: psutil in /opt/anaconda3/lib/python3.13/site-packages (from peft) (5.9.0)\n",
      "Requirement already satisfied: torch>=1.13.0 in /opt/anaconda3/lib/python3.13/site-packages (from peft) (2.7.1)\n",
      "Requirement already satisfied: scipy in /opt/anaconda3/lib/python3.13/site-packages (from bitsandbytes) (1.15.3)\n",
      "Requirement already satisfied: setuptools in /opt/anaconda3/lib/python3.13/site-packages (from torch>=1.13.0->peft) (72.1.0)\n",
      "Requirement already satisfied: sympy>=1.13.3 in /opt/anaconda3/lib/python3.13/site-packages (from torch>=1.13.0->peft) (1.13.3)\n",
      "Requirement already satisfied: networkx in /opt/anaconda3/lib/python3.13/site-packages (from torch>=1.13.0->peft) (3.4.2)\n",
      "Requirement already satisfied: jinja2 in /opt/anaconda3/lib/python3.13/site-packages (from torch>=1.13.0->peft) (3.1.6)\n",
      "Requirement already satisfied: mpmath<1.4,>=1.1.0 in /opt/anaconda3/lib/python3.13/site-packages (from sympy>=1.13.3->torch>=1.13.0->peft) (1.3.0)\n",
      "Requirement already satisfied: MarkupSafe>=2.0 in /opt/anaconda3/lib/python3.13/site-packages (from jinja2->torch>=1.13.0->peft) (3.0.2)\n",
      "Requirement already satisfied: charset-normalizer<4,>=2 in /opt/anaconda3/lib/python3.13/site-packages (from requests->transformers) (3.3.2)\n",
      "Requirement already satisfied: idna<4,>=2.5 in /opt/anaconda3/lib/python3.13/site-packages (from requests->transformers) (3.7)\n",
      "Requirement already satisfied: urllib3<3,>=1.21.1 in /opt/anaconda3/lib/python3.13/site-packages (from requests->transformers) (2.3.0)\n",
      "Requirement already satisfied: certifi>=2017.4.17 in /opt/anaconda3/lib/python3.13/site-packages (from requests->transformers) (2025.8.3)\n"
     ]
    }
   ],
   "source": [
    "!pip install transformers peft accelerate bitsandbytes"
   ]
  },
  {
   "cell_type": "code",
   "execution_count": 48,
   "id": "b1b31d22-842b-44c9-a6f8-037bbb30e423",
   "metadata": {},
   "outputs": [],
   "source": [
    "def build_few_shot_prompt(examples, new_tweet):\n",
    "    base = \"\"\"\n",
    "You are a political communication expert analyzing U.S. political tweets. For each tweet, classify polarization using the following:\n",
    "\n",
    "- polar_score: from -7 (extreme anti-right) to +7 (extreme anti-left). Use ideological tone, sarcasm, name-calling, and issue positioning.\n",
    "- pole_label: 'left', 'right', or 'neutral'\n",
    "- valid: 1 if tweet refers to U.S. debate, political figures (e.g., Trump, Biden, Harris, MAGA), 0 if off-topic\n",
    "- comments: short justification (optional)\n",
    "\n",
    "Rules (simplified from expert logic):\n",
    "- Score -7 to -5: Strongly critical of Trump/right (e.g., “Trump is a fascist”, “felon”, “MAGA cult”)\n",
    "- Score -4 to -2: Pro-Biden/Kamala or mocking right (“Kamala wins”, “vote Biden”, “Trump unhinged”)\n",
    "- Score -1: Mild or sarcastic criticism of right\n",
    "- Score 0: Neutral or descriptive (“debate night”, “town hall”)\n",
    "- Score +1 to +3: Pro-Trump/MAGA, anti-Biden or Kamala (“Trump won”, “vote Trump”, “Kamala clueless”)\n",
    "- Score +4 to +7: Harsh attacks on Biden/Harris (“pedo Joe”, “communist”, “bloodbath”)\n",
    "\n",
    "Output strictly in JSON format:\n",
    "{ \"polar_score\": -4, \"pole_label\": \"left\", \"valid\": 1, \"comments\": \"Harsh criticism of Trump using ideological slurs.\" }\n",
    "\n",
    "Now classify:\n",
    "\"\"\"\n",
    "    for ex in examples:\n",
    "        # Extract tweet from the prompt text for clarity\n",
    "        match = re.search(r'\"(.*?)\"', ex[\"prompt\"])\n",
    "        tweet_text = match.group(1) if match else \"UNKNOWN TWEET\"\n",
    "        base += f'Tweet: \"{tweet_text}\"\\nResponse: {ex[\"response\"]}\\n\\n'\n",
    "\n",
    "    base += f'Classify this new tweet:\\nTweet: \"{new_tweet}\"\\nResponse:'\n",
    "    return base"
   ]
  },
  {
   "cell_type": "code",
   "execution_count": 39,
   "id": "7fb7927c-e7b9-4215-a7c8-e580b15ab81b",
   "metadata": {},
   "outputs": [],
   "source": [
    "few_shot_examples = [\n",
    "    {\n",
    "        \"prompt\": 'Classify the following tweet: \"Trump is a fascist clown destroying America.\"',\n",
    "        \"response\": '{ \"polar_score\": -6, \"pole_label\": \"left\", \"valid\": 1, \"comments\": \"Direct attack using fascist framing.\" }'\n",
    "    },\n",
    "    {\n",
    "        \"prompt\": 'Classify the following tweet: \"Kamala destroyed Trump. President Harris 2024!\"',\n",
    "        \"response\": '{ \"polar_score\": -5, \"pole_label\": \"left\", \"valid\": 1, \"comments\": \"Strongly pro-Kamala, mocking Trump.\" }'\n",
    "    },\n",
    "    {\n",
    "        \"prompt\": 'Classify the following tweet: \"Breaking: The debate is starting now on ABC.\"',\n",
    "        \"response\": '{ \"polar_score\": 0, \"pole_label\": \"neutral\", \"valid\": 1, \"comments\": \"Factual and neutral.\" }'\n",
    "    },\n",
    "    {\n",
    "        \"prompt\": 'Classify the following tweet: \"Biden is a senile puppet. Bring back Trump!\"',\n",
    "        \"response\": '{ \"polar_score\": 6, \"pole_label\": \"right\", \"valid\": 1, \"comments\": \"Extreme insult toward Biden, strong partisan tone.\" }'\n",
    "    },\n",
    "    {\n",
    "        \"prompt\": 'Classify the following tweet: \"RT if you think Kamala is clueless.\"',\n",
    "        \"response\": '{ \"polar_score\": 3, \"pole_label\": \"right\", \"valid\": 1, \"comments\": \"Criticism of Kamala, typical MAGA framing.\" }'\n",
    "    },\n",
    "    {\n",
    "        \"prompt\": 'Classify the following tweet: \"Kamala is a communist puppet!\"',\n",
    "        \"response\": '{ \"polar_score\": 6, \"pole_label\": \"right\", \"valid\": 1, \"comments\": \"Extreme partisan insult using Cold War language.\" }'\n",
    "    },\n",
    "    {\n",
    "        \"prompt\": 'Classify the following tweet: \"Biden is better than Trump. That’s it.\"',\n",
    "        \"response\": '{ \"polar_score\": -3, \"pole_label\": \"left\", \"valid\": 1, \"comments\": \"Mild support for Biden.\" }'\n",
    "    },\n",
    "    {\n",
    "        \"prompt\": 'Classify the following tweet: \"Watching the debate and eating popcorn 🍿\"',\n",
    "        \"response\": '{ \"polar_score\": 0, \"pole_label\": \"neutral\", \"valid\": 1, \"comments\": \"No ideological tone, just observation.\" }'\n",
    "    },\n",
    "    {\n",
    "        \"prompt\": 'Classify the following tweet: \"I miss Obama. These guys are clowns.\"',\n",
    "        \"response\": '{ \"polar_score\": -1, \"pole_label\": \"left\", \"valid\": 1, \"comments\": \"Mild criticism of current figures, vague pro-Democrat nostalgia.\" }'\n",
    "    },\n",
    "    {\n",
    "        \"prompt\": 'Classify the following tweet: \"Crypto is the future. #Bitcoin\"',\n",
    "        \"response\": '{ \"polar_score\": \"INV\", \"pole_label\": \"inv\", \"valid\": 0, \"comments\": \"Not related to political debate.\" }'\n",
    "    }\n",
    "]"
   ]
  },
  {
   "cell_type": "code",
   "execution_count": 49,
   "id": "da1db032-17f9-4cd5-af42-6f36e8620ac6",
   "metadata": {},
   "outputs": [],
   "source": [
    "import ollama\n",
    "import json\n",
    "import re\n",
    "\n",
    "def classify_with_ollama_gemma(tweet, examples):\n",
    "    prompt = build_few_shot_prompt(examples, tweet)\n",
    "    response = ollama.chat(model='gemma3:4b', messages=[\n",
    "        {'role': 'user', 'content': prompt}\n",
    "    ])\n",
    "\n",
    "    content = response['message']['content']\n",
    "    \n",
    "    # Optional debug print\n",
    "    print(\"🔍 Raw model output:\\n\", content)\n",
    "\n",
    "    # Remove Markdown code fences (e.g., ```json\\n...\\n```)\n",
    "    content_cleaned = re.sub(r\"^```(?:json)?\\s*|\\s*```$\", \"\", content.strip(), flags=re.IGNORECASE | re.MULTILINE)\n",
    "\n",
    "    try:\n",
    "        return json.loads(content_cleaned)\n",
    "    except Exception as e:\n",
    "        return {\n",
    "            \"polar_score\": \"ERR\",\n",
    "            \"pole_label\": \"err\",\n",
    "            \"valid\": 0,\n",
    "            \"comments\": f\"Parse error: {e}\\nRaw response: {content}\"\n",
    "        }"
   ]
  },
  {
   "cell_type": "code",
   "execution_count": 50,
   "id": "6f4c1adc-d61d-4d4d-91df-1f8a5e15b2e0",
   "metadata": {},
   "outputs": [
    {
     "name": "stderr",
     "output_type": "stream",
     "text": [
      "Classifying with Few-Shot Prompting:   1%|      | 1/100 [00:12<21:15, 12.88s/it]"
     ]
    },
    {
     "name": "stdout",
     "output_type": "stream",
     "text": [
      "🔍 Raw model output:\n",
      " ```json\n",
      "{\n",
      "  \"polar_score\": 7,\n",
      "  \"pole_label\": \"left\",\n",
      "  \"valid\": 1,\n",
      "  \"comments\": \"Extremely harsh and abusive language directed at Trump, clearly partisan and aggressively anti-right.\"\n",
      "}\n",
      "```\n"
     ]
    },
    {
     "name": "stderr",
     "output_type": "stream",
     "text": [
      "Classifying with Few-Shot Prompting:   2%|      | 2/100 [00:17<13:32,  8.29s/it]"
     ]
    },
    {
     "name": "stdout",
     "output_type": "stream",
     "text": [
      "🔍 Raw model output:\n",
      " ```json\n",
      "{\n",
      "  \"polar_score\": -5,\n",
      "  \"pole_label\": \"left\",\n",
      "  \"valid\": 1,\n",
      "  \"comments\": \"Sarcastic and critical of Trump, referencing a fabricated claim to portray him as delusional and dangerous.\"\n",
      "}\n",
      "```\n"
     ]
    },
    {
     "name": "stderr",
     "output_type": "stream",
     "text": [
      "Classifying with Few-Shot Prompting:   3%|▏     | 3/100 [00:23<11:05,  6.86s/it]"
     ]
    },
    {
     "name": "stdout",
     "output_type": "stream",
     "text": [
      "🔍 Raw model output:\n",
      " ```json\n",
      "{\n",
      "  \"polar_score\": 5,\n",
      "  \"pole_label\": \"right\",\n",
      "  \"valid\": 1,\n",
      "  \"comments\": \"Strongly supportive of Trump, using dismissive language ('message discipline') and implicitly criticizing Biden's perceived weakness.\"\n",
      "}\n",
      "```\n"
     ]
    },
    {
     "name": "stderr",
     "output_type": "stream",
     "text": [
      "Classifying with Few-Shot Prompting:   4%|▏     | 4/100 [00:28<09:47,  6.12s/it]"
     ]
    },
    {
     "name": "stdout",
     "output_type": "stream",
     "text": [
      "🔍 Raw model output:\n",
      " ```json\n",
      "{\n",
      "  \"polar_score\": 3,\n",
      "  \"pole_label\": \"right\",\n",
      "  \"valid\": 1,\n",
      "  \"comments\": \"References Trump and Republicans, implicitly criticizing the current administration's actions regarding government shutdown.\"\n",
      "}\n",
      "```\n"
     ]
    },
    {
     "name": "stderr",
     "output_type": "stream",
     "text": [
      "Classifying with Few-Shot Prompting:   5%|▎     | 5/100 [00:34<09:39,  6.10s/it]"
     ]
    },
    {
     "name": "stdout",
     "output_type": "stream",
     "text": [
      "🔍 Raw model output:\n",
      " ```json\n",
      "{\n",
      "  \"polar_score\": 5,\n",
      "  \"pole_label\": \"right\",\n",
      "  \"valid\": 1,\n",
      "  \"comments\": \"Strongly critical of JD Vance and implied disapproval of a potential Trump veto, using a dismissive 'ouch' – typical MAGA rhetoric.\"\n",
      "}\n",
      "```\n"
     ]
    },
    {
     "name": "stderr",
     "output_type": "stream",
     "text": [
      "Classifying with Few-Shot Prompting:   6%|▎     | 6/100 [00:39<09:12,  5.88s/it]"
     ]
    },
    {
     "name": "stdout",
     "output_type": "stream",
     "text": [
      "🔍 Raw model output:\n",
      " ```json\n",
      "{\n",
      "  \"polar_score\": 7,\n",
      "  \"pole_label\": \"right\",\n",
      "  \"valid\": 1,\n",
      "  \"comments\": \"Extreme and incoherent attack on Biden, utilizing hyperbolic imagery and name-calling (Trump) to signal extreme right-wing opposition.\"\n",
      "}\n",
      "```\n"
     ]
    },
    {
     "name": "stderr",
     "output_type": "stream",
     "text": [
      "Classifying with Few-Shot Prompting:   7%|▍     | 7/100 [00:45<09:16,  5.99s/it]"
     ]
    },
    {
     "name": "stdout",
     "output_type": "stream",
     "text": [
      "🔍 Raw model output:\n",
      " ```json\n",
      "{\n",
      "  \"polar_score\": 7,\n",
      "  \"pole_label\": \"right\",\n",
      "  \"valid\": 1,\n",
      "  \"comments\": \"Extreme partisan attack using derogatory labels ('godless commies') and hyperbolic language ('epic way no one likes to watch someone get unfairly railroaded').\"\n",
      "}\n",
      "```\n"
     ]
    },
    {
     "name": "stderr",
     "output_type": "stream",
     "text": [
      "Classifying with Few-Shot Prompting:   8%|▍     | 8/100 [00:50<08:46,  5.73s/it]"
     ]
    },
    {
     "name": "stdout",
     "output_type": "stream",
     "text": [
      "🔍 Raw model output:\n",
      " ```json\n",
      "{\n",
      "  \"polar_score\": 7,\n",
      "  \"pole_label\": \"left\",\n",
      "  \"valid\": 1,\n",
      "  \"comments\": \"Strongly critical of Trump, referencing a highly controversial event and using accusatory language.\"\n",
      "}\n",
      "```\n"
     ]
    },
    {
     "name": "stderr",
     "output_type": "stream",
     "text": [
      "Classifying with Few-Shot Prompting:   9%|▌     | 9/100 [00:55<08:16,  5.46s/it]"
     ]
    },
    {
     "name": "stdout",
     "output_type": "stream",
     "text": [
      "🔍 Raw model output:\n",
      " ```json\n",
      "{\n",
      "  \"polar_score\": 7,\n",
      "  \"pole_label\": \"right\",\n",
      "  \"valid\": 1,\n",
      "  \"comments\": \"Extreme partisan attack against Kamala Harris, using hyperbolic language and promoting a specific outcome (presidential victory).\"\n",
      "}\n",
      "```\n"
     ]
    },
    {
     "name": "stderr",
     "output_type": "stream",
     "text": [
      "Classifying with Few-Shot Prompting:  10%|▌    | 10/100 [01:00<07:40,  5.11s/it]"
     ]
    },
    {
     "name": "stdout",
     "output_type": "stream",
     "text": [
      "🔍 Raw model output:\n",
      " ```json\n",
      "{\n",
      "  \"polar_score\": 1,\n",
      "  \"pole_label\": \"neutral\",\n",
      "  \"valid\": 1,\n",
      "  \"comments\": \"Reports on a political issue/debate; neutral in tone.\"\n",
      "}\n",
      "```\n"
     ]
    },
    {
     "name": "stderr",
     "output_type": "stream",
     "text": [
      "Classifying with Few-Shot Prompting:  11%|▌    | 11/100 [01:06<07:57,  5.36s/it]"
     ]
    },
    {
     "name": "stdout",
     "output_type": "stream",
     "text": [
      "🔍 Raw model output:\n",
      " ```json\n",
      "{\n",
      "  \"polar_score\": 7,\n",
      "  \"pole_label\": \"right\",\n",
      "  \"valid\": 1,\n",
      "  \"comments\": \"Extreme partisan attack using loaded language ('destroying,' 'our future') and repeated calls for retweet, clearly promoting a MAGA viewpoint.\"\n",
      "}\n",
      "```\n"
     ]
    },
    {
     "name": "stderr",
     "output_type": "stream",
     "text": [
      "Classifying with Few-Shot Prompting:  12%|▌    | 12/100 [01:12<08:12,  5.60s/it]"
     ]
    },
    {
     "name": "stdout",
     "output_type": "stream",
     "text": [
      "🔍 Raw model output:\n",
      " ```json\n",
      "{\n",
      "  \"polar_score\": 7,\n",
      "  \"pole_label\": \"left\",\n",
      "  \"valid\": 1,\n",
      "  \"comments\": \"Extreme attack on Trump, Vance, and the GOP, utilizing accusations of fascism, Nazi association, and disinformation. Strong partisan framing.\"\n",
      "}\n",
      "```\n"
     ]
    },
    {
     "name": "stderr",
     "output_type": "stream",
     "text": [
      "Classifying with Few-Shot Prompting:  13%|▋    | 13/100 [01:21<09:52,  6.81s/it]"
     ]
    },
    {
     "name": "stdout",
     "output_type": "stream",
     "text": [
      "🔍 Raw model output:\n",
      " ```json\n",
      "{\n",
      "  \"polar_score\": 6,\n",
      "  \"pole_label\": \"right\",\n",
      "  \"valid\": 1,\n",
      "  \"comments\": \"Extreme partisan attack using Cold War terminology and highly charged language.\"\n",
      "}\n",
      "```\n"
     ]
    },
    {
     "name": "stderr",
     "output_type": "stream",
     "text": [
      "Classifying with Few-Shot Prompting:  14%|▋    | 14/100 [01:27<09:04,  6.34s/it]"
     ]
    },
    {
     "name": "stdout",
     "output_type": "stream",
     "text": [
      "🔍 Raw model output:\n",
      " ```json\n",
      "{\n",
      "  \"polar_score\": 6,\n",
      "  \"pole_label\": \"right\",\n",
      "  \"valid\": 1,\n",
      "  \"comments\": \"Strongly critical of Kamala Harris, utilizing personal attacks and framing her as a liar.  Heavy use of partisan language and accusations.\"\n",
      "}\n",
      "```\n"
     ]
    },
    {
     "name": "stderr",
     "output_type": "stream",
     "text": [
      "Classifying with Few-Shot Prompting:  15%|▊    | 15/100 [01:32<08:41,  6.14s/it]"
     ]
    },
    {
     "name": "stdout",
     "output_type": "stream",
     "text": [
      "🔍 Raw model output:\n",
      " ```json\n",
      "{\n",
      "  \"polar_score\": 6,\n",
      "  \"pole_label\": \"right\",\n",
      "  \"valid\": 1,\n",
      "  \"comments\": \"Strongly pro-Trump, uses mocking language ('cooked') and hashtags associated with MAGA movement.\"\n",
      "}\n",
      "```\n"
     ]
    },
    {
     "name": "stderr",
     "output_type": "stream",
     "text": [
      "Classifying with Few-Shot Prompting:  16%|▊    | 16/100 [01:37<08:07,  5.80s/it]"
     ]
    },
    {
     "name": "stdout",
     "output_type": "stream",
     "text": [
      "🔍 Raw model output:\n",
      " ```json\n",
      "{\n",
      "  \"polar_score\": 3,\n",
      "  \"pole_label\": \"right\",\n",
      "  \"valid\": 1,\n",
      "  \"comments\": \"Directly references Trump and promotes a MAGA-aligned commentator.\"\n",
      "}\n",
      "```\n"
     ]
    },
    {
     "name": "stderr",
     "output_type": "stream",
     "text": [
      "Classifying with Few-Shot Prompting:  17%|▊    | 17/100 [01:42<07:43,  5.58s/it]"
     ]
    },
    {
     "name": "stdout",
     "output_type": "stream",
     "text": [
      "🔍 Raw model output:\n",
      " ```json\n",
      "{\n",
      "  \"polar_score\": 0,\n",
      "  \"pole_label\": \"neutral\",\n",
      "  \"valid\": 1,\n",
      "  \"comments\": \"Factual reporting about a debate; no ideological leaning.\"\n",
      "}\n",
      "```\n"
     ]
    },
    {
     "name": "stderr",
     "output_type": "stream",
     "text": [
      "Classifying with Few-Shot Prompting:  18%|▉    | 18/100 [01:47<07:21,  5.38s/it]"
     ]
    },
    {
     "name": "stdout",
     "output_type": "stream",
     "text": [
      "🔍 Raw model output:\n",
      " ```json\n",
      "{\n",
      "  \"polar_score\": 5,\n",
      "  \"pole_label\": \"right\",\n",
      "  \"valid\": 1,\n",
      "  \"comments\": \"Strongly critical of Trump and his statements, typical MAGA framing.\"\n",
      "}\n",
      "```\n"
     ]
    },
    {
     "name": "stderr",
     "output_type": "stream",
     "text": [
      "Classifying with Few-Shot Prompting:  19%|▉    | 19/100 [01:52<07:04,  5.24s/it]"
     ]
    },
    {
     "name": "stdout",
     "output_type": "stream",
     "text": [
      "🔍 Raw model output:\n",
      " ```json\n",
      "{\n",
      "  \"polar_score\": 7,\n",
      "  \"pole_label\": \"left\",\n",
      "  \"valid\": 1,\n",
      "  \"comments\": \"Extremely harsh attack on Trump, utilizing accusations and aiming for maximum outrage.\"\n",
      "}\n",
      "```\n"
     ]
    },
    {
     "name": "stderr",
     "output_type": "stream",
     "text": [
      "Classifying with Few-Shot Prompting:  20%|█    | 20/100 [01:57<06:59,  5.24s/it]"
     ]
    },
    {
     "name": "stdout",
     "output_type": "stream",
     "text": [
      "🔍 Raw model output:\n",
      " ```json\n",
      "{\n",
      "  \"polar_score\": 5,\n",
      "  \"pole_label\": \"right\",\n",
      "  \"valid\": 1,\n",
      "  \"comments\": \"Strongly critical of Biden and Trump, citing specific action by a Republican governor. Uses framing suggesting a significant negative impact for Trump.\"\n",
      "}\n",
      "```\n"
     ]
    },
    {
     "name": "stderr",
     "output_type": "stream",
     "text": [
      "Classifying with Few-Shot Prompting:  21%|█    | 21/100 [02:03<07:10,  5.45s/it]"
     ]
    },
    {
     "name": "stdout",
     "output_type": "stream",
     "text": [
      "🔍 Raw model output:\n",
      " ```json\n",
      "{\n",
      "  \"polar_score\": 7,\n",
      "  \"pole_label\": \"left\",\n",
      "  \"valid\": 1,\n",
      "  \"comments\": \"Extreme anti-Trump sentiment, uses derogatory language ('bumps on a log') and expresses intense personal frustration, aligning with strongly left-leaning criticism.\"\n",
      "}\n",
      "```\n"
     ]
    },
    {
     "name": "stderr",
     "output_type": "stream",
     "text": [
      "Classifying with Few-Shot Prompting:  22%|█    | 22/100 [02:09<07:09,  5.50s/it]"
     ]
    },
    {
     "name": "stdout",
     "output_type": "stream",
     "text": [
      "🔍 Raw model output:\n",
      " ```json\n",
      "{\n",
      "  \"polar_score\": 7,\n",
      "  \"pole_label\": \"left\",\n",
      "  \"valid\": 1,\n",
      "  \"comments\": \"Extremely harsh and inflammatory language targeting Trump and promoting a radical, potentially offensive, viewpoint. Uses strong ideological framing and name-calling.\"\n",
      "}\n",
      "```\n"
     ]
    },
    {
     "name": "stderr",
     "output_type": "stream",
     "text": [
      "Classifying with Few-Shot Prompting:  23%|█▏   | 23/100 [02:14<06:45,  5.27s/it]"
     ]
    },
    {
     "name": "stdout",
     "output_type": "stream",
     "text": [
      "🔍 Raw model output:\n",
      " ```json\n",
      "{\n",
      "  \"polar_score\": -2,\n",
      "  \"pole_label\": \"right\",\n",
      "  \"valid\": 1,\n",
      "  \"comments\": \"Slightly critical of Biden, using a dismissive tone. Suggests opposition without explicitly stating it.\"\n",
      "}\n",
      "```\n"
     ]
    },
    {
     "name": "stderr",
     "output_type": "stream",
     "text": [
      "Classifying with Few-Shot Prompting:  24%|█▏   | 24/100 [02:18<06:09,  4.86s/it]"
     ]
    },
    {
     "name": "stdout",
     "output_type": "stream",
     "text": [
      "🔍 Raw model output:\n",
      " ```json\n",
      "{ \"polar_score\": 5, \"pole_label\": \"left\", \"valid\": 1, \"comments\": \"Strongly critical of Trump, promoting Kamala Harris. Uses a common MAGA-related phrase.\" }\n",
      "```\n"
     ]
    },
    {
     "name": "stderr",
     "output_type": "stream",
     "text": [
      "Classifying with Few-Shot Prompting:  25%|█▎   | 25/100 [02:23<06:17,  5.03s/it]"
     ]
    },
    {
     "name": "stdout",
     "output_type": "stream",
     "text": [
      "🔍 Raw model output:\n",
      " ```json\n",
      "{\n",
      "  \"polar_score\": 7,\n",
      "  \"pole_label\": \"left\",\n",
      "  \"valid\": 1,\n",
      "  \"comments\": \"Extremely harsh attack on Trump, using antisemitic framing and referencing a highly divisive event. Strong partisan tone.\"\n",
      "}\n",
      "```\n"
     ]
    },
    {
     "name": "stderr",
     "output_type": "stream",
     "text": [
      "Classifying with Few-Shot Prompting:  26%|█▎   | 26/100 [02:29<06:21,  5.16s/it]"
     ]
    },
    {
     "name": "stdout",
     "output_type": "stream",
     "text": [
      "🔍 Raw model output:\n",
      " ```json\n",
      "{\n",
      "  \"polar_score\": 7,\n",
      "  \"pole_label\": \"right\",\n",
      "  \"valid\": 1,\n",
      "  \"comments\": \"Extreme partisan attack using derogatory labels ('communist,' 'marxist') and inflammatory language. Directly attacks Kamala Harris with strong ideological framing.\"\n",
      "}\n",
      "```\n"
     ]
    },
    {
     "name": "stderr",
     "output_type": "stream",
     "text": [
      "Classifying with Few-Shot Prompting:  27%|█▎   | 27/100 [02:34<06:29,  5.34s/it]"
     ]
    },
    {
     "name": "stdout",
     "output_type": "stream",
     "text": [
      "🔍 Raw model output:\n",
      " ```json\n",
      "{\n",
      "  \"polar_score\": 2,\n",
      "  \"pole_label\": \"right\",\n",
      "  \"valid\": 1,\n",
      "  \"comments\": \"Poses a question about Trump's performance, leaning slightly right due to the user's handle and implicit questioning of his performance.\"\n",
      "}\n",
      "```\n"
     ]
    },
    {
     "name": "stderr",
     "output_type": "stream",
     "text": [
      "Classifying with Few-Shot Prompting:  28%|█▍   | 28/100 [02:40<06:36,  5.51s/it]"
     ]
    },
    {
     "name": "stdout",
     "output_type": "stream",
     "text": [
      "🔍 Raw model output:\n",
      " ```json\n",
      "{\n",
      "  \"polar_score\": 6,\n",
      "  \"pole_label\": \"right\",\n",
      "  \"valid\": 1,\n",
      "  \"comments\": \"Strongly critical of Kamala Harris, utilizing accusations and conspiratorial language.  Directly targets her policy positions and uses inflammatory rhetoric ('bloodbath').\"\n",
      "}\n",
      "```\n"
     ]
    },
    {
     "name": "stderr",
     "output_type": "stream",
     "text": [
      "Classifying with Few-Shot Prompting:  29%|█▍   | 29/100 [02:45<06:26,  5.45s/it]"
     ]
    },
    {
     "name": "stdout",
     "output_type": "stream",
     "text": [
      "🔍 Raw model output:\n",
      " ```json\n",
      "{\n",
      "  \"polar_score\": 7,\n",
      "  \"pole_label\": \"left\",\n",
      "  \"valid\": 1,\n",
      "  \"comments\": \"Strongly anti-Trump, utilizing aggressive language ('scum') and characterizing media as complicit. High level of sarcasm and contempt.\"\n",
      "}\n",
      "```\n"
     ]
    },
    {
     "name": "stderr",
     "output_type": "stream",
     "text": [
      "Classifying with Few-Shot Prompting:  30%|█▌   | 30/100 [02:51<06:17,  5.40s/it]"
     ]
    },
    {
     "name": "stdout",
     "output_type": "stream",
     "text": [
      "🔍 Raw model output:\n",
      " ```json\n",
      "{\n",
      "  \"polar_score\": 5,\n",
      "  \"pole_label\": \"left\",\n",
      "  \"valid\": 1,\n",
      "  \"comments\": \"Strongly critical of Kamala Harris and Trump, utilizing framing of 'lying' and implying bias from 'moderators.'\"\n",
      "}\n",
      "```\n"
     ]
    },
    {
     "name": "stderr",
     "output_type": "stream",
     "text": [
      "Classifying with Few-Shot Prompting:  31%|█▌   | 31/100 [02:56<05:59,  5.21s/it]"
     ]
    },
    {
     "name": "stdout",
     "output_type": "stream",
     "text": [
      "🔍 Raw model output:\n",
      " ```json\n",
      "{\n",
      "  \"polar_score\": 7,\n",
      "  \"pole_label\": \"right\",\n",
      "  \"valid\": 1,\n",
      "  \"comments\": \"Extreme partisan attack against Harris, using multiple conspiracy theories and accusations to demonize her.\"\n",
      "}\n",
      "```\n"
     ]
    },
    {
     "name": "stderr",
     "output_type": "stream",
     "text": [
      "Classifying with Few-Shot Prompting:  32%|█▌   | 32/100 [03:00<05:42,  5.04s/it]"
     ]
    },
    {
     "name": "stdout",
     "output_type": "stream",
     "text": [
      "🔍 Raw model output:\n",
      " ```json\n",
      "{\n",
      "  \"polar_score\": 5,\n",
      "  \"pole_label\": \"right\",\n",
      "  \"valid\": 1,\n",
      "  \"comments\": \"Strongly critical of Trump and the Republican party, framing them as actively pursuing chaos.\"\n",
      "}\n",
      "```\n"
     ]
    },
    {
     "name": "stderr",
     "output_type": "stream",
     "text": [
      "Classifying with Few-Shot Prompting:  33%|█▋   | 33/100 [03:05<05:37,  5.03s/it]"
     ]
    },
    {
     "name": "stdout",
     "output_type": "stream",
     "text": [
      "🔍 Raw model output:\n",
      " ```json\n",
      "{\n",
      "  \"polar_score\": 6,\n",
      "  \"pole_label\": \"right\",\n",
      "  \"valid\": 1,\n",
      "  \"comments\": \"Strongly critical of Trump using hyperbolic framing and suggesting he was 'fired,' typical MAGA rhetoric.\"\n",
      "}\n",
      "```\n"
     ]
    },
    {
     "name": "stderr",
     "output_type": "stream",
     "text": [
      "Classifying with Few-Shot Prompting:  34%|█▋   | 34/100 [03:11<05:45,  5.23s/it]"
     ]
    },
    {
     "name": "stdout",
     "output_type": "stream",
     "text": [
      "🔍 Raw model output:\n",
      " ```json\n",
      "{\n",
      "  \"polar_score\": 4,\n",
      "  \"pole_label\": \"right\",\n",
      "  \"valid\": 1,\n",
      "  \"comments\": \"Strongly critical of Trump's rhetoric, employing sarcasm and a dismissive tone, aligning with right-wing skepticism.\"\n",
      "}\n",
      "```\n"
     ]
    },
    {
     "name": "stderr",
     "output_type": "stream",
     "text": [
      "Classifying with Few-Shot Prompting:  35%|█▊   | 35/100 [03:16<05:31,  5.10s/it]"
     ]
    },
    {
     "name": "stdout",
     "output_type": "stream",
     "text": [
      "🔍 Raw model output:\n",
      " ```json\n",
      "{\n",
      "  \"polar_score\": 4,\n",
      "  \"pole_label\": \"right\",\n",
      "  \"valid\": 1,\n",
      "  \"comments\": \"Uses a trivial observation (makeup) to fuel partisan animosity toward Kamala Harris, typical of MAGA rhetoric.\"\n",
      "}\n",
      "```\n"
     ]
    },
    {
     "name": "stderr",
     "output_type": "stream",
     "text": [
      "Classifying with Few-Shot Prompting:  36%|█▊   | 36/100 [03:21<05:22,  5.04s/it]"
     ]
    },
    {
     "name": "stdout",
     "output_type": "stream",
     "text": [
      "🔍 Raw model output:\n",
      " ```json\n",
      "{\n",
      "  \"polar_score\": 5,\n",
      "  \"pole_label\": \"right\",\n",
      "  \"valid\": 1,\n",
      "  \"comments\": \"Using a username associated with a known Trump supporter and a direct challenge to the debate moderator.\"\n",
      "}\n",
      "```\n"
     ]
    },
    {
     "name": "stderr",
     "output_type": "stream",
     "text": [
      "Classifying with Few-Shot Prompting:  37%|█▊   | 37/100 [03:25<05:07,  4.88s/it]"
     ]
    },
    {
     "name": "stdout",
     "output_type": "stream",
     "text": [
      "🔍 Raw model output:\n",
      " ```json\n",
      "{\n",
      "  \"polar_score\": 6,\n",
      "  \"pole_label\": \"right\",\n",
      "  \"valid\": 1,\n",
      "  \"comments\": \"Strongly critical of Trump using hyperbolic language and mocking Kamala.\"\n",
      "}\n",
      "```\n"
     ]
    },
    {
     "name": "stderr",
     "output_type": "stream",
     "text": [
      "Classifying with Few-Shot Prompting:  38%|█▉   | 38/100 [03:30<05:04,  4.91s/it]"
     ]
    },
    {
     "name": "stdout",
     "output_type": "stream",
     "text": [
      "🔍 Raw model output:\n",
      " ```json\n",
      "{\n",
      "  \"polar_score\": 5,\n",
      "  \"pole_label\": \"right\",\n",
      "  \"valid\": 1,\n",
      "  \"comments\": \"Strongly pro-Trump sentiment, using hyperbolic language ('locked in') and referencing a specific political figure.\"\n",
      "}\n",
      "```\n"
     ]
    },
    {
     "name": "stderr",
     "output_type": "stream",
     "text": [
      "Classifying with Few-Shot Prompting:  39%|█▉   | 39/100 [03:35<05:00,  4.93s/it]"
     ]
    },
    {
     "name": "stdout",
     "output_type": "stream",
     "text": [
      "🔍 Raw model output:\n",
      " ```json\n",
      "{\n",
      "  \"polar_score\": 5,\n",
      "  \"pole_label\": \"right\",\n",
      "  \"valid\": 1,\n",
      "  \"comments\": \"Direct attack on Nick Mercs, referencing Trump and a MAGA-aligned sentiment.\"\n",
      "}\n",
      "```\n"
     ]
    },
    {
     "name": "stderr",
     "output_type": "stream",
     "text": [
      "Classifying with Few-Shot Prompting:  40%|██   | 40/100 [03:40<04:47,  4.80s/it]"
     ]
    },
    {
     "name": "stdout",
     "output_type": "stream",
     "text": [
      "🔍 Raw model output:\n",
      " ```json\n",
      "{\n",
      "  \"polar_score\": 5,\n",
      "  \"pole_label\": \"right\",\n",
      "  \"valid\": 1,\n",
      "  \"comments\": \"Strongly critical of Kamala Harris, using dismissive language and a personal attack.\"\n",
      "}\n",
      "```\n"
     ]
    },
    {
     "name": "stderr",
     "output_type": "stream",
     "text": [
      "Classifying with Few-Shot Prompting:  41%|██   | 41/100 [03:44<04:43,  4.80s/it]"
     ]
    },
    {
     "name": "stdout",
     "output_type": "stream",
     "text": [
      "🔍 Raw model output:\n",
      " ```json\n",
      "{\n",
      "  \"polar_score\": 6,\n",
      "  \"pole_label\": \"right\",\n",
      "  \"valid\": 1,\n",
      "  \"comments\": \"Strongly pro-Trump, highly praising him and attacking CNN.\"\n",
      "}\n",
      "```\n"
     ]
    },
    {
     "name": "stderr",
     "output_type": "stream",
     "text": [
      "Classifying with Few-Shot Prompting:  42%|██   | 42/100 [03:50<04:51,  5.03s/it]"
     ]
    },
    {
     "name": "stdout",
     "output_type": "stream",
     "text": [
      "🔍 Raw model output:\n",
      " ```json\n",
      "{\n",
      "  \"polar_score\": 5,\n",
      "  \"pole_label\": \"right\",\n",
      "  \"valid\": 1,\n",
      "  \"comments\": \"Strongly anti-Harris, accusing her of lying and attacking the credibility of ABC News. Uses derogatory language ('garbage organization').\"\n",
      "}\n",
      "```\n"
     ]
    },
    {
     "name": "stderr",
     "output_type": "stream",
     "text": [
      "Classifying with Few-Shot Prompting:  43%|██▏  | 43/100 [03:55<04:40,  4.92s/it]"
     ]
    },
    {
     "name": "stdout",
     "output_type": "stream",
     "text": [
      "🔍 Raw model output:\n",
      " ```json\n",
      "{\n",
      "  \"polar_score\": 7,\n",
      "  \"pole_label\": \"left\",\n",
      "  \"valid\": 1,\n",
      "  \"comments\": \"Extreme and highly inflammatory attack on Trump using violent and dehumanizing language.\"\n",
      "}\n",
      "```\n"
     ]
    },
    {
     "name": "stderr",
     "output_type": "stream",
     "text": [
      "Classifying with Few-Shot Prompting:  44%|██▏  | 44/100 [04:00<04:45,  5.10s/it]"
     ]
    },
    {
     "name": "stdout",
     "output_type": "stream",
     "text": [
      "🔍 Raw model output:\n",
      " ```json\n",
      "{\n",
      "  \"polar_score\": 7,\n",
      "  \"pole_label\": \"left\",\n",
      "  \"valid\": 1,\n",
      "  \"comments\": \"Strongly critical of ABC and its perceived bias towards Harris. Uses loaded language ('hoax') and direct accusations of manipulation.\"\n",
      "}\n",
      "```\n"
     ]
    },
    {
     "name": "stderr",
     "output_type": "stream",
     "text": [
      "Classifying with Few-Shot Prompting:  45%|██▎  | 45/100 [04:10<05:53,  6.43s/it]"
     ]
    },
    {
     "name": "stdout",
     "output_type": "stream",
     "text": [
      "🔍 Raw model output:\n",
      " ```json\n",
      "{\n",
      "  \"polar_score\": 7,\n",
      "  \"pole_label\": \"left\",\n",
      "  \"valid\": 1,\n",
      "  \"comments\": \"Strongly critical of Trump, utilizing inflammatory language and referencing a potentially damaging scandal.\"\n",
      "}\n",
      "```\n"
     ]
    },
    {
     "name": "stderr",
     "output_type": "stream",
     "text": [
      "Classifying with Few-Shot Prompting:  46%|██▎  | 46/100 [04:15<05:31,  6.13s/it]"
     ]
    },
    {
     "name": "stdout",
     "output_type": "stream",
     "text": [
      "🔍 Raw model output:\n",
      " ```json\n",
      "{\n",
      "  \"polar_score\": 7,\n",
      "  \"pole_label\": \"right\",\n",
      "  \"valid\": 1,\n",
      "  \"comments\": \"Extremely harsh and conspiratorial language, directly attacking Biden and promoting Trump. Uses inflammatory terms and fabricated claims.\"\n",
      "}\n",
      "```\n"
     ]
    },
    {
     "name": "stderr",
     "output_type": "stream",
     "text": [
      "Classifying with Few-Shot Prompting:  47%|██▎  | 47/100 [04:21<05:14,  5.93s/it]"
     ]
    },
    {
     "name": "stdout",
     "output_type": "stream",
     "text": [
      "🔍 Raw model output:\n",
      " ```json\n",
      "{\n",
      "  \"polar_score\": 3,\n",
      "  \"pole_label\": \"right\",\n",
      "  \"valid\": 1,\n",
      "  \"comments\": \"Strongly pro-Trump, promoting his 'agenda' and criticizing perceived censorship. Uses MAGA-style framing.\"\n",
      "}\n",
      "```\n"
     ]
    },
    {
     "name": "stderr",
     "output_type": "stream",
     "text": [
      "Classifying with Few-Shot Prompting:  48%|██▍  | 48/100 [04:30<06:06,  7.04s/it]"
     ]
    },
    {
     "name": "stdout",
     "output_type": "stream",
     "text": [
      "🔍 Raw model output:\n",
      " ```json\n",
      "{\n",
      "  \"polar_score\": 6,\n",
      "  \"pole_label\": \"right\",\n",
      "  \"valid\": 1,\n",
      "  \"comments\": \"Strongly pro-Trump, attacks Biden, references a controversial historical ranking.\"\n",
      "}\n",
      "```\n"
     ]
    },
    {
     "name": "stderr",
     "output_type": "stream",
     "text": [
      "Classifying with Few-Shot Prompting:  49%|██▍  | 49/100 [04:35<05:31,  6.50s/it]"
     ]
    },
    {
     "name": "stdout",
     "output_type": "stream",
     "text": [
      "🔍 Raw model output:\n",
      " ```json\n",
      "{\n",
      "  \"polar_score\": 6,\n",
      "  \"pole_label\": \"left\",\n",
      "  \"valid\": 1,\n",
      "  \"comments\": \"Strongly critical of Trump using hyperbolic language ('nuclear grade bonkers lie').\"\n",
      "}\n",
      "```\n"
     ]
    },
    {
     "name": "stderr",
     "output_type": "stream",
     "text": [
      "Classifying with Few-Shot Prompting:  50%|██▌  | 50/100 [04:40<05:02,  6.06s/it]"
     ]
    },
    {
     "name": "stdout",
     "output_type": "stream",
     "text": [
      "🔍 Raw model output:\n",
      " ```json\n",
      "{\n",
      "  \"polar_score\": 6,\n",
      "  \"pole_label\": \"right\",\n",
      "  \"valid\": 1,\n",
      "  \"comments\": \"Harsh, misspelled attack on Biden using derogatory language and framing him as ‘old’ – typical MAGA rhetoric.\"\n",
      "}\n",
      "```\n"
     ]
    },
    {
     "name": "stderr",
     "output_type": "stream",
     "text": [
      "Classifying with Few-Shot Prompting:  51%|██▌  | 51/100 [04:45<04:40,  5.73s/it]"
     ]
    },
    {
     "name": "stdout",
     "output_type": "stream",
     "text": [
      "🔍 Raw model output:\n",
      " ```json\n",
      "{\n",
      "  \"polar_score\": 7,\n",
      "  \"pole_label\": \"right\",\n",
      "  \"valid\": 1,\n",
      "  \"comments\": \"Harsh, accusatory statement defending Trump, utilizing personal attacks and framing him as a victim.\"\n",
      "}\n",
      "```\n"
     ]
    },
    {
     "name": "stderr",
     "output_type": "stream",
     "text": [
      "Classifying with Few-Shot Prompting:  52%|██▌  | 52/100 [04:50<04:23,  5.48s/it]"
     ]
    },
    {
     "name": "stdout",
     "output_type": "stream",
     "text": [
      "🔍 Raw model output:\n",
      " ```json\n",
      "{\n",
      "  \"polar_score\": 5,\n",
      "  \"pole_label\": \"right\",\n",
      "  \"valid\": 1,\n",
      "  \"comments\": \"Strongly critical of Kamala Harris and accuses moderators of bias, common right-wing complaint.\"\n",
      "}\n",
      "```\n"
     ]
    },
    {
     "name": "stderr",
     "output_type": "stream",
     "text": [
      "Classifying with Few-Shot Prompting:  53%|██▋  | 53/100 [04:55<04:12,  5.38s/it]"
     ]
    },
    {
     "name": "stdout",
     "output_type": "stream",
     "text": [
      "🔍 Raw model output:\n",
      " ```json\n",
      "{\n",
      "  \"polar_score\": 5,\n",
      "  \"pole_label\": \"right\",\n",
      "  \"valid\": 1,\n",
      "  \"comments\": \"Strongly pro-Trump, using mocking language and framing Biden's reliance on a teleprompter as a weakness.\"\n",
      "}\n",
      "```\n"
     ]
    },
    {
     "name": "stderr",
     "output_type": "stream",
     "text": [
      "Classifying with Few-Shot Prompting:  54%|██▋  | 54/100 [05:01<04:04,  5.31s/it]"
     ]
    },
    {
     "name": "stdout",
     "output_type": "stream",
     "text": [
      "🔍 Raw model output:\n",
      " ```json\n",
      "{\n",
      "  \"polar_score\": 6,\n",
      "  \"pole_label\": \"right\",\n",
      "  \"valid\": 1,\n",
      "  \"comments\": \"Harsh, derogatory language targeting Trump, employing dismissive framing ('bellowing old man yelling at clouds').\"\n",
      "}\n",
      "```\n"
     ]
    },
    {
     "name": "stderr",
     "output_type": "stream",
     "text": [
      "Classifying with Few-Shot Prompting:  55%|██▊  | 55/100 [05:06<04:02,  5.38s/it]"
     ]
    },
    {
     "name": "stdout",
     "output_type": "stream",
     "text": [
      "🔍 Raw model output:\n",
      " ```json\n",
      "{\n",
      "  \"polar_score\": 0,\n",
      "  \"pole_label\": \"neutral\",\n",
      "  \"valid\": 1,\n",
      "  \"comments\": \"Refers to a news outlet and debate, but is a descriptive statement rather than an opinionated one.\"\n",
      "}\n",
      "```\n"
     ]
    },
    {
     "name": "stderr",
     "output_type": "stream",
     "text": [
      "Classifying with Few-Shot Prompting:  56%|██▊  | 56/100 [05:11<03:52,  5.28s/it]"
     ]
    },
    {
     "name": "stdout",
     "output_type": "stream",
     "text": [
      "🔍 Raw model output:\n",
      " ```json\n",
      "{\n",
      "  \"polar_score\": 3,\n",
      "  \"pole_label\": \"right\",\n",
      "  \"valid\": 1,\n",
      "  \"comments\": \"Simple and direct pro-Trump statement, referencing a specific outcome (debate) and using a hashtag associated with MAGA.\"\n",
      "}\n",
      "```\n"
     ]
    },
    {
     "name": "stderr",
     "output_type": "stream",
     "text": [
      "Classifying with Few-Shot Prompting:  57%|██▊  | 57/100 [05:16<03:39,  5.11s/it]"
     ]
    },
    {
     "name": "stdout",
     "output_type": "stream",
     "text": [
      "🔍 Raw model output:\n",
      " ```json\n",
      "{\n",
      "  \"polar_score\": 5,\n",
      "  \"pole_label\": \"right\",\n",
      "  \"valid\": 1,\n",
      "  \"comments\": \"Strongly pro-Trump, mocking Biden, using common MAGA-style sarcasm.\"\n",
      "}\n",
      "```\n"
     ]
    },
    {
     "name": "stderr",
     "output_type": "stream",
     "text": [
      "Classifying with Few-Shot Prompting:  58%|██▉  | 58/100 [05:21<03:38,  5.19s/it]"
     ]
    },
    {
     "name": "stdout",
     "output_type": "stream",
     "text": [
      "🔍 Raw model output:\n",
      " ```json\n",
      "{\n",
      "  \"polar_score\": 6,\n",
      "  \"pole_label\": \"right\",\n",
      "  \"valid\": 1,\n",
      "  \"comments\": \"Strongly critical of Trump using metaphorical language ('opposite of daylight') and likely referencing MAGA imagery.  High partisan tone.\"\n",
      "}\n",
      "```\n"
     ]
    },
    {
     "name": "stderr",
     "output_type": "stream",
     "text": [
      "Classifying with Few-Shot Prompting:  59%|██▉  | 59/100 [05:26<03:30,  5.13s/it]"
     ]
    },
    {
     "name": "stdout",
     "output_type": "stream",
     "text": [
      "🔍 Raw model output:\n",
      " ```json\n",
      "{\n",
      "  \"polar_score\": 5,\n",
      "  \"pole_label\": \"left\",\n",
      "  \"valid\": 1,\n",
      "  \"comments\": \"Strongly pro-Kamala, uses hyperbole ('electoral earthquake') and references a celebrity endorsement.\"\n",
      "}\n",
      "```\n"
     ]
    },
    {
     "name": "stderr",
     "output_type": "stream",
     "text": [
      "Classifying with Few-Shot Prompting:  60%|███  | 60/100 [05:31<03:17,  4.93s/it]"
     ]
    },
    {
     "name": "stdout",
     "output_type": "stream",
     "text": [
      "🔍 Raw model output:\n",
      " ```json\n",
      "{\n",
      "  \"polar_score\": 0,\n",
      "  \"pole_label\": \"neutral\",\n",
      "  \"valid\": 0,\n",
      "  \"comments\": \"References a TV show, not a political figure or debate.\"\n",
      "}\n",
      "```\n"
     ]
    },
    {
     "name": "stderr",
     "output_type": "stream",
     "text": [
      "Classifying with Few-Shot Prompting:  61%|███  | 61/100 [05:38<03:44,  5.75s/it]"
     ]
    },
    {
     "name": "stdout",
     "output_type": "stream",
     "text": [
      "🔍 Raw model output:\n",
      " ```json\n",
      "{\n",
      "  \"polar_score\": 6,\n",
      "  \"pole_label\": \"right\",\n",
      "  \"valid\": 1,\n",
      "  \"comments\": \"Strongly critical of Kamala Harris, accuses her of repeating a Trump-associated narrative, and references a 'far-left' source (Snopes) to bolster the claim. Uses inflammatory language ('lying').\"\n",
      "}\n",
      "```\n"
     ]
    },
    {
     "name": "stderr",
     "output_type": "stream",
     "text": [
      "Classifying with Few-Shot Prompting:  62%|███  | 62/100 [05:48<04:24,  6.97s/it]"
     ]
    },
    {
     "name": "stdout",
     "output_type": "stream",
     "text": [
      "🔍 Raw model output:\n",
      " ```json\n",
      "{\n",
      "  \"polar_score\": 7,\n",
      "  \"pole_label\": \"right\",\n",
      "  \"valid\": 1,\n",
      "  \"comments\": \"Extreme partisan attack using insults and conspiracy theories (soy boy) directed at Kamala Harris and David Muir.\"\n",
      "}\n",
      "```\n"
     ]
    },
    {
     "name": "stderr",
     "output_type": "stream",
     "text": [
      "Classifying with Few-Shot Prompting:  63%|███▏ | 63/100 [05:54<04:09,  6.73s/it]"
     ]
    },
    {
     "name": "stdout",
     "output_type": "stream",
     "text": [
      "🔍 Raw model output:\n",
      " ```json\n",
      "{\n",
      "  \"polar_score\": 4,\n",
      "  \"pole_label\": \"left\",\n",
      "  \"valid\": 1,\n",
      "  \"comments\": \"Strongly supportive of Harris, references January 6th and calls for democracy and rule of law, aligning with a critical stance toward the right.\"\n",
      "}\n",
      "```\n"
     ]
    },
    {
     "name": "stderr",
     "output_type": "stream",
     "text": [
      "Classifying with Few-Shot Prompting:  64%|███▏ | 64/100 [06:00<03:45,  6.26s/it]"
     ]
    },
    {
     "name": "stdout",
     "output_type": "stream",
     "text": [
      "🔍 Raw model output:\n",
      " ```json\n",
      "{\n",
      "  \"polar_score\": 6,\n",
      "  \"pole_label\": \"left\",\n",
      "  \"valid\": 1,\n",
      "  \"comments\": \"Strongly critical of Trump and his policies regarding social security, using factual claims and accusatory language.\"\n",
      "}\n",
      "```\n"
     ]
    },
    {
     "name": "stderr",
     "output_type": "stream",
     "text": [
      "Classifying with Few-Shot Prompting:  65%|███▎ | 65/100 [06:05<03:30,  6.01s/it]"
     ]
    },
    {
     "name": "stdout",
     "output_type": "stream",
     "text": [
      "🔍 Raw model output:\n",
      " ```json\n",
      "{\n",
      "  \"polar_score\": 6,\n",
      "  \"pole_label\": \"right\",\n",
      "  \"valid\": 1,\n",
      "  \"comments\": \"Harsh attack using inflammatory language ('pedo Joe,' 'communist') and personal attacks targeting Kamala Harris.\"\n",
      "}\n",
      "```\n"
     ]
    },
    {
     "name": "stderr",
     "output_type": "stream",
     "text": [
      "Classifying with Few-Shot Prompting:  66%|███▎ | 66/100 [06:10<03:15,  5.74s/it]"
     ]
    },
    {
     "name": "stdout",
     "output_type": "stream",
     "text": [
      "🔍 Raw model output:\n",
      " ```json\n",
      "{\n",
      "  \"polar_score\": 7,\n",
      "  \"pole_label\": \"left\",\n",
      "  \"valid\": 1,\n",
      "  \"comments\": \"Extreme and highly charged attack using derogatory language ('pedo Joe') and ideological framing (linking abortion to Trump).\"\n",
      "}\n",
      "```\n"
     ]
    },
    {
     "name": "stderr",
     "output_type": "stream",
     "text": [
      "Classifying with Few-Shot Prompting:  67%|███▎ | 67/100 [06:15<03:00,  5.47s/it]"
     ]
    },
    {
     "name": "stdout",
     "output_type": "stream",
     "text": [
      "🔍 Raw model output:\n",
      " ```json\n",
      "{\n",
      "  \"polar_score\": 5,\n",
      "  \"pole_label\": \"right\",\n",
      "  \"valid\": 1,\n",
      "  \"comments\": \"Strongly critical of Kamala and Trump, directly referencing a contentious political issue and framing it with partisan language.\"\n",
      "}\n",
      "```\n"
     ]
    },
    {
     "name": "stderr",
     "output_type": "stream",
     "text": [
      "Classifying with Few-Shot Prompting:  68%|███▍ | 68/100 [06:20<02:50,  5.34s/it]"
     ]
    },
    {
     "name": "stdout",
     "output_type": "stream",
     "text": [
      "🔍 Raw model output:\n",
      " ```json\n",
      "{\n",
      "  \"polar_score\": 4,\n",
      "  \"pole_label\": \"right\",\n",
      "  \"valid\": 1,\n",
      "  \"comments\": \"Strongly anti-Biden, utilizing a dismissive tone and suggesting a lack of support, typical of MAGA rhetoric.\"\n",
      "}\n",
      "```\n"
     ]
    },
    {
     "name": "stderr",
     "output_type": "stream",
     "text": [
      "Classifying with Few-Shot Prompting:  69%|███▍ | 69/100 [06:25<02:40,  5.19s/it]"
     ]
    },
    {
     "name": "stdout",
     "output_type": "stream",
     "text": [
      "🔍 Raw model output:\n",
      " ```json\n",
      "{\n",
      "  \"polar_score\": 2,\n",
      "  \"pole_label\": \"right\",\n",
      "  \"valid\": 1,\n",
      "  \"comments\": \"References Trump and Biden, likely supporting a right-leaning perspective due to the retweet request.\"\n",
      "}\n",
      "```\n"
     ]
    },
    {
     "name": "stderr",
     "output_type": "stream",
     "text": [
      "Classifying with Few-Shot Prompting:  70%|███▌ | 70/100 [06:29<02:29,  5.00s/it]"
     ]
    },
    {
     "name": "stdout",
     "output_type": "stream",
     "text": [
      "🔍 Raw model output:\n",
      " ```json\n",
      "{\n",
      "  \"polar_score\": 5,\n",
      "  \"pole_label\": \"right\",\n",
      "  \"valid\": 1,\n",
      "  \"comments\": \"Harsh attack on Trump, using personal attack and referencing a specific policy position.\"\n",
      "}\n",
      "```\n"
     ]
    },
    {
     "name": "stderr",
     "output_type": "stream",
     "text": [
      "Classifying with Few-Shot Prompting:  71%|███▌ | 71/100 [06:35<02:27,  5.08s/it]"
     ]
    },
    {
     "name": "stdout",
     "output_type": "stream",
     "text": [
      "🔍 Raw model output:\n",
      " ```json\n",
      "{\n",
      "  \"polar_score\": 7,\n",
      "  \"pole_label\": \"right\",\n",
      "  \"valid\": 1,\n",
      "  \"comments\": \"Extreme partisan attack against CNN and perceived Democratic bias using conspiracy theories and inflammatory language.\"\n",
      "}\n",
      "```\n"
     ]
    },
    {
     "name": "stderr",
     "output_type": "stream",
     "text": [
      "Classifying with Few-Shot Prompting:  72%|███▌ | 72/100 [06:45<03:07,  6.70s/it]"
     ]
    },
    {
     "name": "stdout",
     "output_type": "stream",
     "text": [
      "🔍 Raw model output:\n",
      " ```json\n",
      "{\n",
      "  \"polar_score\": -7,\n",
      "  \"pole_label\": \"left\",\n",
      "  \"valid\": 1,\n",
      "  \"comments\": \"Absurd and inflammatory language ('pedo Joe', 'communist', 'bloodbath') designed to shock and offend, strongly anti-Trump.\"\n",
      "}\n",
      "```\n"
     ]
    },
    {
     "name": "stderr",
     "output_type": "stream",
     "text": [
      "Classifying with Few-Shot Prompting:  73%|███▋ | 73/100 [06:49<02:41,  5.98s/it]"
     ]
    },
    {
     "name": "stdout",
     "output_type": "stream",
     "text": [
      "🔍 Raw model output:\n",
      " ```json\n",
      "{\n",
      "  \"polar_score\": 6,\n",
      "  \"pole_label\": \"right\",\n",
      "  \"valid\": 1,\n",
      "  \"comments\": \"Strongly anti-Trump using hyperbole and accusatory language.\"\n",
      "}\n",
      "```\n"
     ]
    },
    {
     "name": "stderr",
     "output_type": "stream",
     "text": [
      "Classifying with Few-Shot Prompting:  74%|███▋ | 74/100 [06:55<02:29,  5.76s/it]"
     ]
    },
    {
     "name": "stdout",
     "output_type": "stream",
     "text": [
      "🔍 Raw model output:\n",
      " ```json\n",
      "{\n",
      "  \"polar_score\": 5,\n",
      "  \"pole_label\": \"right\",\n",
      "  \"valid\": 1,\n",
      "  \"comments\": \"Strongly critical of Trump, using accusatory language ('advice of his handlers', 'try his best').\"\n",
      "}\n",
      "```\n"
     ]
    },
    {
     "name": "stderr",
     "output_type": "stream",
     "text": [
      "Classifying with Few-Shot Prompting:  75%|███▊ | 75/100 [06:59<02:11,  5.24s/it]"
     ]
    },
    {
     "name": "stdout",
     "output_type": "stream",
     "text": [
      "🔍 Raw model output:\n",
      " ```json\n",
      "{\n",
      "  \"polar_score\": 0,\n",
      "  \"pole_label\": \"neutral\",\n",
      "  \"valid\": 1,\n",
      "  \"comments\": \"Reports on border patrol, not directly partisan.\"\n",
      "}\n",
      "```\n"
     ]
    },
    {
     "name": "stderr",
     "output_type": "stream",
     "text": [
      "Classifying with Few-Shot Prompting:  76%|███▊ | 76/100 [07:06<02:19,  5.82s/it]"
     ]
    },
    {
     "name": "stdout",
     "output_type": "stream",
     "text": [
      "🔍 Raw model output:\n",
      " ```json\n",
      "{\n",
      "  \"polar_score\": 7,\n",
      "  \"pole_label\": \"right\",\n",
      "  \"valid\": 1,\n",
      "  \"comments\": \"Extreme, multi-pronged attack on Biden using derogatory language ('pedo Joe'), conspiracy theories, and name-calling. Strong partisan framing with repeated use of 'Trump2024' and references to CNN.\"\n",
      "}\n",
      "```\n"
     ]
    },
    {
     "name": "stderr",
     "output_type": "stream",
     "text": [
      "Classifying with Few-Shot Prompting:  77%|███▊ | 77/100 [07:16<02:42,  7.06s/it]"
     ]
    },
    {
     "name": "stdout",
     "output_type": "stream",
     "text": [
      "🔍 Raw model output:\n",
      " ```json\n",
      "{\n",
      "  \"polar_score\": 7,\n",
      "  \"pole_label\": \"left\",\n",
      "  \"valid\": 1,\n",
      "  \"comments\": \"Extremely harsh and derogatory attacks on Biden and Trump, employing insults and negative stereotypes.\"\n",
      "}\n",
      "```\n"
     ]
    },
    {
     "name": "stderr",
     "output_type": "stream",
     "text": [
      "Classifying with Few-Shot Prompting:  78%|███▉ | 78/100 [07:21<02:21,  6.42s/it]"
     ]
    },
    {
     "name": "stdout",
     "output_type": "stream",
     "text": [
      "🔍 Raw model output:\n",
      " ```json\n",
      "{\n",
      "  \"polar_score\": 6,\n",
      "  \"pole_label\": \"right\",\n",
      "  \"valid\": 1,\n",
      "  \"comments\": \"Strongly critical of Trump, referencing specific foreign policy decisions and framing them as failures. Uses accusatory language.\"\n",
      "}\n",
      "```\n"
     ]
    },
    {
     "name": "stderr",
     "output_type": "stream",
     "text": [
      "Classifying with Few-Shot Prompting:  79%|███▉ | 79/100 [07:24<01:56,  5.56s/it]"
     ]
    },
    {
     "name": "stdout",
     "output_type": "stream",
     "text": [
      "🔍 Raw model output:\n",
      " ```json\n",
      "{ \"polar_score\": 7, \"pole_label\": \"left\", \"valid\": 1, \"comments\": \"Extreme and abusive language directed at Trump, highly charged and inflammatory.\" }\n",
      "```\n"
     ]
    },
    {
     "name": "stderr",
     "output_type": "stream",
     "text": [
      "Classifying with Few-Shot Prompting:  80%|████ | 80/100 [07:30<01:53,  5.66s/it]"
     ]
    },
    {
     "name": "stdout",
     "output_type": "stream",
     "text": [
      "🔍 Raw model output:\n",
      " ```json\n",
      "{\n",
      "  \"polar_score\": 5,\n",
      "  \"pole_label\": \"right\",\n",
      "  \"valid\": 1,\n",
      "  \"comments\": \"Strongly pro-Trump, using 'MAGA crowd' framing and contrasting with 'Democrat plantation', expressing distrust of liberal viewpoints.\"\n",
      "}\n",
      "```\n"
     ]
    },
    {
     "name": "stderr",
     "output_type": "stream",
     "text": [
      "Classifying with Few-Shot Prompting:  81%|████ | 81/100 [07:35<01:43,  5.45s/it]"
     ]
    },
    {
     "name": "stdout",
     "output_type": "stream",
     "text": [
      "🔍 Raw model output:\n",
      " ```json\n",
      "{\n",
      "  \"polar_score\": 4,\n",
      "  \"pole_label\": \"right\",\n",
      "  \"valid\": 1,\n",
      "  \"comments\": \"Strong endorsement of a controversial position (anti-abortion) linked to Trump, indicating partisan support.\"\n",
      "}\n",
      "```\n"
     ]
    },
    {
     "name": "stderr",
     "output_type": "stream",
     "text": [
      "Classifying with Few-Shot Prompting:  82%|████ | 82/100 [07:41<01:41,  5.63s/it]"
     ]
    },
    {
     "name": "stdout",
     "output_type": "stream",
     "text": [
      "🔍 Raw model output:\n",
      " ```json\n",
      "{\n",
      "  \"polar_score\": 5,\n",
      "  \"pole_label\": \"right\",\n",
      "  \"valid\": 1,\n",
      "  \"comments\": \"Strongly critical of Biden, using negative language ('failed', 'unprepared', 'lost', 'not strong') and directly comparing him unfavorably to Trump ('lies constantly').\"\n",
      "}\n",
      "```\n"
     ]
    },
    {
     "name": "stderr",
     "output_type": "stream",
     "text": [
      "Classifying with Few-Shot Prompting:  83%|████▏| 83/100 [07:46<01:30,  5.34s/it]"
     ]
    },
    {
     "name": "stdout",
     "output_type": "stream",
     "text": [
      "🔍 Raw model output:\n",
      " ```json\n",
      "{\n",
      "  \"polar_score\": 7,\n",
      "  \"pole_label\": \"left\",\n",
      "  \"valid\": 1,\n",
      "  \"comments\": \"Extreme and repetitive attack on Trump and implied criticism of ABC moderators.\"\n",
      "}\n",
      "```\n"
     ]
    },
    {
     "name": "stderr",
     "output_type": "stream",
     "text": [
      "Classifying with Few-Shot Prompting:  84%|████▏| 84/100 [07:52<01:28,  5.52s/it]"
     ]
    },
    {
     "name": "stdout",
     "output_type": "stream",
     "text": [
      "🔍 Raw model output:\n",
      " ```json\n",
      "{\n",
      "  \"polar_score\": 6,\n",
      "  \"pole_label\": \"left\",\n",
      "  \"valid\": 1,\n",
      "  \"comments\": \"Strongly critical of Trump and associated media figures (Jake Tapper, Dana Bash), using inflammatory language ('fucking questions', 'bullshit').\"\n",
      "}\n",
      "```\n"
     ]
    },
    {
     "name": "stderr",
     "output_type": "stream",
     "text": [
      "Classifying with Few-Shot Prompting:  85%|████▎| 85/100 [07:58<01:24,  5.63s/it]"
     ]
    },
    {
     "name": "stdout",
     "output_type": "stream",
     "text": [
      "🔍 Raw model output:\n",
      " ```json\n",
      "{\n",
      "  \"polar_score\": 5,\n",
      "  \"pole_label\": \"left\",\n",
      "  \"valid\": 1,\n",
      "  \"comments\": \"Strongly critical of Trump and Harris, using accusatory and potentially inflammatory language. Frames Harris as ineffective and suggests a negative outcome related to the debate.\"\n",
      "}\n",
      "```\n"
     ]
    },
    {
     "name": "stderr",
     "output_type": "stream",
     "text": [
      "Classifying with Few-Shot Prompting:  86%|████▎| 86/100 [08:02<01:15,  5.38s/it]"
     ]
    },
    {
     "name": "stdout",
     "output_type": "stream",
     "text": [
      "🔍 Raw model output:\n",
      " ```json\n",
      "{\n",
      "  \"polar_score\": 5,\n",
      "  \"pole_label\": \"left\",\n",
      "  \"valid\": 1,\n",
      "  \"comments\": \"Strongly critical of Harris and Trump, utilizing informal language and suggesting deliberate provocation.\"\n",
      "}\n",
      "```\n"
     ]
    },
    {
     "name": "stderr",
     "output_type": "stream",
     "text": [
      "Classifying with Few-Shot Prompting:  87%|████▎| 87/100 [08:08<01:11,  5.50s/it]"
     ]
    },
    {
     "name": "stdout",
     "output_type": "stream",
     "text": [
      "🔍 Raw model output:\n",
      " ```json\n",
      "{\n",
      "  \"polar_score\": 5,\n",
      "  \"pole_label\": \"right\",\n",
      "  \"valid\": 1,\n",
      "  \"comments\": \"Strongly anti-Biden/Harris, accusing them of censorship and promoting a specific conspiracy theory. Uses inflammatory language ('bloodbath').\"\n",
      "}\n",
      "```\n"
     ]
    },
    {
     "name": "stderr",
     "output_type": "stream",
     "text": [
      "Classifying with Few-Shot Prompting:  88%|████▍| 88/100 [08:13<01:05,  5.42s/it]"
     ]
    },
    {
     "name": "stdout",
     "output_type": "stream",
     "text": [
      "🔍 Raw model output:\n",
      " ```json\n",
      "{\n",
      "  \"polar_score\": 7,\n",
      "  \"pole_label\": \"left\",\n",
      "  \"valid\": 1,\n",
      "  \"comments\": \"Harsh attacks on Kamala Harris and Trump, utilizing derogatory language and referencing controversial issues.\"\n",
      "}\n",
      "```\n"
     ]
    },
    {
     "name": "stderr",
     "output_type": "stream",
     "text": [
      "Classifying with Few-Shot Prompting:  89%|████▍| 89/100 [08:19<00:59,  5.38s/it]"
     ]
    },
    {
     "name": "stdout",
     "output_type": "stream",
     "text": [
      "🔍 Raw model output:\n",
      " ```json\n",
      "{\n",
      "  \"polar_score\": 7,\n",
      "  \"pole_label\": \"left\",\n",
      "  \"valid\": 1,\n",
      "  \"comments\": \"Strongly critical of Trump, utilizing accusations of serious crimes and invoking the rule of law. Highly partisan.\"\n",
      "}\n",
      "```\n"
     ]
    },
    {
     "name": "stderr",
     "output_type": "stream",
     "text": [
      "Classifying with Few-Shot Prompting:  90%|████▌| 90/100 [08:24<00:52,  5.28s/it]"
     ]
    },
    {
     "name": "stdout",
     "output_type": "stream",
     "text": [
      "🔍 Raw model output:\n",
      " ```json\n",
      "{\n",
      "  \"polar_score\": 4,\n",
      "  \"pole_label\": \"right\",\n",
      "  \"valid\": 1,\n",
      "  \"comments\": \"Directly promotes Trump and disparages Kamala Harris. Uses hashtag #Trumpwarroom, indicating pro-Trump network.\"\n",
      "}\n",
      "```\n"
     ]
    },
    {
     "name": "stderr",
     "output_type": "stream",
     "text": [
      "Classifying with Few-Shot Prompting:  91%|████▌| 91/100 [08:29<00:46,  5.13s/it]"
     ]
    },
    {
     "name": "stdout",
     "output_type": "stream",
     "text": [
      "🔍 Raw model output:\n",
      " ```json\n",
      "{\n",
      "  \"polar_score\": 3,\n",
      "  \"pole_label\": \"right\",\n",
      "  \"valid\": 1,\n",
      "  \"comments\": \"Critical of the CNN panel and accuses them of bias against both Trump and Biden.\"\n",
      "}\n",
      "```\n"
     ]
    },
    {
     "name": "stderr",
     "output_type": "stream",
     "text": [
      "Classifying with Few-Shot Prompting:  92%|████▌| 92/100 [08:34<00:41,  5.21s/it]"
     ]
    },
    {
     "name": "stdout",
     "output_type": "stream",
     "text": [
      "🔍 Raw model output:\n",
      " ```json\n",
      "{\n",
      "  \"polar_score\": 6,\n",
      "  \"pole_label\": \"right\",\n",
      "  \"valid\": 1,\n",
      "  \"comments\": \"Strongly critical of ABC and defends Trump, using inflammatory language ('gall,' 'letting her lie').\"\n",
      "}\n",
      "```\n"
     ]
    },
    {
     "name": "stderr",
     "output_type": "stream",
     "text": [
      "Classifying with Few-Shot Prompting:  93%|████▋| 93/100 [08:39<00:35,  5.09s/it]"
     ]
    },
    {
     "name": "stdout",
     "output_type": "stream",
     "text": [
      "🔍 Raw model output:\n",
      " ```json\n",
      "{\n",
      "  \"polar_score\": 7,\n",
      "  \"pole_label\": \"left\",\n",
      "  \"valid\": 1,\n",
      "  \"comments\": \"Strongly anti-Trump and anti-CNN, utilizing harsh language and accusatory framing.\"\n",
      "}\n",
      "```\n"
     ]
    },
    {
     "name": "stderr",
     "output_type": "stream",
     "text": [
      "Classifying with Few-Shot Prompting:  94%|████▋| 94/100 [08:44<00:29,  4.99s/it]"
     ]
    },
    {
     "name": "stdout",
     "output_type": "stream",
     "text": [
      "🔍 Raw model output:\n",
      " ```json\n",
      "{\n",
      "  \"polar_score\": 6,\n",
      "  \"pole_label\": \"right\",\n",
      "  \"valid\": 1,\n",
      "  \"comments\": \"Strongly critical of Kamala Harris and Trump, using mocking and judgmental language. Highly partisan framing.\"\n",
      "}\n",
      "```\n"
     ]
    },
    {
     "name": "stderr",
     "output_type": "stream",
     "text": [
      "Classifying with Few-Shot Prompting:  95%|████▊| 95/100 [08:49<00:26,  5.23s/it]"
     ]
    },
    {
     "name": "stdout",
     "output_type": "stream",
     "text": [
      "🔍 Raw model output:\n",
      " ```json\n",
      "{\n",
      "  \"polar_score\": 3,\n",
      "  \"pole_label\": \"right\",\n",
      "  \"valid\": 1,\n",
      "  \"comments\": \"Strongly pro-Trump, typical MAGA framing with references to the former president and first lady.\"\n",
      "}\n",
      "```\n",
      "\n"
     ]
    },
    {
     "name": "stderr",
     "output_type": "stream",
     "text": [
      "Classifying with Few-Shot Prompting:  96%|████▊| 96/100 [08:54<00:20,  5.15s/it]"
     ]
    },
    {
     "name": "stdout",
     "output_type": "stream",
     "text": [
      "🔍 Raw model output:\n",
      " ```json\n",
      "{\n",
      "  \"polar_score\": 7,\n",
      "  \"pole_label\": \"right\",\n",
      "  \"valid\": 1,\n",
      "  \"comments\": \"Harsh attack using inflammatory language ('pedo Joe', 'WW3') and extreme partisan framing.\"\n",
      "}\n",
      "```\n"
     ]
    },
    {
     "name": "stderr",
     "output_type": "stream",
     "text": [
      "Classifying with Few-Shot Prompting:  97%|████▊| 97/100 [09:00<00:15,  5.18s/it]"
     ]
    },
    {
     "name": "stdout",
     "output_type": "stream",
     "text": [
      "🔍 Raw model output:\n",
      " ```json\n",
      "{\n",
      "  \"polar_score\": 7,\n",
      "  \"pole_label\": \"left\",\n",
      "  \"valid\": 1,\n",
      "  \"comments\": \"Extreme attack on Trump using highly charged language and framing (execution of babies) linked to gun laws. Strong ideological positioning.\"\n",
      "}\n",
      "```\n",
      "\n"
     ]
    },
    {
     "name": "stderr",
     "output_type": "stream",
     "text": [
      "Classifying with Few-Shot Prompting:  98%|████▉| 98/100 [09:05<00:10,  5.18s/it]"
     ]
    },
    {
     "name": "stdout",
     "output_type": "stream",
     "text": [
      "🔍 Raw model output:\n",
      " ```json\n",
      "{\n",
      "  \"polar_score\": 4,\n",
      "  \"pole_label\": \"right\",\n",
      "  \"valid\": 1,\n",
      "  \"comments\": \"Strongly supportive of Trump, praising his debate performance and using patriotic framing.\"\n",
      "}\n",
      "```\n"
     ]
    },
    {
     "name": "stderr",
     "output_type": "stream",
     "text": [
      "Classifying with Few-Shot Prompting:  99%|████▉| 99/100 [09:11<00:05,  5.63s/it]"
     ]
    },
    {
     "name": "stdout",
     "output_type": "stream",
     "text": [
      "🔍 Raw model output:\n",
      " ```json\n",
      "{\n",
      "  \"polar_score\": 4,\n",
      "  \"pole_label\": \"right\",\n",
      "  \"valid\": 1,\n",
      "  \"comments\": \"Strongly critical of Kamala Harris, using language suggesting she is dishonest and demanding a response.  Partisan framing targeting a specific news personality (Eric Bolling) and referencing a key political figure (Kamala Harris).\"\n",
      "}\n",
      "```\n"
     ]
    },
    {
     "name": "stderr",
     "output_type": "stream",
     "text": [
      "Classifying with Few-Shot Prompting: 100%|████| 100/100 [09:17<00:00,  5.57s/it]"
     ]
    },
    {
     "name": "stdout",
     "output_type": "stream",
     "text": [
      "🔍 Raw model output:\n",
      " ```json\n",
      "{\n",
      "  \"polar_score\": 6,\n",
      "  \"pole_label\": \"right\",\n",
      "  \"valid\": 1,\n",
      "  \"comments\": \"Strongly pro-Trump, referencing specific claims and aggressively criticizing Biden/Harris. Uses inflammatory language ('pedo Joe').\"\n",
      "}\n",
      "```\n"
     ]
    },
    {
     "name": "stderr",
     "output_type": "stream",
     "text": [
      "\n"
     ]
    }
   ],
   "source": [
    "import pandas as pd\n",
    "from tqdm import tqdm\n",
    "\n",
    "df = pd.read_csv(\"data/sample/debate_tweets_sample_1000_for_annotation.csv\").head(100)\n",
    "\n",
    "results = []\n",
    "for tweet in tqdm(df['santext'], desc=\"Classifying with Few-Shot Prompting\"):\n",
    "    # The issue is likely in the classify_with_ollama_gemma function\n",
    "    # It's trying to access tweet['tweet'] instead of using tweet directly\n",
    "    # Modified to pass tweet as the text content directly\n",
    "    result = classify_with_ollama_gemma(tweet, few_shot_examples)\n",
    "    results.append(result)\n",
    "\n",
    "# Add columns\n",
    "df['polar_score'] = [r['polar_score'] for r in results]\n",
    "df['pole_label'] = [r['pole_label'] for r in results]\n",
    "df['valid'] = [r['valid'] for r in results]\n",
    "df['comments'] = [r['comments'] for r in results]\n",
    "\n",
    "df.to_csv(\"data/sample/debate_tweets_sample_1000_fewshot_ollama.csv\", index=False)"
   ]
  },
  {
   "cell_type": "markdown",
   "id": "80421d67-92a0-4db9-b437-47658a9a427d",
   "metadata": {},
   "source": [
    "Now, we test the classification made by Gemma3:4b"
   ]
  },
  {
   "cell_type": "code",
   "execution_count": 23,
   "id": "63928fc8-e044-40b1-a2e2-1ef38981cae0",
   "metadata": {},
   "outputs": [],
   "source": [
    "import ollama\n",
    "import json\n",
    "import pandas as pd\n",
    "\n",
    "# Few-shot examples\n",
    "few_shot_examples = [\n",
    "    {\n",
    "        \"prompt\": 'Classify the following tweet: \"Biden is a neoliberal fraud.\"',\n",
    "        \"response\": '{ \"polar_score\": -4, \"pole_label\": \"left\", \"valid\": 1, \"comments\": \"\" }'\n",
    "    },\n",
    "    {\n",
    "        \"prompt\": 'Classify the following tweet: \"Trump just destroyed the debate!\"',\n",
    "        \"response\": '{ \"polar_score\": 5, \"pole_label\": \"right\", \"valid\": 1, \"comments\": \"\" }'\n",
    "    }\n",
    "]"
   ]
  },
  {
   "cell_type": "code",
   "execution_count": 24,
   "id": "2c3ad9d1-3956-41a0-b9ba-f9645980b18a",
   "metadata": {},
   "outputs": [],
   "source": [
    "def build_few_shot_prompt(examples, tweet):\n",
    "    prompt = \"\"\n",
    "    for ex in examples:\n",
    "        prompt += f\"{ex['prompt']}\\nResponse: {ex['response']}\\n\\n\"\n",
    "    prompt += f'Classify the following tweet: \"{tweet}\"\\nResponse:'\n",
    "    return prompt"
   ]
  },
  {
   "cell_type": "code",
   "execution_count": 25,
   "id": "e3383153-1adc-4e47-862e-b12596d87d21",
   "metadata": {},
   "outputs": [],
   "source": [
    "def classify_with_ollama_gemma(tweet, examples):\n",
    "    prompt = build_few_shot_prompt(examples, tweet)\n",
    "    response = ollama.chat(model='gemma3:4b', messages=[\n",
    "        {'role': 'user', 'content': prompt}\n",
    "    ])\n",
    "    try:\n",
    "        return json.loads(response['message']['content'])\n",
    "    except Exception as e:\n",
    "        return {\n",
    "            \"polar_score\": \"ERR\",\n",
    "            \"pole_label\": \"err\",\n",
    "            \"valid\": 0,\n",
    "            \"comments\": f\"Parse error: {e}\"\n",
    "        }"
   ]
  },
  {
   "cell_type": "code",
   "execution_count": 26,
   "id": "550e9917-cb82-4a58-8b7a-9a57a6c228ec",
   "metadata": {},
   "outputs": [],
   "source": [
    "df = pd.read_csv(\"data/sample/debate_tweets_sample_1000_for_annotation.csv\")\n",
    "sample_df = df.head(5)  # Use the first 5 tweets for testing"
   ]
  },
  {
   "cell_type": "code",
   "execution_count": 27,
   "id": "06d458bc-acd5-4746-ab9e-1df2e23be084",
   "metadata": {},
   "outputs": [
    {
     "name": "stderr",
     "output_type": "stream",
     "text": [
      "/var/folders/8x/qy8j1cyj36jd9vpnlk90r0hh0000gn/T/ipykernel_72338/1575122912.py:7: SettingWithCopyWarning: \n",
      "A value is trying to be set on a copy of a slice from a DataFrame.\n",
      "Try using .loc[row_indexer,col_indexer] = value instead\n",
      "\n",
      "See the caveats in the documentation: https://pandas.pydata.org/pandas-docs/stable/user_guide/indexing.html#returning-a-view-versus-a-copy\n",
      "  sample_df['polar_score'] = [r[\"polar_score\"] for r in results]\n",
      "/var/folders/8x/qy8j1cyj36jd9vpnlk90r0hh0000gn/T/ipykernel_72338/1575122912.py:8: SettingWithCopyWarning: \n",
      "A value is trying to be set on a copy of a slice from a DataFrame.\n",
      "Try using .loc[row_indexer,col_indexer] = value instead\n",
      "\n",
      "See the caveats in the documentation: https://pandas.pydata.org/pandas-docs/stable/user_guide/indexing.html#returning-a-view-versus-a-copy\n",
      "  sample_df['pole_label'] = [r[\"pole_label\"] for r in results]\n",
      "/var/folders/8x/qy8j1cyj36jd9vpnlk90r0hh0000gn/T/ipykernel_72338/1575122912.py:9: SettingWithCopyWarning: \n",
      "A value is trying to be set on a copy of a slice from a DataFrame.\n",
      "Try using .loc[row_indexer,col_indexer] = value instead\n",
      "\n",
      "See the caveats in the documentation: https://pandas.pydata.org/pandas-docs/stable/user_guide/indexing.html#returning-a-view-versus-a-copy\n",
      "  sample_df['valid'] = [r[\"valid\"] for r in results]\n",
      "/var/folders/8x/qy8j1cyj36jd9vpnlk90r0hh0000gn/T/ipykernel_72338/1575122912.py:10: SettingWithCopyWarning: \n",
      "A value is trying to be set on a copy of a slice from a DataFrame.\n",
      "Try using .loc[row_indexer,col_indexer] = value instead\n",
      "\n",
      "See the caveats in the documentation: https://pandas.pydata.org/pandas-docs/stable/user_guide/indexing.html#returning-a-view-versus-a-copy\n",
      "  sample_df['comments'] = [r[\"comments\"] for r in results]\n"
     ]
    },
    {
     "data": {
      "text/html": [
       "<div>\n",
       "<style scoped>\n",
       "    .dataframe tbody tr th:only-of-type {\n",
       "        vertical-align: middle;\n",
       "    }\n",
       "\n",
       "    .dataframe tbody tr th {\n",
       "        vertical-align: top;\n",
       "    }\n",
       "\n",
       "    .dataframe thead th {\n",
       "        text-align: right;\n",
       "    }\n",
       "</style>\n",
       "<table border=\"1\" class=\"dataframe\">\n",
       "  <thead>\n",
       "    <tr style=\"text-align: right;\">\n",
       "      <th></th>\n",
       "      <th>santext</th>\n",
       "      <th>polar_score</th>\n",
       "      <th>pole_label</th>\n",
       "      <th>valid</th>\n",
       "      <th>comments</th>\n",
       "    </tr>\n",
       "  </thead>\n",
       "  <tbody>\n",
       "    <tr>\n",
       "      <th>0</th>\n",
       "      <td>rt ryanshead donald trump is dumb as fuuuuuuuuck</td>\n",
       "      <td>ERR</td>\n",
       "      <td>err</td>\n",
       "      <td>0</td>\n",
       "      <td>Parse error: Expecting value: line 1 column 1 ...</td>\n",
       "    </tr>\n",
       "    <tr>\n",
       "      <th>1</th>\n",
       "      <td>rt politico woof why is trump claiming immigra...</td>\n",
       "      <td>ERR</td>\n",
       "      <td>err</td>\n",
       "      <td>0</td>\n",
       "      <td>Parse error: Expecting value: line 1 column 1 ...</td>\n",
       "    </tr>\n",
       "    <tr>\n",
       "      <th>2</th>\n",
       "      <td>nevermind rt robbysoave trump my retribution i...</td>\n",
       "      <td>ERR</td>\n",
       "      <td>err</td>\n",
       "      <td>0</td>\n",
       "      <td>Parse error: Expecting value: line 1 column 1 ...</td>\n",
       "    </tr>\n",
       "    <tr>\n",
       "      <th>3</th>\n",
       "      <td>rt leadingreport breaking former president tru...</td>\n",
       "      <td>ERR</td>\n",
       "      <td>err</td>\n",
       "      <td>0</td>\n",
       "      <td>Parse error: Expecting value: line 1 column 1 ...</td>\n",
       "    </tr>\n",
       "    <tr>\n",
       "      <th>4</th>\n",
       "      <td>rt projectlincoln abc jd vance says you would ...</td>\n",
       "      <td>ERR</td>\n",
       "      <td>err</td>\n",
       "      <td>0</td>\n",
       "      <td>Parse error: Expecting value: line 1 column 1 ...</td>\n",
       "    </tr>\n",
       "  </tbody>\n",
       "</table>\n",
       "</div>"
      ],
      "text/plain": [
       "                                             santext polar_score pole_label  \\\n",
       "0   rt ryanshead donald trump is dumb as fuuuuuuuuck         ERR        err   \n",
       "1  rt politico woof why is trump claiming immigra...         ERR        err   \n",
       "2  nevermind rt robbysoave trump my retribution i...         ERR        err   \n",
       "3  rt leadingreport breaking former president tru...         ERR        err   \n",
       "4  rt projectlincoln abc jd vance says you would ...         ERR        err   \n",
       "\n",
       "   valid                                           comments  \n",
       "0      0  Parse error: Expecting value: line 1 column 1 ...  \n",
       "1      0  Parse error: Expecting value: line 1 column 1 ...  \n",
       "2      0  Parse error: Expecting value: line 1 column 1 ...  \n",
       "3      0  Parse error: Expecting value: line 1 column 1 ...  \n",
       "4      0  Parse error: Expecting value: line 1 column 1 ...  "
      ]
     },
     "execution_count": 27,
     "metadata": {},
     "output_type": "execute_result"
    }
   ],
   "source": [
    "results = []\n",
    "for tweet in sample_df['santext']:\n",
    "    result = classify_with_ollama_gemma(tweet, few_shot_examples)\n",
    "    results.append(result)\n",
    "\n",
    "# Add new columns to the dataframe\n",
    "sample_df['polar_score'] = [r[\"polar_score\"] for r in results]\n",
    "sample_df['pole_label'] = [r[\"pole_label\"] for r in results]\n",
    "sample_df['valid'] = [r[\"valid\"] for r in results]\n",
    "sample_df['comments'] = [r[\"comments\"] for r in results]\n",
    "\n",
    "#  results\n",
    "sample_df[['santext', 'polar_score', 'pole_label', 'valid', 'comments']]"
   ]
  },
  {
   "cell_type": "code",
   "execution_count": 28,
   "id": "24a7a1ca-0c6f-4e43-9be9-3a4965d69617",
   "metadata": {},
   "outputs": [],
   "source": [
    "def classify_with_ollama_gemma(tweet, examples):\n",
    "    prompt = build_few_shot_prompt(examples, tweet)\n",
    "    response = ollama.chat(model='gemma3:4b', messages=[\n",
    "        {'role': 'user', 'content': prompt}\n",
    "    ])\n",
    "\n",
    "    content = response['message']['content']\n",
    "    print(\"Raw model output:\\n\", content) \n",
    "\n",
    "    try:\n",
    "        return json.loads(content)\n",
    "    except Exception as e:\n",
    "        return {\n",
    "            \"polar_score\": \"ERR\",\n",
    "            \"pole_label\": \"err\",\n",
    "            \"valid\": 0,\n",
    "            \"comments\": f\"Parse error: {e}\\nRaw response: {content}\"\n",
    "        }"
   ]
  },
  {
   "cell_type": "code",
   "execution_count": 29,
   "id": "4abdb988-6b1d-44d6-9e04-65760596303c",
   "metadata": {},
   "outputs": [
    {
     "name": "stdout",
     "output_type": "stream",
     "text": [
      "🔍 Raw model output:\n",
      " ```json\n",
      "{\n",
      "  \"polar_score\": 7,\n",
      "  \"pole_label\": \"right\",\n",
      "  \"valid\": 1,\n",
      "  \"comments\": \"This tweet contains strong, abusive language and is highly polarized due to its personal attack and aggressive sentiment. The use of 'fuuuuuuuuck' significantly elevates the negativity.\"\n",
      "}\n",
      "```\n",
      "{'polar_score': 'ERR', 'pole_label': 'err', 'valid': 0, 'comments': 'Parse error: Expecting value: line 1 column 1 (char 0)\\nRaw response: ```json\\n{\\n  \"polar_score\": 7,\\n  \"pole_label\": \"right\",\\n  \"valid\": 1,\\n  \"comments\": \"This tweet contains strong, abusive language and is highly polarized due to its personal attack and aggressive sentiment. The use of \\'fuuuuuuuuck\\' significantly elevates the negativity.\"\\n}\\n```'}\n"
     ]
    }
   ],
   "source": [
    "tweet = sample_df.iloc[0]['santext']\n",
    "result = classify_with_ollama_gemma(tweet, few_shot_examples)\n",
    "print(result)"
   ]
  },
  {
   "cell_type": "code",
   "execution_count": null,
   "id": "79e0c4bc-db27-4d6f-89f3-d709394eaae8",
   "metadata": {},
   "outputs": [],
   "source": []
  }
 ],
 "metadata": {
  "kernelspec": {
   "display_name": "Python [conda env:base] *",
   "language": "python",
   "name": "conda-base-py"
  },
  "language_info": {
   "codemirror_mode": {
    "name": "ipython",
    "version": 3
   },
   "file_extension": ".py",
   "mimetype": "text/x-python",
   "name": "python",
   "nbconvert_exporter": "python",
   "pygments_lexer": "ipython3",
   "version": "3.13.5"
  }
 },
 "nbformat": 4,
 "nbformat_minor": 5
}
