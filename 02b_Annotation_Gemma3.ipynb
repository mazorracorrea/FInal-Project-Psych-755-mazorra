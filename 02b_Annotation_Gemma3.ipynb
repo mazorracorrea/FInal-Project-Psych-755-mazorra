{
 "cells": [
  {
   "cell_type": "markdown",
   "id": "9f29ddb0-c02a-4239-bd6d-6d03758d194c",
   "metadata": {},
   "source": [
    "**PART 2: GEMMA3  Classifier**\n",
    "\n",
    "This notebook serves as a parallel to the GPT-4 annotation process, with the key difference being the use of a locally-run language model. Here, we use a Gemma3 (the one with 12b parameters) model via Ollama to classify the same sample of tweets. The goal is to compare the performance and reliability of a local, open-source model against a proprietary API-based model like GPT-4."
   ]
  },
  {
   "cell_type": "markdown",
   "id": "205275d1-276d-4f45-b867-3973881e886b",
   "metadata": {},
   "source": [
    "First we need to run our model with Ollama. We need to download Ollama and make sure is running our models there. For this reason the code requires to go to the web page by Ollama and donwload the resources.\n",
    "\n",
    "In the terminal we run Ollama with this as a first step to the experiment:\n",
    "ollama run gemma3:12b\n",
    "\n",
    "**Structure:**\n",
    "\n",
    "Library: Imports libraries.\n",
    "\n",
    "Data: Loads the same 1000 tweet sample that was used for GPT-4 annotation to make the comparison. A smaller subset of 100 tweets is used for the actual run in this notebook.\n",
    "\n",
    "Prompt:\n",
    "\n",
    "Few-Shot: A list of few_shot_examples is created. These examples provide the model with a demonstration of the expected input and output format.\n",
    "\n",
    "Function build_prompt: This constructs the final prompt by combining instructions (similar to the GPT-4 prompt), the few-shot examples, and the new tweet to be classified.\n",
    "\n",
    "Classifier function: This functions is called classify_with_ollama_gemma and runs the model Gemma3 with Ollama to classify the tweets similar prompt to GPT. It takes a tweet and the few-shot examples as input and calls the local gemma3:12b model via the ollama.chat function. A raw text ouptut is created by the safe_extract_json helper function. Error handling is implemented to catch and report any JSON parsing failures.\n",
    "\n",
    "Classification and output: It iterates through the sample of tweets, calling the classification function for each one. The results are in the output to the DF as new columns (polar_score, pole_label).\n",
    "\n",
    "The final labeled DF is saved to debate_tweets_sample_1000_for_annotation_labeled_ollama.csv."
   ]
  },
  {
   "cell_type": "code",
   "execution_count": 5,
   "id": "347b6299-dcd9-439e-bf94-87b0b7365541",
   "metadata": {},
   "outputs": [
    {
     "name": "stdout",
     "output_type": "stream",
     "text": [
      "Collecting ollama\n",
      "  Downloading ollama-0.5.1-py3-none-any.whl.metadata (4.3 kB)\n",
      "Requirement already satisfied: httpx>=0.27 in /opt/anaconda3/lib/python3.13/site-packages (from ollama) (0.28.1)\n",
      "Requirement already satisfied: pydantic>=2.9 in /opt/anaconda3/lib/python3.13/site-packages (from ollama) (2.10.3)\n",
      "Requirement already satisfied: anyio in /opt/anaconda3/lib/python3.13/site-packages (from httpx>=0.27->ollama) (4.7.0)\n",
      "Requirement already satisfied: certifi in /opt/anaconda3/lib/python3.13/site-packages (from httpx>=0.27->ollama) (2025.7.9)\n",
      "Requirement already satisfied: httpcore==1.* in /opt/anaconda3/lib/python3.13/site-packages (from httpx>=0.27->ollama) (1.0.9)\n",
      "Requirement already satisfied: idna in /opt/anaconda3/lib/python3.13/site-packages (from httpx>=0.27->ollama) (3.7)\n",
      "Requirement already satisfied: h11>=0.16 in /opt/anaconda3/lib/python3.13/site-packages (from httpcore==1.*->httpx>=0.27->ollama) (0.16.0)\n",
      "Requirement already satisfied: annotated-types>=0.6.0 in /opt/anaconda3/lib/python3.13/site-packages (from pydantic>=2.9->ollama) (0.6.0)\n",
      "Requirement already satisfied: pydantic-core==2.27.1 in /opt/anaconda3/lib/python3.13/site-packages (from pydantic>=2.9->ollama) (2.27.1)\n",
      "Requirement already satisfied: typing-extensions>=4.12.2 in /opt/anaconda3/lib/python3.13/site-packages (from pydantic>=2.9->ollama) (4.12.2)\n",
      "Requirement already satisfied: sniffio>=1.1 in /opt/anaconda3/lib/python3.13/site-packages (from anyio->httpx>=0.27->ollama) (1.3.0)\n",
      "Downloading ollama-0.5.1-py3-none-any.whl (13 kB)\n",
      "Installing collected packages: ollama\n",
      "Successfully installed ollama-0.5.1\n"
     ]
    }
   ],
   "source": [
    "!pip install ollama"
   ]
  },
  {
   "cell_type": "code",
   "execution_count": 6,
   "id": "50e31471-e1dd-4724-a2ac-8aeeeaaafd5a",
   "metadata": {},
   "outputs": [
    {
     "name": "stderr",
     "output_type": "stream",
     "text": [
      "Classifying with Ollama:   0%|                          | 0/100 [00:00<?, ?it/s]"
     ]
    },
    {
     "name": "stdout",
     "output_type": "stream",
     "text": [
      "\n",
      "MODEL RESPONSE:\n",
      "```json\n",
      "{\n",
      "  \"polar_score\": -3,\n",
      "  \"pole_label\": \"right\",\n",
      "  \"valid\": 1,\n",
      "  \"comments\": \"Expresses negative opinions on both Biden and Trump, favors Trump based on perceived debate performance.\"\n",
      "}\n",
      "```\n"
     ]
    },
    {
     "name": "stderr",
     "output_type": "stream",
     "text": [
      "Classifying with Ollama:   1%|▏                 | 1/100 [00:07<13:04,  7.92s/it]"
     ]
    },
    {
     "name": "stdout",
     "output_type": "stream",
     "text": [
      "\n",
      "MODEL RESPONSE:\n",
      "```json\n",
      "{\n",
      "  \"polar_score\": -3,\n",
      "  \"pole_label\": \"left\",\n",
      "  \"valid\": 1,\n",
      "  \"comments\": \"Criticizes debate moderators and implies Kamala Harris was unfairly treated.\"\n",
      "}\n",
      "```\n"
     ]
    },
    {
     "name": "stderr",
     "output_type": "stream",
     "text": [
      "Classifying with Ollama:   2%|▎                 | 2/100 [00:13<11:07,  6.81s/it]"
     ]
    },
    {
     "name": "stdout",
     "output_type": "stream",
     "text": [
      "\n",
      "MODEL RESPONSE:\n",
      "```json\n",
      "{\n",
      "  \"polar_score\": -6,\n",
      "  \"pole_label\": \"left\",\n",
      "  \"valid\": 1,\n",
      "  \"comments\": \"Strongly negative and critical assessment of a former U.S. President.\"\n",
      "}\n",
      "```\n"
     ]
    },
    {
     "name": "stderr",
     "output_type": "stream",
     "text": [
      "Classifying with Ollama:   3%|▌                 | 3/100 [00:20<10:37,  6.57s/it]"
     ]
    },
    {
     "name": "stdout",
     "output_type": "stream",
     "text": [
      "\n",
      "MODEL RESPONSE:\n",
      "```json\n",
      "{\n",
      "  \"polar_score\": -6,\n",
      "  \"pole_label\": \"left\",\n",
      "  \"valid\": 1,\n",
      "  \"comments\": \"Strongly negative sentiment towards Trump and the Republican party.\"\n",
      "}\n",
      "```\n"
     ]
    },
    {
     "name": "stderr",
     "output_type": "stream",
     "text": [
      "Classifying with Ollama:   4%|▋                 | 4/100 [00:26<10:09,  6.35s/it]"
     ]
    },
    {
     "name": "stdout",
     "output_type": "stream",
     "text": [
      "\n",
      "MODEL RESPONSE:\n",
      "```json\n",
      "{\n",
      "  \"polar_score\": -3,\n",
      "  \"pole_label\": \"left\",\n",
      "  \"valid\": 1,\n",
      "  \"comments\": \"Highlights opposition to Trump, leaning left due to implicit criticism.\"\n",
      "}\n",
      "```\n"
     ]
    },
    {
     "name": "stderr",
     "output_type": "stream",
     "text": [
      "Classifying with Ollama:   5%|▉                 | 5/100 [00:32<09:52,  6.23s/it]"
     ]
    },
    {
     "name": "stdout",
     "output_type": "stream",
     "text": [
      "\n",
      "MODEL RESPONSE:\n",
      "```json\n",
      "{\n",
      "  \"polar_score\": 6,\n",
      "  \"pole_label\": \"right\",\n",
      "  \"valid\": 1,\n",
      "  \"comments\": \"Expresses a right-wing critique of a statement by Kamala Harris regarding healthcare as a right.\"\n",
      "}\n",
      "```\n"
     ]
    },
    {
     "name": "stderr",
     "output_type": "stream",
     "text": [
      "Classifying with Ollama:   6%|█                 | 6/100 [00:38<09:57,  6.36s/it]"
     ]
    },
    {
     "name": "stdout",
     "output_type": "stream",
     "text": [
      "\n",
      "MODEL RESPONSE:\n",
      "```json\n",
      "{\n",
      "  \"polar_score\": 3,\n",
      "  \"pole_label\": \"right\",\n",
      "  \"valid\": 1,\n",
      "  \"comments\": \"Expresses a positive sentiment towards Donald Trump and a negative implication for Kamala Harris, relating to U.S. political figures and voter sentiment.\"\n",
      "}\n",
      "```\n"
     ]
    },
    {
     "name": "stderr",
     "output_type": "stream",
     "text": [
      "Classifying with Ollama:   7%|█▎                | 7/100 [00:46<10:25,  6.73s/it]"
     ]
    },
    {
     "name": "stdout",
     "output_type": "stream",
     "text": [
      "\n",
      "MODEL RESPONSE:\n",
      "```json\n",
      "{\n",
      "  \"polar_score\": 5,\n",
      "  \"pole_label\": \"right\",\n",
      "  \"valid\": 1,\n",
      "  \"comments\": \"Strongly opinionated commentary on a U.S. political debate, framing it as biased against Trump.\"\n",
      "}\n",
      "```\n"
     ]
    },
    {
     "name": "stderr",
     "output_type": "stream",
     "text": [
      "Classifying with Ollama:   8%|█▍                | 8/100 [00:53<10:17,  6.72s/it]"
     ]
    },
    {
     "name": "stdout",
     "output_type": "stream",
     "text": [
      "\n",
      "MODEL RESPONSE:\n",
      "```json\n",
      "{\n",
      "  \"polar_score\": 6,\n",
      "  \"pole_label\": \"right\",\n",
      "  \"valid\": 1,\n",
      "  \"comments\": \"Strongly right-leaning framing of the debate as a clash between American values and communism.\"\n",
      "}\n",
      "```\n"
     ]
    },
    {
     "name": "stderr",
     "output_type": "stream",
     "text": [
      "Classifying with Ollama:   9%|█▌                | 9/100 [00:59<10:04,  6.64s/it]"
     ]
    },
    {
     "name": "stdout",
     "output_type": "stream",
     "text": [
      "\n",
      "MODEL RESPONSE:\n",
      "```json\n",
      "{\n",
      "  \"polar_score\": -3,\n",
      "  \"pole_label\": \"left\",\n",
      "  \"valid\": 1,\n",
      "  \"comments\": \"Clearly critical of Trump and portrays a negative dynamic from the debate; aligns with a left-leaning perspective.\"\n",
      "}\n",
      "```\n"
     ]
    },
    {
     "name": "stderr",
     "output_type": "stream",
     "text": [
      "Classifying with Ollama:  10%|█▋               | 10/100 [01:06<09:59,  6.66s/it]"
     ]
    },
    {
     "name": "stdout",
     "output_type": "stream",
     "text": [
      "\n",
      "MODEL RESPONSE:\n",
      "```json\n",
      "{\n",
      "  \"polar_score\": -5,\n",
      "  \"pole_label\": \"left\",\n",
      "  \"valid\": 1,\n",
      "  \"comments\": \"Strongly critical of Trump, employing a metaphorical attack.\"\n",
      "}\n",
      "```\n"
     ]
    },
    {
     "name": "stderr",
     "output_type": "stream",
     "text": [
      "Classifying with Ollama:  11%|█▊               | 11/100 [01:12<09:33,  6.44s/it]"
     ]
    },
    {
     "name": "stdout",
     "output_type": "stream",
     "text": [
      "\n",
      "MODEL RESPONSE:\n",
      "```json\n",
      "{\n",
      "  \"polar_score\": -5,\n",
      "  \"pole_label\": \"right\",\n",
      "  \"valid\": 1,\n",
      "  \"comments\": \"Highly negative and partisan commentary on CNN, Jake Tapper, Biden, and Trump, indicating a right-leaning perspective.\"\n",
      "}\n",
      "```\n"
     ]
    },
    {
     "name": "stderr",
     "output_type": "stream",
     "text": [
      "Classifying with Ollama:  12%|██               | 12/100 [01:19<09:47,  6.68s/it]"
     ]
    },
    {
     "name": "stdout",
     "output_type": "stream",
     "text": [
      "\n",
      "MODEL RESPONSE:\n",
      "```json\n",
      "{\n",
      "  \"polar_score\": -6,\n",
      "  \"pole_label\": \"left\",\n",
      "  \"valid\": 1,\n",
      "  \"comments\": \"Strongly negative sentiment towards Trump and a call for fact-checking, clearly within the U.S. political debate.\"\n",
      "}\n",
      "```\n"
     ]
    },
    {
     "name": "stderr",
     "output_type": "stream",
     "text": [
      "Classifying with Ollama:  13%|██▏              | 13/100 [01:26<09:51,  6.79s/it]"
     ]
    },
    {
     "name": "stdout",
     "output_type": "stream",
     "text": [
      "\n",
      "MODEL RESPONSE:\n",
      "```json\n",
      "{\n",
      "  \"polar_score\": 6,\n",
      "  \"pole_label\": \"right\",\n",
      "  \"valid\": 1,\n",
      "  \"comments\": \"Strongly right-leaning criticism of Kamala Harris and accusations of racial division.\"\n",
      "}\n",
      "```\n"
     ]
    },
    {
     "name": "stderr",
     "output_type": "stream",
     "text": [
      "Classifying with Ollama:  14%|██▍              | 14/100 [01:34<10:14,  7.15s/it]"
     ]
    },
    {
     "name": "stdout",
     "output_type": "stream",
     "text": [
      "\n",
      "MODEL RESPONSE:\n",
      "```json\n",
      "{\n",
      "  \"polar_score\": 5,\n",
      "  \"pole_label\": \"right\",\n",
      "  \"valid\": 1,\n",
      "  \"comments\": \"Accusation against a political figure (Kamala Harris) regarding a policy decision (Afghanistan withdrawal) and a previous administration (Trump). Strong negative framing.\"\n",
      "}\n",
      "```\n"
     ]
    },
    {
     "name": "stderr",
     "output_type": "stream",
     "text": [
      "Classifying with Ollama:  15%|██▌              | 15/100 [01:49<13:39,  9.64s/it]"
     ]
    },
    {
     "name": "stdout",
     "output_type": "stream",
     "text": [
      "\n",
      "MODEL RESPONSE:\n",
      "```json\n",
      "{\n",
      "  \"polar_score\": 7,\n",
      "  \"pole_label\": \"right\",\n",
      "  \"valid\": 1,\n",
      "  \"comments\": \"Highly inflammatory and partisan, attacking immigration policy and Kamala Harris. Contains misinformation and emotionally charged language.\"\n",
      "}\n",
      "```\n"
     ]
    },
    {
     "name": "stderr",
     "output_type": "stream",
     "text": [
      "Classifying with Ollama:  16%|██▋              | 16/100 [01:57<12:37,  9.02s/it]"
     ]
    },
    {
     "name": "stdout",
     "output_type": "stream",
     "text": [
      "\n",
      "MODEL RESPONSE:\n",
      "```json\n",
      "{\n",
      "  \"polar_score\": 6,\n",
      "  \"pole_label\": \"right\",\n",
      "  \"valid\": 1,\n",
      "  \"comments\": \"References a controversial statement by Trump regarding January 6th, highly relevant to US political debate.\"\n",
      "}\n",
      "```\n"
     ]
    },
    {
     "name": "stderr",
     "output_type": "stream",
     "text": [
      "Classifying with Ollama:  17%|██▉              | 17/100 [02:04<11:42,  8.46s/it]"
     ]
    },
    {
     "name": "stdout",
     "output_type": "stream",
     "text": [
      "\n",
      "MODEL RESPONSE:\n",
      "```json\n",
      "{\n",
      "  \"polar_score\": 6,\n",
      "  \"pole_label\": \"right\",\n",
      "  \"valid\": 1,\n",
      "  \"comments\": \"Strongly critical of Trump's media coverage, suggesting unfair targeting.\"\n",
      "}\n",
      "```\n"
     ]
    },
    {
     "name": "stderr",
     "output_type": "stream",
     "text": [
      "Classifying with Ollama:  18%|███              | 18/100 [02:11<10:56,  8.00s/it]"
     ]
    },
    {
     "name": "stdout",
     "output_type": "stream",
     "text": [
      "\n",
      "MODEL RESPONSE:\n",
      "```json\n",
      "{\n",
      "  \"polar_score\": 4,\n",
      "  \"pole_label\": \"right\",\n",
      "  \"valid\": 1,\n",
      "  \"comments\": \"Highly polarized, references current political figures and issues (Trump, Kamala Harris, Republican/Democrat), and includes keywords associated with right-leaning media and political commentary.\"\n",
      "}\n",
      "```\n"
     ]
    },
    {
     "name": "stderr",
     "output_type": "stream",
     "text": [
      "Classifying with Ollama:  19%|███▏             | 19/100 [02:21<11:28,  8.49s/it]"
     ]
    },
    {
     "name": "stdout",
     "output_type": "stream",
     "text": [
      "\n",
      "MODEL RESPONSE:\n",
      "```json\n",
      "{\n",
      "  \"polar_score\": 3,\n",
      "  \"pole_label\": \"left\",\n",
      "  \"valid\": 1,\n",
      "  \"comments\": \"Criticizing Trump's behavior during a debate aligns with left-leaning viewpoints.\"\n",
      "}\n",
      "```\n"
     ]
    },
    {
     "name": "stderr",
     "output_type": "stream",
     "text": [
      "Classifying with Ollama:  20%|███▍             | 20/100 [02:27<10:39,  7.99s/it]"
     ]
    },
    {
     "name": "stdout",
     "output_type": "stream",
     "text": [
      "\n",
      "MODEL RESPONSE:\n",
      "```json\n",
      "{\n",
      "  \"polar_score\": -3,\n",
      "  \"pole_label\": \"right\",\n",
      "  \"valid\": 1,\n",
      "  \"comments\": \"Expresses disapproval of Trump's political alignment and criticizes both candidates from a conservative perspective.\"\n",
      "}\n",
      "```\n"
     ]
    },
    {
     "name": "stderr",
     "output_type": "stream",
     "text": [
      "Classifying with Ollama:  21%|███▌             | 21/100 [02:35<10:28,  7.95s/it]"
     ]
    },
    {
     "name": "stdout",
     "output_type": "stream",
     "text": [
      "\n",
      "MODEL RESPONSE:\n",
      "```json\n",
      "{\n",
      "  \"polar_score\": 3,\n",
      "  \"pole_label\": \"left\",\n",
      "  \"valid\": 1,\n",
      "  \"comments\": \"Implies a negative action by Trump, potentially aligning with a left-leaning perspective.\"\n",
      "}\n",
      "```\n"
     ]
    },
    {
     "name": "stderr",
     "output_type": "stream",
     "text": [
      "Classifying with Ollama:  22%|███▋             | 22/100 [02:42<10:00,  7.70s/it]"
     ]
    },
    {
     "name": "stdout",
     "output_type": "stream",
     "text": [
      "\n",
      "MODEL RESPONSE:\n",
      "```json\n",
      "{\n",
      "  \"polar_score\": 2,\n",
      "  \"pole_label\": \"right\",\n",
      "  \"valid\": 1,\n",
      "  \"comments\": \"References Trump, indicating a right-leaning sentiment.\"\n",
      "}\n",
      "```\n"
     ]
    },
    {
     "name": "stderr",
     "output_type": "stream",
     "text": [
      "Classifying with Ollama:  23%|███▉             | 23/100 [02:50<09:49,  7.66s/it]"
     ]
    },
    {
     "name": "stdout",
     "output_type": "stream",
     "text": [
      "\n",
      "MODEL RESPONSE:\n",
      "```json\n",
      "{\n",
      "  \"polar_score\": 5,\n",
      "  \"pole_label\": \"right\",\n",
      "  \"valid\": 1,\n",
      "  \"comments\": \"References Trump and claims of DOJ lawfare, common themes in right-wing political discourse.\"\n",
      "}\n",
      "```\n"
     ]
    },
    {
     "name": "stderr",
     "output_type": "stream",
     "text": [
      "Classifying with Ollama:  24%|████             | 24/100 [02:57<09:19,  7.37s/it]"
     ]
    },
    {
     "name": "stdout",
     "output_type": "stream",
     "text": [
      "\n",
      "MODEL RESPONSE:\n",
      "```json\n",
      "{\n",
      "  \"polar_score\": -5,\n",
      "  \"pole_label\": \"left\",\n",
      "  \"valid\": 1,\n",
      "  \"comments\": \"Strongly negative portrayal of Donald Trump and alleges association with the Taliban; aligns with left-leaning narratives.\"\n",
      "}\n",
      "```\n"
     ]
    },
    {
     "name": "stderr",
     "output_type": "stream",
     "text": [
      "Classifying with Ollama:  25%|████▎            | 25/100 [03:04<09:13,  7.39s/it]"
     ]
    },
    {
     "name": "stdout",
     "output_type": "stream",
     "text": [
      "\n",
      "MODEL RESPONSE:\n",
      "```json\n",
      "{\n",
      "  \"polar_score\": 5,\n",
      "  \"pole_label\": \"right\",\n",
      "  \"valid\": 1,\n",
      "  \"comments\": \"Criticizes Kamala Harris and implies Trump is handling crime better, aligning with a right-leaning perspective.\"\n",
      "}\n",
      "```\n"
     ]
    },
    {
     "name": "stderr",
     "output_type": "stream",
     "text": [
      "Classifying with Ollama:  26%|████▍            | 26/100 [03:12<09:16,  7.52s/it]"
     ]
    },
    {
     "name": "stdout",
     "output_type": "stream",
     "text": [
      "\n",
      "MODEL RESPONSE:\n",
      "```json\n",
      "{\n",
      "  \"polar_score\": 1,\n",
      "  \"pole_label\": \"left\",\n",
      "  \"valid\": 1,\n",
      "  \"comments\": \"Discusses a legal challenge to a search warrant related to Trump, a core topic in US political debate. Slightly left-leaning due to criticism of Trump.\"\n",
      "}\n",
      "```\n"
     ]
    },
    {
     "name": "stderr",
     "output_type": "stream",
     "text": [
      "Classifying with Ollama:  27%|████▌            | 27/100 [03:21<09:46,  8.03s/it]"
     ]
    },
    {
     "name": "stdout",
     "output_type": "stream",
     "text": [
      "\n",
      "MODEL RESPONSE:\n",
      "```json\n",
      "{\n",
      "  \"polar_score\": 3,\n",
      "  \"pole_label\": \"right\",\n",
      "  \"valid\": 1,\n",
      "  \"comments\": \"Discusses political alignment and criticism of both Harris and Trump, referencing Robert Kennedy Jr.'s perspective; leans right due to criticism of Harris and discussion of Trump's appeal.\"\n",
      "}\n",
      "```\n"
     ]
    },
    {
     "name": "stderr",
     "output_type": "stream",
     "text": [
      "Classifying with Ollama:  28%|████▊            | 28/100 [03:30<10:01,  8.36s/it]"
     ]
    },
    {
     "name": "stdout",
     "output_type": "stream",
     "text": [
      "\n",
      "MODEL RESPONSE:\n",
      "```json\n",
      "{\n",
      "  \"polar_score\": -4,\n",
      "  \"pole_label\": \"left\",\n",
      "  \"valid\": 1,\n",
      "  \"comments\": \"Criticizes Biden's statement on troop deaths in Afghanistan; likely to be viewed negatively by right-leaning individuals.\"\n",
      "}\n",
      "```\n"
     ]
    },
    {
     "name": "stderr",
     "output_type": "stream",
     "text": [
      "Classifying with Ollama:  29%|████▉            | 29/100 [03:38<09:43,  8.22s/it]"
     ]
    },
    {
     "name": "stdout",
     "output_type": "stream",
     "text": [
      "\n",
      "MODEL RESPONSE:\n",
      "```json\n",
      "{\n",
      "  \"polar_score\": -4,\n",
      "  \"pole_label\": \"left\",\n",
      "  \"valid\": 1,\n",
      "  \"comments\": \"Criticizes Trump, aligns with a left-leaning perspective.\"\n",
      "}\n",
      "```\n"
     ]
    },
    {
     "name": "stderr",
     "output_type": "stream",
     "text": [
      "Classifying with Ollama:  30%|█████            | 30/100 [03:45<09:06,  7.81s/it]"
     ]
    },
    {
     "name": "stdout",
     "output_type": "stream",
     "text": [
      "\n",
      "MODEL RESPONSE:\n",
      "```json\n",
      "{\n",
      "  \"polar_score\": -5,\n",
      "  \"pole_label\": \"left\",\n",
      "  \"valid\": 1,\n",
      "  \"comments\": \"Critiques Donald Trump, a common theme in left-leaning political commentary.\"\n",
      "}\n",
      "```\n"
     ]
    },
    {
     "name": "stderr",
     "output_type": "stream",
     "text": [
      "Classifying with Ollama:  31%|█████▎           | 31/100 [03:52<08:43,  7.58s/it]"
     ]
    },
    {
     "name": "stdout",
     "output_type": "stream",
     "text": [
      "\n",
      "MODEL RESPONSE:\n",
      "```json\n",
      "{\n",
      "  \"polar_score\": 3,\n",
      "  \"pole_label\": \"right\",\n",
      "  \"valid\": 1,\n",
      "  \"comments\": \"Criticizes Trump's debate performance; aligns with right-leaning commentary.\"\n",
      "}\n",
      "```\n"
     ]
    },
    {
     "name": "stderr",
     "output_type": "stream",
     "text": [
      "Classifying with Ollama:  32%|█████▍           | 32/100 [03:59<08:21,  7.37s/it]"
     ]
    },
    {
     "name": "stdout",
     "output_type": "stream",
     "text": [
      "\n",
      "MODEL RESPONSE:\n",
      "```json\n",
      "{\n",
      "  \"polar_score\": 5,\n",
      "  \"pole_label\": \"right\",\n",
      "  \"valid\": 1,\n",
      "  \"comments\": \"Expresses support for Donald Trump and alleges election rigging, common themes in right-wing political discourse.\"\n",
      "}\n",
      "```\n"
     ]
    },
    {
     "name": "stderr",
     "output_type": "stream",
     "text": [
      "Classifying with Ollama:  33%|█████▌           | 33/100 [04:07<08:17,  7.42s/it]"
     ]
    },
    {
     "name": "stdout",
     "output_type": "stream",
     "text": [
      "\n",
      "MODEL RESPONSE:\n",
      "```json\n",
      "{\n",
      "  \"polar_score\": 6,\n",
      "  \"pole_label\": \"right\",\n",
      "  \"valid\": 1,\n",
      "  \"comments\": \"Strongly partisan framing of both candidates' rhetoric, emphasizing negative portrayals and nationalistic themes.\"\n",
      "}\n",
      "```\n"
     ]
    },
    {
     "name": "stderr",
     "output_type": "stream",
     "text": [
      "Classifying with Ollama:  34%|█████▊           | 34/100 [04:14<08:16,  7.52s/it]"
     ]
    },
    {
     "name": "stdout",
     "output_type": "stream",
     "text": [
      "\n",
      "MODEL RESPONSE:\n",
      "```json\n",
      "{\n",
      "  \"polar_score\": 3,\n",
      "  \"pole_label\": \"right\",\n",
      "  \"valid\": 1,\n",
      "  \"comments\": \"Criticizes Biden and aligns with a conservative stance on border policy.\"\n",
      "}\n",
      "```\n"
     ]
    },
    {
     "name": "stderr",
     "output_type": "stream",
     "text": [
      "Classifying with Ollama:  35%|█████▉           | 35/100 [04:21<07:58,  7.36s/it]"
     ]
    },
    {
     "name": "stdout",
     "output_type": "stream",
     "text": [
      "\n",
      "MODEL RESPONSE:\n",
      "```json\n",
      "{\n",
      "  \"polar_score\": 6,\n",
      "  \"pole_label\": \"right\",\n",
      "  \"valid\": 1,\n",
      "  \"comments\": \"Strongly opinionated and focused on a contentious issue in the U.S. political debate (abortion).\"\n",
      "}\n",
      "```\n"
     ]
    },
    {
     "name": "stderr",
     "output_type": "stream",
     "text": [
      "Classifying with Ollama:  36%|██████           | 36/100 [04:29<07:56,  7.44s/it]"
     ]
    },
    {
     "name": "stdout",
     "output_type": "stream",
     "text": [
      "\n",
      "MODEL RESPONSE:\n",
      "```json\n",
      "{\n",
      "  \"polar_score\": -6,\n",
      "  \"pole_label\": \"left\",\n",
      "  \"valid\": 1,\n",
      "  \"comments\": \"Strongly negative sentiment towards Donald Trump, referencing election results.\"\n",
      "}\n",
      "```\n"
     ]
    },
    {
     "name": "stderr",
     "output_type": "stream",
     "text": [
      "Classifying with Ollama:  37%|██████▎          | 37/100 [04:36<07:36,  7.24s/it]"
     ]
    },
    {
     "name": "stdout",
     "output_type": "stream",
     "text": [
      "\n",
      "MODEL RESPONSE:\n",
      "```json\n",
      "{\n",
      "  \"polar_score\": -5,\n",
      "  \"pole_label\": \"right\",\n",
      "  \"valid\": 1,\n",
      "  \"comments\": \"Claims about Pelosi's daughter and January 6th are frequently used in right-wing political discourse; highly partisan and controversial.\"\n",
      "}\n",
      "```\n"
     ]
    },
    {
     "name": "stderr",
     "output_type": "stream",
     "text": [
      "Classifying with Ollama:  38%|██████▍          | 38/100 [04:44<07:45,  7.51s/it]"
     ]
    },
    {
     "name": "stdout",
     "output_type": "stream",
     "text": [
      "\n",
      "MODEL RESPONSE:\n",
      "```json\n",
      "{\n",
      "  \"polar_score\": 3,\n",
      "  \"pole_label\": \"right\",\n",
      "  \"valid\": 1,\n",
      "  \"comments\": \"Expresses a favorable view of Trump and a negative view of Biden, referencing betting odds to suggest Trump's likelihood of winning.\"\n",
      "}\n",
      "```\n"
     ]
    },
    {
     "name": "stderr",
     "output_type": "stream",
     "text": [
      "Classifying with Ollama:  39%|██████▋          | 39/100 [04:52<07:52,  7.74s/it]"
     ]
    },
    {
     "name": "stdout",
     "output_type": "stream",
     "text": [
      "\n",
      "MODEL RESPONSE:\n",
      "```json\n",
      "{\n",
      "  \"polar_score\": 2,\n",
      "  \"pole_label\": \"left\",\n",
      "  \"valid\": 1,\n",
      "  \"comments\": \"Satirical take on Trump; likely to be viewed negatively by right-leaning audiences.\"\n",
      "}\n",
      "```\n"
     ]
    },
    {
     "name": "stderr",
     "output_type": "stream",
     "text": [
      "Classifying with Ollama:  40%|██████▊          | 40/100 [05:00<07:46,  7.78s/it]"
     ]
    },
    {
     "name": "stdout",
     "output_type": "stream",
     "text": [
      "\n",
      "MODEL RESPONSE:\n",
      "```json\n",
      "{\n",
      "  \"polar_score\": -5,\n",
      "  \"pole_label\": \"left\",\n",
      "  \"valid\": 1,\n",
      "  \"comments\": \"Critiques a statement by Kamala Harris regarding Roe v. Wade, aligning with a left-leaning perspective.\"\n",
      "}\n",
      "```\n"
     ]
    },
    {
     "name": "stderr",
     "output_type": "stream",
     "text": [
      "Classifying with Ollama:  41%|██████▉          | 41/100 [05:08<07:37,  7.76s/it]"
     ]
    },
    {
     "name": "stdout",
     "output_type": "stream",
     "text": [
      "\n",
      "MODEL RESPONSE:\n",
      "```json\n",
      "{\n",
      "  \"polar_score\": -5,\n",
      "  \"pole_label\": \"left\",\n",
      "  \"valid\": 1,\n",
      "  \"comments\": \"Strongly worded criticism of Trump, referencing abortion and gun laws. Clearly partisan.\"\n",
      "}\n",
      "```\n"
     ]
    },
    {
     "name": "stderr",
     "output_type": "stream",
     "text": [
      "Classifying with Ollama:  42%|███████▏         | 42/100 [05:15<07:21,  7.61s/it]"
     ]
    },
    {
     "name": "stdout",
     "output_type": "stream",
     "text": [
      "\n",
      "MODEL RESPONSE:\n",
      "```json\n",
      "{\n",
      "  \"polar_score\": -6,\n",
      "  \"pole_label\": \"left\",\n",
      "  \"valid\": 1,\n",
      "  \"comments\": \"Strongly critical of a former president, aligning with a left-leaning perspective.\"\n",
      "}\n",
      "```\n"
     ]
    },
    {
     "name": "stderr",
     "output_type": "stream",
     "text": [
      "Classifying with Ollama:  43%|███████▎         | 43/100 [05:22<07:04,  7.45s/it]"
     ]
    },
    {
     "name": "stdout",
     "output_type": "stream",
     "text": [
      "\n",
      "MODEL RESPONSE:\n",
      "```json\n",
      "{\n",
      "  \"polar_score\": 4,\n",
      "  \"pole_label\": \"left\",\n",
      "  \"valid\": 1,\n",
      "  \"comments\": \"Discusses US political figures (Trump, Harris) and a foreign policy issue with strong political implications.\"\n",
      "}\n",
      "```\n"
     ]
    },
    {
     "name": "stderr",
     "output_type": "stream",
     "text": [
      "Classifying with Ollama:  44%|███████▍         | 44/100 [05:30<07:00,  7.50s/it]"
     ]
    },
    {
     "name": "stdout",
     "output_type": "stream",
     "text": [
      "\n",
      "MODEL RESPONSE:\n",
      "```json\n",
      "{\n",
      "  \"polar_score\": 2,\n",
      "  \"pole_label\": \"left\",\n",
      "  \"valid\": 1,\n",
      "  \"comments\": \"References Bernie Sanders and Trump, suggesting a response to rallies, indicating engagement in political discourse.\"\n",
      "}\n",
      "```\n"
     ]
    },
    {
     "name": "stderr",
     "output_type": "stream",
     "text": [
      "Classifying with Ollama:  45%|███████▋         | 45/100 [05:37<06:50,  7.46s/it]"
     ]
    },
    {
     "name": "stdout",
     "output_type": "stream",
     "text": [
      "\n",
      "MODEL RESPONSE:\n",
      "```json\n",
      "{\n",
      "  \"polar_score\": -5,\n",
      "  \"pole_label\": \"left\",\n",
      "  \"valid\": 1,\n",
      "  \"comments\": \"Accusation of Kamala Harris's campaign partnering with an 'antifa brewery' - highly partisan and negative portrayal.\"\n",
      "}\n",
      "```\n"
     ]
    },
    {
     "name": "stderr",
     "output_type": "stream",
     "text": [
      "Classifying with Ollama:  46%|███████▊         | 46/100 [05:46<07:02,  7.82s/it]"
     ]
    },
    {
     "name": "stdout",
     "output_type": "stream",
     "text": [
      "\n",
      "MODEL RESPONSE:\n",
      "```json\n",
      "{\n",
      "  \"polar_score\": 4,\n",
      "  \"pole_label\": \"right\",\n",
      "  \"valid\": 1,\n",
      "  \"comments\": \"Reports a shift in support towards a Republican candidate, indicating a right-leaning sentiment.\"\n",
      "}\n",
      "```\n"
     ]
    },
    {
     "name": "stderr",
     "output_type": "stream",
     "text": [
      "Classifying with Ollama:  47%|███████▉         | 47/100 [05:53<06:45,  7.65s/it]"
     ]
    },
    {
     "name": "stdout",
     "output_type": "stream",
     "text": [
      "\n",
      "MODEL RESPONSE:\n",
      "```json\n",
      "{\n",
      "  \"polar_score\": -5,\n",
      "  \"pole_label\": \"right\",\n",
      "  \"valid\": 1,\n",
      "  \"comments\": \"Criticizes Biden's spending priorities, contrasting aid to Ukraine with funding for Black colleges; aligns with right-wing critique of foreign aid.\"\n",
      "}\n",
      "```\n"
     ]
    },
    {
     "name": "stderr",
     "output_type": "stream",
     "text": [
      "Classifying with Ollama:  48%|████████▏        | 48/100 [06:01<06:48,  7.86s/it]"
     ]
    },
    {
     "name": "stdout",
     "output_type": "stream",
     "text": [
      "\n",
      "MODEL RESPONSE:\n",
      "```json\n",
      "{\n",
      "  \"polar_score\": 6,\n",
      "  \"pole_label\": \"right\",\n",
      "  \"valid\": 1,\n",
      "  \"comments\": \"Explicitly mentions Trump, conservative voices, and Arizona GOP, indicating strong right-leaning political content.\"\n",
      "}\n",
      "```\n"
     ]
    },
    {
     "name": "stderr",
     "output_type": "stream",
     "text": [
      "Classifying with Ollama:  49%|████████▎        | 49/100 [06:09<06:44,  7.93s/it]"
     ]
    },
    {
     "name": "stdout",
     "output_type": "stream",
     "text": [
      "\n",
      "MODEL RESPONSE:\n",
      "```json\n",
      "{\n",
      "  \"polar_score\": 5,\n",
      "  \"pole_label\": \"right\",\n",
      "  \"valid\": 1,\n",
      "  \"comments\": \"Right-leaning framing of Trump's actions and a polarizing question.\"\n",
      "}\n",
      "```\n"
     ]
    },
    {
     "name": "stderr",
     "output_type": "stream",
     "text": [
      "Classifying with Ollama:  50%|████████▌        | 50/100 [06:16<06:20,  7.60s/it]"
     ]
    },
    {
     "name": "stdout",
     "output_type": "stream",
     "text": [
      "\n",
      "MODEL RESPONSE:\n",
      "```json\n",
      "{\n",
      "  \"polar_score\": -6,\n",
      "  \"pole_label\": \"left\",\n",
      "  \"valid\": 1,\n",
      "  \"comments\": \"Strongly negative sentiment towards Trump, praising Harris. Uses inflammatory language.\"\n",
      "}\n",
      "```\n"
     ]
    },
    {
     "name": "stderr",
     "output_type": "stream",
     "text": [
      "Classifying with Ollama:  51%|████████▋        | 51/100 [06:23<06:02,  7.39s/it]"
     ]
    },
    {
     "name": "stdout",
     "output_type": "stream",
     "text": [
      "\n",
      "MODEL RESPONSE:\n",
      "```json\n",
      "{\n",
      "  \"polar_score\": 6,\n",
      "  \"pole_label\": \"right\",\n",
      "  \"valid\": 1,\n",
      "  \"comments\": \"Strong endorsement of Donald Trump and MTG, advocating for a specific action and promoting viral spread. Clearly within the U.S. political debate.\"\n",
      "}\n",
      "```\n"
     ]
    },
    {
     "name": "stderr",
     "output_type": "stream",
     "text": [
      "Classifying with Ollama:  52%|████████▊        | 52/100 [06:31<06:08,  7.68s/it]"
     ]
    },
    {
     "name": "stdout",
     "output_type": "stream",
     "text": [
      "\n",
      "MODEL RESPONSE:\n",
      "```json\n",
      "{\n",
      "  \"polar_score\": -5,\n",
      "  \"pole_label\": \"left\",\n",
      "  \"valid\": 1,\n",
      "  \"comments\": \"Strongly critical of Trump, referencing COVID-19 response and debate performance. Left-leaning sentiment.\"\n",
      "}\n",
      "```\n"
     ]
    },
    {
     "name": "stderr",
     "output_type": "stream",
     "text": [
      "Classifying with Ollama:  53%|█████████        | 53/100 [06:39<06:06,  7.79s/it]"
     ]
    },
    {
     "name": "stdout",
     "output_type": "stream",
     "text": [
      "\n",
      "MODEL RESPONSE:\n",
      "```json\n",
      "{\n",
      "  \"polar_score\": 4,\n",
      "  \"pole_label\": \"left\",\n",
      "  \"valid\": 1,\n",
      "  \"comments\": \"Clearly partisan commentary regarding a political event (debate) and candidate performance.\"\n",
      "}\n",
      "```\n"
     ]
    },
    {
     "name": "stderr",
     "output_type": "stream",
     "text": [
      "Classifying with Ollama:  54%|█████████▏       | 54/100 [06:46<05:44,  7.50s/it]"
     ]
    },
    {
     "name": "stdout",
     "output_type": "stream",
     "text": [
      "\n",
      "MODEL RESPONSE:\n",
      "```json\n",
      "{\n",
      "  \"polar_score\": -4,\n",
      "  \"pole_label\": \"left\",\n",
      "  \"valid\": 1,\n",
      "  \"comments\": \"Criticizes Trump, aligning with a left-leaning perspective.\"\n",
      "}\n",
      "```\n"
     ]
    },
    {
     "name": "stderr",
     "output_type": "stream",
     "text": [
      "Classifying with Ollama:  55%|█████████▎       | 55/100 [06:53<05:20,  7.13s/it]"
     ]
    },
    {
     "name": "stdout",
     "output_type": "stream",
     "text": [
      "\n",
      "MODEL RESPONSE:\n",
      "```json\n",
      "{\n",
      "  \"polar_score\": 6,\n",
      "  \"pole_label\": \"right\",\n",
      "  \"valid\": 1,\n",
      "  \"comments\": \"Strongly opinionated right-wing tweet criticizing media coverage of Trump and Harris, referencing controversial events and accusations.\"\n",
      "}\n",
      "```\n"
     ]
    },
    {
     "name": "stderr",
     "output_type": "stream",
     "text": [
      "Classifying with Ollama:  56%|█████████▌       | 56/100 [07:00<05:23,  7.36s/it]"
     ]
    },
    {
     "name": "stdout",
     "output_type": "stream",
     "text": [
      "\n",
      "MODEL RESPONSE:\n",
      "```json\n",
      "{\n",
      "  \"polar_score\": -5,\n",
      "  \"pole_label\": \"left\",\n",
      "  \"valid\": 1,\n",
      "  \"comments\": \"Criticizes Trump's perceived lack of concern for important social issues, a common left-leaning critique.\"\n",
      "}\n",
      "```\n"
     ]
    },
    {
     "name": "stderr",
     "output_type": "stream",
     "text": [
      "Classifying with Ollama:  57%|█████████▋       | 57/100 [07:08<05:20,  7.46s/it]"
     ]
    },
    {
     "name": "stdout",
     "output_type": "stream",
     "text": [
      "\n",
      "MODEL RESPONSE:\n",
      "```json\n",
      "{\n",
      "  \"polar_score\": 5,\n",
      "  \"pole_label\": \"left\",\n",
      "  \"valid\": 1,\n",
      "  \"comments\": \"Strongly supports Kamala Harris and frames her as a future president, clearly partisan.\"\n",
      "}\n",
      "```\n"
     ]
    },
    {
     "name": "stderr",
     "output_type": "stream",
     "text": [
      "Classifying with Ollama:  58%|█████████▊       | 58/100 [07:15<05:09,  7.38s/it]"
     ]
    },
    {
     "name": "stdout",
     "output_type": "stream",
     "text": [
      "\n",
      "MODEL RESPONSE:\n",
      "```json\n",
      "{\n",
      "  \"polar_score\": -3,\n",
      "  \"pole_label\": \"left\",\n",
      "  \"valid\": 1,\n",
      "  \"comments\": \"Blames Harris for rising prices; aligns with a common left-leaning critique of the administration.\"\n",
      "}\n",
      "```\n"
     ]
    },
    {
     "name": "stderr",
     "output_type": "stream",
     "text": [
      "Classifying with Ollama:  59%|██████████       | 59/100 [07:24<05:14,  7.67s/it]"
     ]
    },
    {
     "name": "stdout",
     "output_type": "stream",
     "text": [
      "\n",
      "MODEL RESPONSE:\n",
      "```json\n",
      "{\n",
      "  \"polar_score\": -6,\n",
      "  \"pole_label\": \"left\",\n",
      "  \"valid\": 1,\n",
      "  \"comments\": \"Strongly negative sentiment towards Trump, advocating for online promotion.\"\n",
      "}\n",
      "```\n"
     ]
    },
    {
     "name": "stderr",
     "output_type": "stream",
     "text": [
      "Classifying with Ollama:  60%|██████████▏      | 60/100 [07:31<04:57,  7.43s/it]"
     ]
    },
    {
     "name": "stdout",
     "output_type": "stream",
     "text": [
      "\n",
      "MODEL RESPONSE:\n",
      "```json\n",
      "{\n",
      "  \"polar_score\": -5,\n",
      "  \"pole_label\": \"left\",\n",
      "  \"valid\": 1,\n",
      "  \"comments\": \"Critiques Trump's actions (inviting Taliban) and implies disapproval of Harris.\"\n",
      "}\n",
      "```\n"
     ]
    },
    {
     "name": "stderr",
     "output_type": "stream",
     "text": [
      "Classifying with Ollama:  61%|██████████▎      | 61/100 [07:38<04:49,  7.44s/it]"
     ]
    },
    {
     "name": "stdout",
     "output_type": "stream",
     "text": [
      "\n",
      "MODEL RESPONSE:\n",
      "```json\n",
      "{\n",
      "  \"polar_score\": 0,\n",
      "  \"pole_label\": \"neutral\",\n",
      "  \"valid\": 1,\n",
      "  \"comments\": \"Reporting on a political event.\"\n",
      "}\n",
      "```\n"
     ]
    },
    {
     "name": "stderr",
     "output_type": "stream",
     "text": [
      "Classifying with Ollama:  62%|██████████▌      | 62/100 [07:44<04:31,  7.14s/it]"
     ]
    },
    {
     "name": "stdout",
     "output_type": "stream",
     "text": [
      "\n",
      "MODEL RESPONSE:\n",
      "```json\n",
      "{\n",
      "  \"polar_score\": 2,\n",
      "  \"pole_label\": \"right\",\n",
      "  \"valid\": 1,\n",
      "  \"comments\": \"References Trump and a debate, indicating alignment with the right.\"\n",
      "}\n",
      "```\n"
     ]
    },
    {
     "name": "stderr",
     "output_type": "stream",
     "text": [
      "Classifying with Ollama:  63%|██████████▋      | 63/100 [07:51<04:19,  7.01s/it]"
     ]
    },
    {
     "name": "stdout",
     "output_type": "stream",
     "text": [
      "\n",
      "MODEL RESPONSE:\n",
      "```json\n",
      "{\n",
      "  \"polar_score\": -6,\n",
      "  \"pole_label\": \"left\",\n",
      "  \"valid\": 1,\n",
      "  \"comments\": \"Strongly negative and partisan language attacking Trump; references a debate and Kamala Harris, central to US political discourse.\"\n",
      "}\n",
      "```\n"
     ]
    },
    {
     "name": "stderr",
     "output_type": "stream",
     "text": [
      "Classifying with Ollama:  64%|██████████▉      | 64/100 [08:00<04:26,  7.41s/it]"
     ]
    },
    {
     "name": "stdout",
     "output_type": "stream",
     "text": [
      "\n",
      "MODEL RESPONSE:\n",
      "```json\n",
      "{\n",
      "  \"polar_score\": -6,\n",
      "  \"pole_label\": \"left\",\n",
      "  \"valid\": 1,\n",
      "  \"comments\": \"Strongly critical of Trump and right-wing media.\"\n",
      "}\n",
      "```\n"
     ]
    },
    {
     "name": "stderr",
     "output_type": "stream",
     "text": [
      "Classifying with Ollama:  65%|███████████      | 65/100 [08:07<04:16,  7.32s/it]"
     ]
    },
    {
     "name": "stdout",
     "output_type": "stream",
     "text": [
      "\n",
      "MODEL RESPONSE:\n",
      "```json\n",
      "{\n",
      "  \"polar_score\": 5,\n",
      "  \"pole_label\": \"right\",\n",
      "  \"valid\": 1,\n",
      "  \"comments\": \"Strongly right-leaning commentary criticizing Kamala Harris and defending Trump's statement about Nazis.\"\n",
      "}\n",
      "```\n"
     ]
    },
    {
     "name": "stderr",
     "output_type": "stream",
     "text": [
      "Classifying with Ollama:  66%|███████████▏     | 66/100 [08:14<04:14,  7.48s/it]"
     ]
    },
    {
     "name": "stdout",
     "output_type": "stream",
     "text": [
      "\n",
      "MODEL RESPONSE:\n",
      "```json\n",
      "{\n",
      "  \"polar_score\": 7,\n",
      "  \"pole_label\": \"right\",\n",
      "  \"valid\": 1,\n",
      "  \"comments\": \"Strongly right-leaning commentary attacking Kamala Harris and criticizing media bias, referencing several highly politicized topics.\"\n",
      "}\n",
      "```\n"
     ]
    },
    {
     "name": "stderr",
     "output_type": "stream",
     "text": [
      "Classifying with Ollama:  67%|███████████▍     | 67/100 [08:23<04:12,  7.66s/it]"
     ]
    },
    {
     "name": "stdout",
     "output_type": "stream",
     "text": [
      "\n",
      "MODEL RESPONSE:\n",
      "```json\n",
      "{\n",
      "  \"polar_score\": -7,\n",
      "  \"pole_label\": \"left\",\n",
      "  \"valid\": 1,\n",
      "  \"comments\": \"Extremely negative and inflammatory language attacking a former U.S. president.\"\n",
      "}\n",
      "```\n"
     ]
    },
    {
     "name": "stderr",
     "output_type": "stream",
     "text": [
      "Classifying with Ollama:  68%|███████████▌     | 68/100 [08:30<03:59,  7.49s/it]"
     ]
    },
    {
     "name": "stdout",
     "output_type": "stream",
     "text": [
      "\n",
      "MODEL RESPONSE:\n",
      "```json\n",
      "{\n",
      "  \"polar_score\": 6,\n",
      "  \"pole_label\": \"right\",\n",
      "  \"valid\": 1,\n",
      "  \"comments\": \"Strongly right-leaning commentary attacking media and Democrats regarding a specific claim about Trump and Springfield. Contains accusations of propaganda and dishonesty.\"\n",
      "}\n",
      "```\n"
     ]
    },
    {
     "name": "stderr",
     "output_type": "stream",
     "text": [
      "Classifying with Ollama:  69%|███████████▋     | 69/100 [08:39<04:08,  8.01s/it]"
     ]
    },
    {
     "name": "stdout",
     "output_type": "stream",
     "text": [
      "\n",
      "MODEL RESPONSE:\n",
      "```json\n",
      "{\n",
      "  \"polar_score\": 5,\n",
      "  \"pole_label\": \"left\",\n",
      "  \"valid\": 1,\n",
      "  \"comments\": \"Critiques MAGA/Republican reaction to potential sentences for Hunter Biden and Donald Trump, indicating a left-leaning perspective.\"\n",
      "}\n",
      "```\n"
     ]
    },
    {
     "name": "stderr",
     "output_type": "stream",
     "text": [
      "Classifying with Ollama:  70%|███████████▉     | 70/100 [08:47<04:01,  8.05s/it]"
     ]
    },
    {
     "name": "stdout",
     "output_type": "stream",
     "text": [
      "\n",
      "MODEL RESPONSE:\n",
      "```json\n",
      "{\n",
      "  \"polar_score\": -5,\n",
      "  \"pole_label\": \"left\",\n",
      "  \"valid\": 1,\n",
      "  \"comments\": \"Criticizes Trump's COVID response and links it to debate viewership, demonstrating a negative sentiment towards the former president.\"\n",
      "}\n",
      "```\n"
     ]
    },
    {
     "name": "stderr",
     "output_type": "stream",
     "text": [
      "Classifying with Ollama:  71%|████████████     | 71/100 [08:55<03:54,  8.09s/it]"
     ]
    },
    {
     "name": "stdout",
     "output_type": "stream",
     "text": [
      "\n",
      "MODEL RESPONSE:\n",
      "```json\n",
      "{\n",
      "  \"polar_score\": 6,\n",
      "  \"pole_label\": \"right\",\n",
      "  \"valid\": 1,\n",
      "  \"comments\": \"Strong endorsement of Trump with explicitly stated identity and negative view of the current state of the country.\"\n",
      "}\n",
      "```\n"
     ]
    },
    {
     "name": "stderr",
     "output_type": "stream",
     "text": [
      "Classifying with Ollama:  72%|████████████▏    | 72/100 [09:03<03:40,  7.88s/it]"
     ]
    },
    {
     "name": "stdout",
     "output_type": "stream",
     "text": [
      "\n",
      "MODEL RESPONSE:\n",
      "```json\n",
      "{\n",
      "  \"polar_score\": 6,\n",
      "  \"pole_label\": \"right\",\n",
      "  \"valid\": 1,\n",
      "  \"comments\": \"Explicitly supports Trump.\"\n",
      "}\n",
      "```\n"
     ]
    },
    {
     "name": "stderr",
     "output_type": "stream",
     "text": [
      "Classifying with Ollama:  73%|████████████▍    | 73/100 [09:09<03:19,  7.40s/it]"
     ]
    },
    {
     "name": "stdout",
     "output_type": "stream",
     "text": [
      "\n",
      "MODEL RESPONSE:\n",
      "```json\n",
      "{\n",
      "  \"polar_score\": 5,\n",
      "  \"pole_label\": \"left\",\n",
      "  \"valid\": 1,\n",
      "  \"comments\": \"Strongly critical of Trump and accuses ABC of bias, aligning with left-leaning perspectives.\"\n",
      "}\n",
      "```\n"
     ]
    },
    {
     "name": "stderr",
     "output_type": "stream",
     "text": [
      "Classifying with Ollama:  74%|████████████▌    | 74/100 [09:17<03:15,  7.52s/it]"
     ]
    },
    {
     "name": "stdout",
     "output_type": "stream",
     "text": [
      "\n",
      "MODEL RESPONSE:\n",
      "```json\n",
      "{\n",
      "  \"polar_score\": 3,\n",
      "  \"pole_label\": \"left\",\n",
      "  \"valid\": 1,\n",
      "  \"comments\": \"Implies a negative action by Trump, a common topic in US political discourse.\"\n",
      "}\n",
      "```\n"
     ]
    },
    {
     "name": "stderr",
     "output_type": "stream",
     "text": [
      "Classifying with Ollama:  75%|████████████▊    | 75/100 [09:24<03:05,  7.42s/it]"
     ]
    },
    {
     "name": "stdout",
     "output_type": "stream",
     "text": [
      "\n",
      "MODEL RESPONSE:\n",
      "```json\n",
      "{\n",
      "  \"polar_score\": -6,\n",
      "  \"pole_label\": \"right\",\n",
      "  \"valid\": 1,\n",
      "  \"comments\": \"Strongly negative commentary on Biden's debate performance, characteristic of right-leaning political discourse.\"\n",
      "}\n",
      "```\n"
     ]
    },
    {
     "name": "stderr",
     "output_type": "stream",
     "text": [
      "Classifying with Ollama:  76%|████████████▉    | 76/100 [09:32<03:00,  7.50s/it]"
     ]
    },
    {
     "name": "stdout",
     "output_type": "stream",
     "text": [
      "\n",
      "MODEL RESPONSE:\n",
      "```json\n",
      "{\n",
      "  \"polar_score\": 2,\n",
      "  \"pole_label\": \"right\",\n",
      "  \"valid\": 1,\n",
      "  \"comments\": \"Expresses a positive sentiment toward Trump and a negative one toward Harris, referencing a debate.\"\n",
      "}\n",
      "```\n"
     ]
    },
    {
     "name": "stderr",
     "output_type": "stream",
     "text": [
      "Classifying with Ollama:  77%|█████████████    | 77/100 [09:39<02:53,  7.54s/it]"
     ]
    },
    {
     "name": "stdout",
     "output_type": "stream",
     "text": [
      "\n",
      "MODEL RESPONSE:\n",
      "```json\n",
      "{\n",
      "  \"polar_score\": -4,\n",
      "  \"pole_label\": \"right\",\n",
      "  \"valid\": 1,\n",
      "  \"comments\": \"Negative commentary about a prominent Democratic politician, indicating a right-leaning perspective.\"\n",
      "}\n",
      "```\n"
     ]
    },
    {
     "name": "stderr",
     "output_type": "stream",
     "text": [
      "Classifying with Ollama:  78%|█████████████▎   | 78/100 [09:46<02:42,  7.37s/it]"
     ]
    },
    {
     "name": "stdout",
     "output_type": "stream",
     "text": [
      "\n",
      "MODEL RESPONSE:\n",
      "```json\n",
      "{\n",
      "  \"polar_score\": 5,\n",
      "  \"pole_label\": \"right\",\n",
      "  \"valid\": 1,\n",
      "  \"comments\": \"Strongly opinionated, praising Trump and criticizing Kamala Harris, indicating a right-leaning perspective.\"\n",
      "}\n",
      "```\n"
     ]
    },
    {
     "name": "stderr",
     "output_type": "stream",
     "text": [
      "Classifying with Ollama:  79%|█████████████▍   | 79/100 [09:54<02:35,  7.39s/it]"
     ]
    },
    {
     "name": "stdout",
     "output_type": "stream",
     "text": [
      "\n",
      "MODEL RESPONSE:\n",
      "```json\n",
      "{\n",
      "  \"polar_score\": 3,\n",
      "  \"pole_label\": \"left\",\n",
      "  \"valid\": 1,\n",
      "  \"comments\": \"Endorsement of a Democratic candidate, discussing a political debate.\"\n",
      "}\n",
      "```\n"
     ]
    },
    {
     "name": "stderr",
     "output_type": "stream",
     "text": [
      "Classifying with Ollama:  80%|█████████████▌   | 80/100 [10:01<02:26,  7.31s/it]"
     ]
    },
    {
     "name": "stdout",
     "output_type": "stream",
     "text": [
      "\n",
      "MODEL RESPONSE:\n",
      "```json\n",
      "{\n",
      "  \"polar_score\": -6,\n",
      "  \"pole_label\": \"left\",\n",
      "  \"valid\": 1,\n",
      "  \"comments\": \"Highly sarcastic and critical of Trump, advocating for silencing and degrading him. Clearly aligns with a left-leaning perspective.\"\n",
      "}\n",
      "```\n"
     ]
    },
    {
     "name": "stderr",
     "output_type": "stream",
     "text": [
      "Classifying with Ollama:  81%|█████████████▊   | 81/100 [10:09<02:22,  7.48s/it]"
     ]
    },
    {
     "name": "stdout",
     "output_type": "stream",
     "text": [
      "\n",
      "MODEL RESPONSE:\n",
      "```json\n",
      "{\n",
      "  \"polar_score\": -5,\n",
      "  \"pole_label\": \"left\",\n",
      "  \"valid\": 1,\n",
      "  \"comments\": \"Focuses on abortion policy and directly contrasts Kamala Harris and Donald Trump's positions.\"\n",
      "}\n",
      "```\n"
     ]
    },
    {
     "name": "stderr",
     "output_type": "stream",
     "text": [
      "Classifying with Ollama:  82%|█████████████▉   | 82/100 [10:16<02:12,  7.33s/it]"
     ]
    },
    {
     "name": "stdout",
     "output_type": "stream",
     "text": [
      "\n",
      "MODEL RESPONSE:\n",
      "```json\n",
      "{\n",
      "  \"polar_score\": -2,\n",
      "  \"pole_label\": \"right\",\n",
      "  \"valid\": 1,\n",
      "  \"comments\": \"Criticizes Biden's health, a common right-leaning concern.\"\n",
      "}\n",
      "```\n"
     ]
    },
    {
     "name": "stderr",
     "output_type": "stream",
     "text": [
      "Classifying with Ollama:  83%|██████████████   | 83/100 [10:22<02:00,  7.11s/it]"
     ]
    },
    {
     "name": "stdout",
     "output_type": "stream",
     "text": [
      "\n",
      "MODEL RESPONSE:\n",
      "```json\n",
      "{\n",
      "  \"polar_score\": -2,\n",
      "  \"pole_label\": \"left\",\n",
      "  \"valid\": 1,\n",
      "  \"comments\": \"Explicit rejection of Biden suggests a left-leaning stance, given Biden's association with the Democratic party.\"\n",
      "}\n",
      "```\n"
     ]
    },
    {
     "name": "stderr",
     "output_type": "stream",
     "text": [
      "Classifying with Ollama:  84%|██████████████▎  | 84/100 [10:29<01:54,  7.15s/it]"
     ]
    },
    {
     "name": "stdout",
     "output_type": "stream",
     "text": [
      "\n",
      "MODEL RESPONSE:\n",
      "```json\n",
      "{\n",
      "  \"polar_score\": -6,\n",
      "  \"pole_label\": \"left\",\n",
      "  \"valid\": 1,\n",
      "  \"comments\": \"Strongly negative and derogatory language towards Trump, aligning with a left-leaning perspective.\"\n",
      "}\n",
      "```\n"
     ]
    },
    {
     "name": "stderr",
     "output_type": "stream",
     "text": [
      "Classifying with Ollama:  85%|██████████████▍  | 85/100 [10:36<01:46,  7.09s/it]"
     ]
    },
    {
     "name": "stdout",
     "output_type": "stream",
     "text": [
      "\n",
      "MODEL RESPONSE:\n",
      "```json\n",
      "{\n",
      "  \"polar_score\": -6,\n",
      "  \"pole_label\": \"left\",\n",
      "  \"valid\": 1,\n",
      "  \"comments\": \"Strongly negative statement about Donald Trump, referencing election results.\"\n",
      "}\n",
      "```\n"
     ]
    },
    {
     "name": "stderr",
     "output_type": "stream",
     "text": [
      "Classifying with Ollama:  86%|██████████████▌  | 86/100 [10:43<01:35,  6.83s/it]"
     ]
    },
    {
     "name": "stdout",
     "output_type": "stream",
     "text": [
      "\n",
      "MODEL RESPONSE:\n",
      "```json\n",
      "{\n",
      "  \"polar_score\": -3,\n",
      "  \"pole_label\": \"right\",\n",
      "  \"valid\": 1,\n",
      "  \"comments\": \"Criticizes Kamala Harris's inflation plan, reflecting a right-leaning perspective.\"\n",
      "}\n",
      "```\n"
     ]
    },
    {
     "name": "stderr",
     "output_type": "stream",
     "text": [
      "Classifying with Ollama:  87%|██████████████▊  | 87/100 [10:49<01:28,  6.83s/it]"
     ]
    },
    {
     "name": "stdout",
     "output_type": "stream",
     "text": [
      "\n",
      "MODEL RESPONSE:\n",
      "```json\n",
      "{\n",
      "  \"polar_score\": 5,\n",
      "  \"pole_label\": \"right\",\n",
      "  \"valid\": 1,\n",
      "  \"comments\": \"Strongly right-leaning sentiment criticizing Biden and promoting Trump's slogan.\"\n",
      "}\n",
      "```\n"
     ]
    },
    {
     "name": "stderr",
     "output_type": "stream",
     "text": [
      "Classifying with Ollama:  88%|██████████████▉  | 88/100 [10:56<01:20,  6.67s/it]"
     ]
    },
    {
     "name": "stdout",
     "output_type": "stream",
     "text": [
      "\n",
      "MODEL RESPONSE:\n",
      "```json\n",
      "{\n",
      "  \"polar_score\": -5,\n",
      "  \"pole_label\": \"right\",\n",
      "  \"valid\": 1,\n",
      "  \"comments\": \"Criticizes Biden's candidacy and impacts on Democrats' chances against Trump; right-leaning perspective.\"\n",
      "}\n",
      "```\n"
     ]
    },
    {
     "name": "stderr",
     "output_type": "stream",
     "text": [
      "Classifying with Ollama:  89%|███████████████▏ | 89/100 [11:03<01:14,  6.79s/it]"
     ]
    },
    {
     "name": "stdout",
     "output_type": "stream",
     "text": [
      "\n",
      "MODEL RESPONSE:\n",
      "```json\n",
      "{\n",
      "  \"polar_score\": 2,\n",
      "  \"pole_label\": \"right\",\n",
      "  \"valid\": 1,\n",
      "  \"comments\": \"References Trump and Biden, focusing on a rhetorical exchange, aligning with the right due to its subject matter.\"\n",
      "}\n",
      "```\n"
     ]
    },
    {
     "name": "stderr",
     "output_type": "stream",
     "text": [
      "Classifying with Ollama:  90%|███████████████▎ | 90/100 [11:10<01:07,  6.79s/it]"
     ]
    },
    {
     "name": "stdout",
     "output_type": "stream",
     "text": [
      "\n",
      "MODEL RESPONSE:\n",
      "```json\n",
      "{\n",
      "  \"polar_score\": -6,\n",
      "  \"pole_label\": \"left\",\n",
      "  \"valid\": 1,\n",
      "  \"comments\": \"Strongly negative sentiment towards Trump and a seemingly supportive, albeit vulgar, view of Biden. Reflects a partisan viewpoint on the upcoming debates.\"\n",
      "}\n",
      "```\n"
     ]
    },
    {
     "name": "stderr",
     "output_type": "stream",
     "text": [
      "Classifying with Ollama:  91%|███████████████▍ | 91/100 [11:17<01:02,  6.97s/it]"
     ]
    },
    {
     "name": "stdout",
     "output_type": "stream",
     "text": [
      "\n",
      "MODEL RESPONSE:\n",
      "```json\n",
      "{\n",
      "  \"polar_score\": -7,\n",
      "  \"pole_label\": \"left\",\n",
      "  \"valid\": 1,\n",
      "  \"comments\": \"Strongly negative and partisan attack on a political figure.\"\n",
      "}\n",
      "```\n"
     ]
    },
    {
     "name": "stderr",
     "output_type": "stream",
     "text": [
      "Classifying with Ollama:  92%|███████████████▋ | 92/100 [11:23<00:53,  6.66s/it]"
     ]
    },
    {
     "name": "stdout",
     "output_type": "stream",
     "text": [
      "\n",
      "MODEL RESPONSE:\n",
      "```json\n",
      "{\n",
      "  \"polar_score\": 1,\n",
      "  \"pole_label\": \"left\",\n",
      "  \"valid\": 1,\n",
      "  \"comments\": \"Mentions Trump, implying potential criticism or disagreement.\"\n",
      "}\n",
      "```\n"
     ]
    },
    {
     "name": "stderr",
     "output_type": "stream",
     "text": [
      "Classifying with Ollama:  93%|███████████████▊ | 93/100 [11:28<00:44,  6.32s/it]"
     ]
    },
    {
     "name": "stdout",
     "output_type": "stream",
     "text": [
      "\n",
      "MODEL RESPONSE:\n",
      "```json\n",
      "{\n",
      "  \"polar_score\": -4,\n",
      "  \"pole_label\": \"left\",\n",
      "  \"valid\": 1,\n",
      "  \"comments\": \"Criticizes a news anchor for perceived bias in interviewing Trump, implying unfair treatment compared to Harris. Left-leaning sentiment.\"\n",
      "}\n",
      "```\n"
     ]
    },
    {
     "name": "stderr",
     "output_type": "stream",
     "text": [
      "Classifying with Ollama:  94%|███████████████▉ | 94/100 [11:35<00:39,  6.52s/it]"
     ]
    },
    {
     "name": "stdout",
     "output_type": "stream",
     "text": [
      "\n",
      "MODEL RESPONSE:\n",
      "```json\n",
      "{\n",
      "  \"polar_score\": -6,\n",
      "  \"pole_label\": \"left\",\n",
      "  \"valid\": 1,\n",
      "  \"comments\": \"Strongly negative sentiment towards Trump's statement and the moderator's response, referencing a highly divisive political issue.\"\n",
      "}\n",
      "```\n"
     ]
    },
    {
     "name": "stderr",
     "output_type": "stream",
     "text": [
      "Classifying with Ollama:  95%|████████████████▏| 95/100 [11:42<00:33,  6.65s/it]"
     ]
    },
    {
     "name": "stdout",
     "output_type": "stream",
     "text": [
      "\n",
      "MODEL RESPONSE:\n",
      "```json\n",
      "{\n",
      "  \"polar_score\": -6,\n",
      "  \"pole_label\": \"left\",\n",
      "  \"valid\": 1,\n",
      "  \"comments\": \"Strongly negative sentiment towards Trump and positive towards Biden; explicitly references debates and U.S. political figures.\"\n",
      "}\n",
      "```\n"
     ]
    },
    {
     "name": "stderr",
     "output_type": "stream",
     "text": [
      "Classifying with Ollama:  96%|████████████████▎| 96/100 [11:49<00:27,  6.77s/it]"
     ]
    },
    {
     "name": "stdout",
     "output_type": "stream",
     "text": [
      "\n",
      "MODEL RESPONSE:\n",
      "```json\n",
      "{\n",
      "  \"polar_score\": -5,\n",
      "  \"pole_label\": \"left\",\n",
      "  \"valid\": 1,\n",
      "  \"comments\": \"Clearly critical of Trump and references a specific political figure (JD Vance), indicating engagement with US political debate.\"\n",
      "}\n",
      "```\n"
     ]
    },
    {
     "name": "stderr",
     "output_type": "stream",
     "text": [
      "Classifying with Ollama:  97%|████████████████▍| 97/100 [11:56<00:20,  6.75s/it]"
     ]
    },
    {
     "name": "stdout",
     "output_type": "stream",
     "text": [
      "\n",
      "MODEL RESPONSE:\n",
      "```json\n",
      "{\n",
      "  \"polar_score\": -6,\n",
      "  \"pole_label\": \"left\",\n",
      "  \"valid\": 1,\n",
      "  \"comments\": \"Strongly critical of Trump, aligns with left-leaning political discourse.\"\n",
      "}\n",
      "```\n"
     ]
    },
    {
     "name": "stderr",
     "output_type": "stream",
     "text": [
      "Classifying with Ollama:  98%|████████████████▋| 98/100 [12:02<00:13,  6.57s/it]"
     ]
    },
    {
     "name": "stdout",
     "output_type": "stream",
     "text": [
      "\n",
      "MODEL RESPONSE:\n",
      "```json\n",
      "{\n",
      "  \"polar_score\": -5,\n",
      "  \"pole_label\": \"left\",\n",
      "  \"valid\": 1,\n",
      "  \"comments\": \"Directly addresses a claim made by Trump regarding Biden's policy, with a counter-argument referencing Trump's past proposals. Strong partisan framing.\"\n",
      "}\n",
      "```\n"
     ]
    },
    {
     "name": "stderr",
     "output_type": "stream",
     "text": [
      "Classifying with Ollama:  99%|████████████████▊| 99/100 [12:10<00:06,  6.84s/it]"
     ]
    },
    {
     "name": "stdout",
     "output_type": "stream",
     "text": [
      "\n",
      "MODEL RESPONSE:\n",
      "```json\n",
      "{\n",
      "  \"polar_score\": 1,\n",
      "  \"pole_label\": \"left\",\n",
      "  \"valid\": 1,\n",
      "  \"comments\": \"Implies a negative view of Trump, advocating for time limits.\"\n",
      "}\n",
      "```\n"
     ]
    },
    {
     "name": "stderr",
     "output_type": "stream",
     "text": [
      "Classifying with Ollama: 100%|████████████████| 100/100 [12:16<00:00,  7.36s/it]"
     ]
    },
    {
     "name": "stdout",
     "output_type": "stream",
     "text": [
      "\n",
      "✅ Done! Labeled file saved to: data/sample/debate_tweets_sample_1000_for_annotation_labeled_ollama.csv\n"
     ]
    },
    {
     "name": "stderr",
     "output_type": "stream",
     "text": [
      "\n"
     ]
    }
   ],
   "source": [
    "import pandas as pd\n",
    "from tqdm import tqdm\n",
    "import json\n",
    "import time\n",
    "import re\n",
    "import ollama\n",
    "\n",
    "# path to sample df\n",
    "df_path = 'data/sample/debate_tweets_sample_1000_for_annotation.csv'\n",
    "df = pd.read_csv(df_path).sample(100, random_state=42).reset_index(drop=True)\n",
    "\n",
    "# Output columns\n",
    "polar_scores = []\n",
    "pole_labels = []\n",
    "valids = []\n",
    "comments_list = []\n",
    "\n",
    "# Prompt template for each tweet\n",
    "def build_prompt(text):\n",
    "    return f\"\"\"\n",
    "You are a political communication expert. For the following tweet, return only a valid JSON object with the following fields:\n",
    "\n",
    "- \"polar_score\": integer from -7 to +7, or \"INV\" if not relevant\n",
    "- \"pole_label\": \"left\", \"right\", \"neutral\", or \"inv\"\n",
    "- \"valid\": 1 if tweet is about the U.S. political debate, 0 if not\n",
    "- \"comments\": short rationale, or \"\" if unnecessary\n",
    "\n",
    "Tweet: \"{text}\"\n",
    "\n",
    "Strictly return only the JSON object. No explanation or introduction.\n",
    "\"\"\"\n",
    "\n",
    "# Safe JSON extraction function\n",
    "def safe_extract_json(raw_response):\n",
    "    try:\n",
    "        return json.loads(raw_response)\n",
    "    except json.JSONDecodeError:\n",
    "        match = re.search(r\"\\{.*?\\}\", raw_response, re.DOTALL)\n",
    "        if match:\n",
    "            try:\n",
    "                return json.loads(match.group())\n",
    "            except:\n",
    "                return None\n",
    "        return None\n",
    "\n",
    "# Main classification loop\n",
    "for text in tqdm(df['santext'], desc=\"Classifying with Ollama\"):\n",
    "    try:\n",
    "        prompt = build_prompt(text.strip())\n",
    "        response_obj = ollama.chat(\n",
    "            model='gemma3:12b',\n",
    "            messages=[\n",
    "                {\"role\": \"system\", \"content\": \"You are a helpful assistant for political tweet labeling.\"},\n",
    "                {\"role\": \"user\", \"content\": prompt}\n",
    "            ]\n",
    "        )\n",
    "\n",
    "        response_text = response_obj['message']['content'].strip()\n",
    "        print(f\"\\nMODEL RESPONSE:\\n{response_text}\")  # Debug print\n",
    "\n",
    "        result = safe_extract_json(response_text)\n",
    "\n",
    "        if result:\n",
    "            polar_scores.append(result.get(\"polar_score\", \"INV\"))\n",
    "            pole_labels.append(result.get(\"pole_label\", \"inv\"))\n",
    "            valids.append(result.get(\"valid\", 0))\n",
    "            comments_list.append(result.get(\"comments\", \"\"))\n",
    "        else:\n",
    "            print(\"Parse error.\")\n",
    "            polar_scores.append(\"INV\")\n",
    "            pole_labels.append(\"inv\")\n",
    "            valids.append(0)\n",
    "            comments_list.append(\"Parse error\")\n",
    "\n",
    "    except Exception as e:\n",
    "        print(f\"Error: {e}\")\n",
    "        polar_scores.append(\"INV\")\n",
    "        pole_labels.append(\"inv\")\n",
    "        valids.append(0)\n",
    "        comments_list.append(\"Execution error\")\n",
    "\n",
    "    time.sleep(1)  # Optional delay for pacing\n",
    "\n",
    "# Add columns to DataFrame\n",
    "df['polar_score'] = polar_scores\n",
    "df['pole_label'] = pole_labels\n",
    "df['valid'] = valids\n",
    "df['comments'] = comments_list\n",
    "\n",
    "# Save to labeled file\n",
    "output_path = df_path.replace(\".csv\", \"_labeled_ollama.csv\")\n",
    "df.to_csv(output_path, index=False)\n",
    "print(f\"\\n Labeled file saved to: {output_path}\")"
   ]
  },
  {
   "cell_type": "code",
   "execution_count": null,
   "id": "f4ae9124-443b-4f03-b754-b662887c1fe8",
   "metadata": {},
   "outputs": [],
   "source": []
  }
 ],
 "metadata": {
  "kernelspec": {
   "display_name": "Python [conda env:base] *",
   "language": "python",
   "name": "conda-base-py"
  },
  "language_info": {
   "codemirror_mode": {
    "name": "ipython",
    "version": 3
   },
   "file_extension": ".py",
   "mimetype": "text/x-python",
   "name": "python",
   "nbconvert_exporter": "python",
   "pygments_lexer": "ipython3",
   "version": "3.13.5"
  }
 },
 "nbformat": 4,
 "nbformat_minor": 5
}
